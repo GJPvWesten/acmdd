{
 "cells": [
  {
   "cell_type": "markdown",
   "metadata": {},
   "source": [
    "# Let's play the lottery \n",
    "\n",
    "because writing grant proposals just doesn't work"
   ]
  },
  {
   "cell_type": "markdown",
   "metadata": {},
   "source": [
    "There are some bugs in the code below, and you have to fix them. Run the code and have a good look at the error message. Fix the bug and run the code again. In the end, you should be able to win the lottery, if you buy enough tickets."
   ]
  },
  {
   "cell_type": "code",
   "execution_count": 2,
   "metadata": {},
   "outputs": [
    {
     "ename": "SyntaxError",
     "evalue": "unterminated string literal (detected at line 12) (3882777005.py, line 12)",
     "output_type": "error",
     "traceback": [
      "  \u001b[36mCell\u001b[39m\u001b[36m \u001b[39m\u001b[32mIn[2]\u001b[39m\u001b[32m, line 12\u001b[39m\n\u001b[31m    \u001b[39m\u001b[31mprint(Sorry, better luck next time...\")\u001b[39m\n                                         ^\n\u001b[31mSyntaxError\u001b[39m\u001b[31m:\u001b[39m unterminated string literal (detected at line 12)\n"
     ]
    }
   ],
   "source": [
    "import numpy as np \n",
    "\n",
    "def buy_tickets(n,nr_min=0,nr_max=1e9):\n",
    "    return np.random.randint(nr_min,nr_max,size=n)\n",
    "\n",
    "def draw_winner(nr_min=0,nr_max=1e9):\n",
    "    return np.random.randint(nr_min,1e9)\n",
    "\n",
    "def announce_results(tickets,winner):\n",
    "    print(\"Is one of your {} tickets a winner??\".format(len(tickets))\n",
    "    if winner in tickets:\n",
    "        print(\"Congratulations: you're a winner!!!!!\")\n",
    "    else\n",
    "        print(Sorry, better luck next time...\")\n",
    "\n",
    "def play_lottery(ntickets,nr_min=0,nr_max=1e9):\n",
    "    tickets = Buy_Tickets(nr_min,nr_max,ntickets)\n",
    "    winner = draw_winner(nr_min,nr_max)\n",
    "    announce_results(tickets,winner)\n",
    "\n",
    "play_lottery(ntickets,0,10)"
   ]
  },
  {
   "cell_type": "markdown",
   "metadata": {},
   "source": [
    "Notes for next year:\n",
    "\n",
    "* missing import may be too hard\n",
    "* functions are pretty complicated, make more explicit"
   ]
  },
  {
   "cell_type": "code",
   "execution_count": null,
   "metadata": {},
   "outputs": [],
   "source": []
  },
  {
   "cell_type": "code",
   "execution_count": null,
   "metadata": {},
   "outputs": [],
   "source": []
  }
 ],
 "metadata": {
  "hide_input": false,
  "jupytext": {
   "formats": "ipynb,py:percent"
  },
  "jupytext_formats": "ipynb,py",
  "kernelspec": {
   "display_name": "Python 3 (ipykernel)",
   "language": "python",
   "name": "python3"
  },
  "language_info": {
   "codemirror_mode": {
    "name": "ipython",
    "version": 3
   },
   "file_extension": ".py",
   "mimetype": "text/x-python",
   "name": "python",
   "nbconvert_exporter": "python",
   "pygments_lexer": "ipython3",
   "version": "3.12.11"
  },
  "toc": {
   "base_numbering": 1,
   "nav_menu": {},
   "number_sections": false,
   "sideBar": true,
   "skip_h1_title": false,
   "title_cell": "Table of Contents",
   "title_sidebar": "Contents",
   "toc_cell": false,
   "toc_position": {},
   "toc_section_display": true,
   "toc_window_display": true
  }
 },
 "nbformat": 4,
 "nbformat_minor": 4
}
