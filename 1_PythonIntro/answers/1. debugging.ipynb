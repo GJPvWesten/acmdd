{
 "cells": [
  {
   "cell_type": "markdown",
   "metadata": {},
   "source": [
    "# Let's play the lottery \n",
    "\n",
    "because writing grant proposals just doesn't work"
   ]
  },
  {
   "cell_type": "markdown",
   "metadata": {},
   "source": [
    "There are some bugs in the code below, and you have to fix them. Run the code and have a good look at the error message. Fix the bug and run the code again. In the end, you should be able to win the lottery every time (run your code multiple times), if you buy enough tickets."
   ]
  },
  {
   "cell_type": "code",
   "execution_count": null,
   "metadata": {},
   "outputs": [],
   "source": [
    "def buy_tickets(n,nr_min=0,nr_max=1e9):\n",
    "    return np.random.randint(nr_min,nr_max,size=n)\n",
    "\n",
    "def draw_winner(nr_min=0,nr_max=1e9):\n",
    "    return np.random.randint(nr_min,1e9)\n",
    "\n",
    "def announce_results(tickets,winner):\n",
    "    print(\"Is one of your {} tickets a winner??\".format(len(tickets))\n",
    "    if winner in tickets:\n",
    "        print(\"Congratulations: you're a winner!!!!!\")\n",
    "    else\n",
    "        print(Sorry, better luck next time...\")\n",
    "\n",
    "def play_lottery(ntickets,nr_min=0,nr_max=1e9):\n",
    "    tickets = Buy_Tickets(nr_min,nr_max,ntickets)\n",
    "    winner = draw_winner(nr_min,nr_max)\n",
    "    announce_results(tickets,winner)\n",
    "\n",
    "play_lottery(ntickets,0,10)"
   ]
  },
  {
   "cell_type": "markdown",
   "metadata": {},
   "source": [
    "This line seems to be ok, so have a look at previous lines until you find an error. When you look carefully at the `print` statement in the previous line, you will see that there is a missing `)`."
   ]
  },
  {
   "cell_type": "code",
   "execution_count": null,
   "metadata": {},
   "outputs": [],
   "source": [
    "def buy_tickets(n,nr_min=0,nr_max=1e9):\n",
    "    return np.random.randint(nr_min,nr_max,size=n)\n",
    "\n",
    "def draw_winner(nr_min=0,nr_max=1e9):\n",
    "    return np.random.randint(nr_min,1e9)\n",
    "\n",
    "def announce_results(tickets,winner):\n",
    "    print(\"Is one of your {} tickets a winner??\".format(len(tickets)))\n",
    "    if winner in tickets:\n",
    "        print(\"Congratulations: you're a winner!!!!!\")\n",
    "    else\n",
    "        print(Sorry, better luck next time...\")\n",
    "\n",
    "def play_lottery(ntickets,nr_min=0,nr_max=1e9):\n",
    "    tickets = Buy_Tickets(nr_min,nr_max,ntickets)\n",
    "    winner = draw_winner(nr_min,nr_max)\n",
    "    announce_results(tickets,winner)\n",
    "\n",
    "play_lottery(ntickets,0,10)"
   ]
  },
  {
   "cell_type": "markdown",
   "metadata": {},
   "source": [
    "There should be a `:` after `else`."
   ]
  },
  {
   "cell_type": "code",
   "execution_count": null,
   "metadata": {},
   "outputs": [],
   "source": [
    "def buy_tickets(n,nr_min=0,nr_max=1e9):\n",
    "    return np.random.randint(nr_min,nr_max,size=n)\n",
    "\n",
    "def draw_winner(nr_min=0,nr_max=1e9):\n",
    "    return np.random.randint(nr_min,1e9)\n",
    "\n",
    "def announce_results(tickets,winner):\n",
    "    print(\"Is one of your {} tickets a winner??\".format(len(tickets)))\n",
    "    if winner in tickets:\n",
    "        print(\"Congratulations: you're a winner!!!!!\")\n",
    "    else:\n",
    "        print(Sorry, better luck next time...\")\n",
    "\n",
    "def play_lottery(ntickets,nr_min=0,nr_max=1e9):\n",
    "    tickets = Buy_Tickets(nr_min,nr_max,ntickets)\n",
    "    winner = draw_winner(nr_min,nr_max)\n",
    "    announce_results(tickets,winner)\n",
    "\n",
    "play_lottery(ntickets,0,10)"
   ]
  },
  {
   "cell_type": "markdown",
   "metadata": {},
   "source": [
    "The opening `\"` is missing."
   ]
  },
  {
   "cell_type": "code",
   "execution_count": null,
   "metadata": {},
   "outputs": [],
   "source": [
    "def buy_tickets(n,nr_min=0,nr_max=1e9):\n",
    "    return np.random.randint(nr_min,nr_max,size=n)\n",
    "\n",
    "def draw_winner(nr_min=0,nr_max=1e9):\n",
    "    return np.random.randint(nr_min,1e9)\n",
    "\n",
    "def announce_results(tickets,winner):\n",
    "    print(\"Is one of your {} tickets a winner??\".format(len(tickets)))\n",
    "    if winner in tickets:\n",
    "        print(\"Congratulations: you're a winner!!!!!\")\n",
    "    else:\n",
    "        print(\"Sorry, better luck next time...\")\n",
    "\n",
    "def play_lottery(ntickets,nr_min=0,nr_max=1e9):\n",
    "    tickets = Buy_Tickets(nr_min,nr_max,ntickets)\n",
    "    winner = draw_winner(nr_min,nr_max)\n",
    "    announce_results(tickets,winner)\n",
    "\n",
    "play_lottery(ntickets,0,10)"
   ]
  },
  {
   "cell_type": "markdown",
   "metadata": {},
   "source": [
    "The variable `ntickets` does not exist"
   ]
  },
  {
   "cell_type": "code",
   "execution_count": null,
   "metadata": {},
   "outputs": [],
   "source": [
    "def buy_tickets(n,nr_min=0,nr_max=1e9):\n",
    "    return np.random.randint(nr_min,nr_max,size=n)\n",
    "\n",
    "def draw_winner(nr_min=0,nr_max=1e9):\n",
    "    return np.random.randint(nr_min,1e9)\n",
    "\n",
    "def announce_results(tickets,winner):\n",
    "    print(\"Is one of your {} tickets a winner??\".format(len(tickets)))\n",
    "    if winner in tickets:\n",
    "        print(\"Congratulations: you're a winner!!!!!\")\n",
    "    else:\n",
    "        print(\"Sorry, better luck next time...\")\n",
    "\n",
    "def play_lottery(ntickets,nr_min=0,nr_max=1e9):\n",
    "    tickets = Buy_Tickets(nr_min,nr_max,ntickets)\n",
    "    winner = draw_winner(nr_min,nr_max)\n",
    "    announce_results(tickets,winner)\n",
    "\n",
    "ntickets = 100\n",
    "play_lottery(ntickets,0,10)"
   ]
  },
  {
   "cell_type": "markdown",
   "metadata": {},
   "source": [
    "The name `Buy_Tickets` does not exist; the name `buy_tickets` does. Remember that Python is case sensitive!"
   ]
  },
  {
   "cell_type": "code",
   "execution_count": null,
   "metadata": {},
   "outputs": [],
   "source": [
    "def buy_tickets(n,nr_min=0,nr_max=1e9):\n",
    "    return np.random.randint(nr_min,nr_max,size=n)\n",
    "\n",
    "def draw_winner(nr_min=0,nr_max=1e9):\n",
    "    return np.random.randint(nr_min,1e9)\n",
    "\n",
    "def announce_results(tickets,winner):\n",
    "    print(\"Is one of your {} tickets a winner??\".format(len(tickets)))\n",
    "    if winner in tickets:\n",
    "        print(\"Congratulations: you're a winner!!!!!\")\n",
    "    else:\n",
    "        print(\"Sorry, better luck next time...\")\n",
    "\n",
    "def play_lottery(ntickets,nr_min=0,nr_max=1e9):\n",
    "    tickets = buy_tickets(nr_min,nr_max,ntickets)\n",
    "    winner = draw_winner(nr_min,nr_max)\n",
    "    announce_results(tickets,winner)\n",
    "\n",
    "ntickets = 100\n",
    "play_lottery(ntickets,0,10)"
   ]
  },
  {
   "cell_type": "markdown",
   "metadata": {},
   "source": [
    "Remember that `np` is commonly used as a shorthand for importing numpy. Numpy has not been imported in this notebook, so that is causing the problem."
   ]
  },
  {
   "cell_type": "code",
   "execution_count": null,
   "metadata": {},
   "outputs": [],
   "source": [
    "import numpy as np\n",
    "\n",
    "def buy_tickets(n,nr_min=0,nr_max=1e9):\n",
    "    return np.random.randint(nr_min,nr_max,size=n)\n",
    "\n",
    "def draw_winner(nr_min=0,nr_max=1e9):\n",
    "    return np.random.randint(nr_min,1e9)\n",
    "\n",
    "def announce_results(tickets,winner):\n",
    "    print(\"Is one of your {} tickets a winner??\".format(len(tickets)))\n",
    "    if winner in tickets:\n",
    "        print(\"Congratulations: you're a winner!!!!!\")\n",
    "    else:\n",
    "        print(\"Sorry, better luck next time...\")\n",
    "\n",
    "def play_lottery(ntickets,nr_min=0,nr_max=1e9):\n",
    "    tickets = buy_tickets(nr_min,nr_max,ntickets)\n",
    "    winner = draw_winner(nr_min,nr_max)\n",
    "    announce_results(tickets,winner)\n",
    "\n",
    "ntickets = 100\n",
    "play_lottery(ntickets,0,10)"
   ]
  },
  {
   "cell_type": "markdown",
   "metadata": {},
   "source": [
    "Huh, we should be buying 100 tickets. When calling `buy_tickets`, the arguments are mixed up such that the number of tickets bought is set to `nr_min`. "
   ]
  },
  {
   "cell_type": "code",
   "execution_count": null,
   "metadata": {},
   "outputs": [],
   "source": [
    "import numpy as np\n",
    "\n",
    "def buy_tickets(n,nr_min=0,nr_max=1e9):\n",
    "    return np.random.randint(nr_min,nr_max,size=n)\n",
    "\n",
    "def draw_winner(nr_min=0,nr_max=1e9):\n",
    "    return np.random.randint(nr_min,1e9)\n",
    "\n",
    "def announce_results(tickets,winner):\n",
    "    print(\"Is one of your {} tickets a winner??\".format(len(tickets)))\n",
    "    if winner in tickets:\n",
    "        print(\"Congratulations: you're a winner!!!!!\")\n",
    "    else:\n",
    "        print(\"Sorry, better luck next time...\")\n",
    "\n",
    "def play_lottery(ntickets,nr_min=0,nr_max=1e9):\n",
    "    tickets = buy_tickets(ntickets,nr_min,nr_max)\n",
    "    winner = draw_winner(nr_min,nr_max)\n",
    "    announce_results(tickets,winner)\n",
    "\n",
    "ntickets = 100\n",
    "play_lottery(ntickets,0,10)"
   ]
  },
  {
   "cell_type": "markdown",
   "metadata": {},
   "source": [
    "There are 10 lottery number and we do not win with 100 tickets, strange. Maybe we need to buy even more tickets."
   ]
  },
  {
   "cell_type": "code",
   "execution_count": null,
   "metadata": {},
   "outputs": [],
   "source": [
    "import numpy as np\n",
    "\n",
    "def buy_tickets(n,nr_min=0,nr_max=1e9):\n",
    "    return np.random.randint(nr_min,nr_max,size=n)\n",
    "\n",
    "def draw_winner(nr_min=0,nr_max=1e9):\n",
    "    return np.random.randint(nr_min,1e9)\n",
    "\n",
    "def announce_results(tickets,winner):\n",
    "    print(\"Is one of your {} tickets a winner??\".format(len(tickets)))\n",
    "    if winner in tickets:\n",
    "        print(\"Congratulations: you're a winner!!!!!\")\n",
    "    else:\n",
    "        print(\"Sorry, better luck next time...\")\n",
    "\n",
    "def play_lottery(ntickets,nr_min=0,nr_max=1e9):\n",
    "    tickets = buy_tickets(ntickets,nr_min,nr_max)\n",
    "    winner = draw_winner(nr_min,nr_max)\n",
    "    announce_results(tickets,winner)\n",
    "\n",
    "ntickets = 10000\n",
    "play_lottery(ntickets,0,10)"
   ]
  },
  {
   "cell_type": "markdown",
   "metadata": {},
   "source": [
    "Ok, this is not making any sense. Remember that with 10000 tickets we expect to with $.1 \\cdot 1000 = 100$ times. Looking at the code in more detail, we find an error in `draw_winner`; instead of using `nr_max` from the function arguments, the maximum value is set to 1e9."
   ]
  },
  {
   "cell_type": "code",
   "execution_count": null,
   "metadata": {},
   "outputs": [],
   "source": [
    "import numpy as np\n",
    "\n",
    "def buy_tickets(n,nr_min=0,nr_max=1e9):\n",
    "    return np.random.randint(nr_min,nr_max,size=n)\n",
    "\n",
    "def draw_winner(nr_min=0,nr_max=1e9):\n",
    "    return np.random.randint(nr_min,nr_max)\n",
    "\n",
    "def announce_results(tickets,winner):\n",
    "    print(\"Is one of your {} tickets a winner??\".format(len(tickets)))\n",
    "    if winner in tickets:\n",
    "        print(\"Congratulations: you're a winner!!!!!\")\n",
    "    else:\n",
    "        print(\"Sorry, better luck next time...\")\n",
    "\n",
    "def play_lottery(ntickets,nr_min=0,nr_max=1e9):\n",
    "    tickets = buy_tickets(ntickets,nr_min,nr_max)\n",
    "    winner = draw_winner(nr_min,nr_max)\n",
    "    announce_results(tickets,winner)\n",
    "\n",
    "ntickets = 10000\n",
    "play_lottery(ntickets,0,10)"
   ]
  },
  {
   "cell_type": "markdown",
   "metadata": {},
   "source": [
    "Yes, we won!"
   ]
  }
 ],
 "metadata": {
  "hide_input": false,
  "jupytext_formats": "ipynb,py",
  "kernelspec": {
   "display_name": "Python 3 (ipykernel)",
   "language": "python",
   "name": "python3"
  },
  "language_info": {
   "codemirror_mode": {
    "name": "ipython",
    "version": 3
   },
   "file_extension": ".py",
   "mimetype": "text/x-python",
   "name": "python",
   "nbconvert_exporter": "python",
   "pygments_lexer": "ipython3",
   "version": "3.12.11"
  },
  "toc": {
   "base_numbering": 1,
   "nav_menu": {},
   "number_sections": false,
   "sideBar": true,
   "skip_h1_title": false,
   "title_cell": "Table of Contents",
   "title_sidebar": "Contents",
   "toc_cell": false,
   "toc_position": {},
   "toc_section_display": true,
   "toc_window_display": true
  }
 },
 "nbformat": 4,
 "nbformat_minor": 4
}
