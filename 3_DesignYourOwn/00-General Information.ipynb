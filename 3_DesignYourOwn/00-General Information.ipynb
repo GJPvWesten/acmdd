{
 "cells": [
  {
   "cell_type": "markdown",
   "metadata": {},
   "source": [
    "# Assignments:\n",
    "The goal of this course is to design a new ligand for the target that was assigned to you. You will work in groups. This ligand should dock with a higher docking score than the co-crystalized ligand. You will reach this goal by executing a bio-informatics part, a chem-informatics part, and finally perform docking.\n",
    "\n",
    "Measurement Report:\n",
    "The results from your practical work are to be written down in a measurement report, which is to be handed in on October 4th. This report should contain answers to the questions from the manual, and descriptions of what you did during the course (your train of thought). Naturally you should also include name, student number, etc. \n",
    "\n",
    "Presentation:\n",
    "In addition, you are to hold a presentation on these subjects on Friday September 26th (afternoon). The presentation should last ~10 minutes with some subsequent discussion. In the presentation you should provide a background of your drug target and drug (type, pathology etc). There should be some results from the QSAR modeling and several docked poses. You should present your newly designed drug and defend why it is better. \n",
    "\n",
    "The practical consists of three parts, which each have their own Jupyter notebook with instructions and the code to run:\n",
    "\n",
    "- Intro to Bioinformatics\n",
    "- Machine learning and QSAR\n",
    "- Working with crystal structures\n",
    "\n",
    "Update the notebooks to use your target of interest (PDB code) and run them through. This will prepare a machine learning model and a 3D structure for docking."
   ]
  }
 ],
 "metadata": {
  "kernelspec": {
   "display_name": "Python 3 (ipykernel)",
   "language": "python",
   "name": "python3"
  },
  "language_info": {
   "codemirror_mode": {
    "name": "ipython",
    "version": 3
   },
   "file_extension": ".py",
   "mimetype": "text/x-python",
   "name": "python",
   "nbconvert_exporter": "python",
   "pygments_lexer": "ipython3",
   "version": "3.12.11"
  }
 },
 "nbformat": 4,
 "nbformat_minor": 4
}
