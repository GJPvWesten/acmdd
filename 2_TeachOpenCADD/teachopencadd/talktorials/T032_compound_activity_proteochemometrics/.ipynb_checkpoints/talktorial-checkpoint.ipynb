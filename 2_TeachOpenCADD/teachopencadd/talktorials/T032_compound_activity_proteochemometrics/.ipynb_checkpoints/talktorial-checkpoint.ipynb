{
 "cells": [
  {
   "cell_type": "markdown",
   "metadata": {},
   "source": [
    "# T032 · Compound activity: Proteochemometrics\n",
    "\n",
    "**Note:** This talktorial is a part of TeachOpenCADD, a platform that aims to teach domain-specific skills and to provide pipeline templates as starting points for research projects.\n",
    "\n",
    "Authors:\n",
    "\n",
    "- Marina Gorostiola González, 2022, Computational Drug Discovery, Drug Discovery & Safety Leiden University (The Netherlands)\n",
    "- Olivier J.M. Béquignon, 2022, Computational Drug Discovery, Drug Discovery & Safety Leiden University (The Netherlands)\n",
    "- Willem Jespers, 2022, Computational Drug Discovery, Drug Discovery & Safety Leiden University (The Netherlands)"
   ]
  },
  {
   "cell_type": "markdown",
   "metadata": {},
   "source": [
    "## Aim of this talktorial\n",
    "\n",
    "While activity data is very abundant for some protein targets, there are still a number of underexplored proteins where the use of machine learning (ML) for activity prediction is very difficult due to the lack of data. This issue can be solved leveraging similarities and differences between proteins. In this talktorial, we use proteochemometrics (PCM) modelling to enrich our activity models with protein data to predict the activity of novel compounds against the four adenosine receptor isoforms (A1, A2A, A2B, A3)."
   ]
  },
  {
   "cell_type": "markdown",
   "metadata": {},
   "source": [
    "### Contents in *Theory*\n",
    "\n",
    "* Data preparation\n",
    "    * Papyrus dataset\n",
    "    * Molecule encoding: molecular descriptors\n",
    "    * Protein encoding: protein descriptors\n",
    "\n",
    "* Proteochemometrics (PCM)\n",
    "    * Machine learning principles: regression\n",
    "        * Data splitting methods\n",
    "        * Regression evaluation metrics\n",
    "        * ML algorithm: Random Forest\n",
    "    * Applications of PCM in drug discovery"
   ]
  },
  {
   "cell_type": "markdown",
   "metadata": {},
   "source": [
    "### Contents in *Practical*\n",
    "\n",
    "* Download Papyrus dataset\n",
    "* Data preparation\n",
    "    * Filter activity data for targets of interest\n",
    "    * Align target sequences\n",
    "    * Calculate protein descriptors\n",
    "    * Calculate compound descriptors\n",
    "* Proteochemometrics modelling\n",
    "    * Helper functions\n",
    "        * Preprocessing\n",
    "    * Model training and validation\n",
    "        * Random split PCM model\n",
    "        * Random split QSAR models\n",
    "        * Leave one target out split PCM model"
   ]
  },
  {
   "cell_type": "markdown",
   "metadata": {},
   "source": [
    "### References\n",
    "\n",
    "* Papyrus scripts [github](https://github.com/OlivierBeq/Papyrus-scripts)\n",
    "* Papyrus dataset preprint: [<i>ChemRvix</i> (2021)](https://chemrxiv.org/engage/chemrxiv/article-details/617aa2467a002162403d71f0)\n",
    "* Molecular descriptors (Modred): [<i>J. Cheminf.</i>, 10, (2018)](https://jcheminf.biomedcentral.com/articles/10.1186/s13321-018-0258-y)\n",
    "* Protein descriptors (ProDEC) [github](https://github.com/OlivierBeq/ProDEC)\n",
    "* Regression metrics [(Scikit learn)](https://scikit-learn.org/stable/modules/model_evaluation.html#regression-metrics)\n",
    "* XGBoost [Documentation](https://xgboost.readthedocs.io/en/stable/index.html)\n",
    "* Proteochemometrics review: [<i>Drug Discov.</i> (2019), <b>32</b>, 89-98](https://www.sciencedirect.com/science/article/pii/S1740674920300111?via%3Dihub)\n",
    "\n"
   ]
  },
  {
   "cell_type": "markdown",
   "metadata": {},
   "source": [
    "## Theory"
   ]
  },
  {
   "cell_type": "markdown",
   "metadata": {},
   "source": [
    "To successfully apply PCM modelling, we need a large dataset of molecule-protein pairs with known bioactivity values, a way of describing molecules and proteins, and a ML algorithm to train a model. Then, we can make predictions for new molecule-protein pairs.\n",
    "\n",
    "<b>NOTE:</b> PCM modelling is an extension of ligand-based modelling with ML (also known as Quantitative Structure Activity Relationship or QSAR) described in <b>Talktorial T007</b>. Explore that talktorial to know more about the basic principle of activity prediction using ML."
   ]
  },
  {
   "cell_type": "markdown",
   "metadata": {},
   "source": [
    "<img src='images/PCM_model_text-01.png' width=\"1000\">\n",
    "\n",
    "*Figure 1:*\n",
    "Proteochemometrics modelling construction from protein and molecular descriptors for which protein-compound pair bioactivity data is known.\n",
    "Figure made by Marina Gorostiola González."
   ]
  },
  {
   "cell_type": "markdown",
   "metadata": {},
   "source": [
    "### Data preparation"
   ]
  },
  {
   "cell_type": "markdown",
   "metadata": {},
   "source": [
    "#### Papyrus dataset"
   ]
  },
  {
   "cell_type": "markdown",
   "metadata": {},
   "source": [
    "The Papyrus dataset is a highly curated compilation of bioactivity data intended for modelling in drug discovery. Apart from the bioactivity data contained in the ChEMBL database (see also  <b>Talktorial T001</b>), the Papyrus dataset contains binary data for classification tasks from the ExCAPE-DB, and bioactivity data from a number of kinase-specific papers (Figure 1).\n",
    "\n",
    "The bioactivity data aggregated is standardized, repaired, and normalised to form the Papyrus dataset, which is updated with every new version of ChEMBL released. The Papyrus dataset contains \"high quality\" data associated to pChEMBL values for regression tasks and \"low quality\" data associated to an active/inactive label for classification tasks (read more about ML applications in <b>Talktorial T007</b>)."
   ]
  },
  {
   "cell_type": "markdown",
   "metadata": {},
   "source": [
    "<img src='images/papyrus_workflow.png' width=\"1000\">\n",
    "\n",
    "*Figure 2:*\n",
    "Papyrus dataset generation scheme.\n",
    "Figure taken from: Papyrus scripts [github](https://github.com/OlivierBeq/Papyrus-scripts)."
   ]
  },
  {
   "cell_type": "markdown",
   "metadata": {
    "pycharm": {
     "name": "#%% md\n"
    }
   },
   "source": [
    "#### Molecule encoding: molecular descriptors"
   ]
  },
  {
   "cell_type": "markdown",
   "metadata": {
    "pycharm": {
     "name": "#%% md\n"
    }
   },
   "source": [
    "For the ML models used in PCM, molecules need to be converted into a list of features. In <b>Talktorial T007</b>, molecular fingerprints were introduced. In this talktorial, we will use a different type of representation that is often used on its own or in combination with fingerprints: molecular descriptors.\n",
    "\n",
    "<b>Molecular descriptors</b> are the \"final result of a logical and mathematical procedure, which transforms chemical information encoded within a symbolic representation of a molecule into a useful number or the result of some standardized experiment\" ([<i>J. Cheminf.</i>, 10, (2018)](https://jcheminf.biomedcentral.com/articles/10.1186/s13321-018-0258-y)). These descriptors can be, for example, molecular weight, ring count, Eccentric Connectivity Index (calculated from the 2D structure), or Geometrical Index (calculated from the 3D structure).\n",
    "\n",
    "In this talktorial, we use Modred as a software engine to calculate molecular descriptors. Modred calculates more than 1,800 molecular descriptors, including the ones implemented in RDKit, including an automatic preprocessing step that is common for all descriptors calculated. For simplicity, here we calculate only 4 types of descriptors from the vast list of possibilities from Modred, excluding their 3D representation. These include:\n",
    "\n",
    "* <b>ABC Index</b>: 2 descriptors that represent the atom-bond connectivity index or the Graovac-Ghorbani atom-bond connectivity index (see Modred <code>ABCIndex</code> [docs](https://mordred-descriptor.github.io/documentation/master/api/mordred.ABCIndex.html))\n",
    "* <b>Acid-Base</b>: 2 descriptors that count acidic and basic groups, respectively (see Modred <code>AcidBase</code> [docs](https://mordred-descriptor.github.io/documentation/master/api/mordred.AcidBase.html?highlight=acidbase))\n",
    "* <b>Atom count</b>: 16 descriptors that represent a count of different types of atoms (see Modred <code>AtomCount</code> [docs](https://mordred-descriptor.github.io/documentation/master/api/mordred.AtomCount.html?highlight=atomcount))\n",
    "* <b>Balaban J index</b>: 1 descriptor (included in RDkit), which represents a topological index (see Modred <code>BalabanJ</code> [docs](https://mordred-descriptor.github.io/documentation/master/api/mordred.BalabanJ.html?highlight=balaban#module-mordred.BalabanJ))"
   ]
  },
  {
   "cell_type": "markdown",
   "metadata": {},
   "source": [
    "#### Protein encoding: protein descriptors"
   ]
  },
  {
   "cell_type": "markdown",
   "metadata": {
    "pycharm": {
     "name": "#%% md\n"
    }
   },
   "source": [
    "As done for molecules, the proteins of interest need to be converted to a list of features or protein descriptors. Protein descriptors used in PCM applications are commonly based on the protein sequence and represent physicochemical characteristics of the amino acids that make up the sequence (e.g. Z-scales). Other protein descriptors represent topological (e.g. ST-scales) or electrostatic properties (e.g. MS-WHIM) of the protein sequence. Moreover, if structural information is available, protein descriptors can be derived from the 3D structure of the protein (e.g. sPairs) or the ligand-protein interaction in 3D (e.g. interaction fingerprints). Finally, with the widespread use of deep learning, protein embeddings can be obtained after parsing the protein sequence through the network (e.g. UniRep, AlphaFold embeddings).\n",
    "\n",
    "For protein descriptors based on the protein sequence, an aspect to take into account is that for ML the length of the protein descriptor needs to be the same. However, most proteins do not have the same sequence length. To solve this issue, there are two main approaches:\n",
    "* <b>Multiple sequence alignment</b>: when the whole protein wants to be incorporated to the model, a multiple sequence alignment can be performed. The final descriptor will have as many features as the number of features per amino acid multiplied by the number of aligned positions. To take into account, gaps in the alignment will receive zeroes in the descriptor.\n",
    "* <b>Binding pocket selection</b>: To avoid unnecessary features, a binding pocket of the same length can be selected for each protein. Normally, the binding pocket selection is preceded by a multiple sequence alignment and driven by known structural or mutagenesis data.\n",
    "\n",
    "Other options are available when proteins are not of the same family or do not share a binding pocket (see [<i>Drug Discov.</i> (2019), <b>32</b>, 89-98](https://www.sciencedirect.com/science/article/pii/S1740674920300111?via%3Dihub))\n",
    "\n",
    "In this talktorial, we will focus on physicochemical protein descriptors, mainly <b>Z-scales</b> ([<i>J. Med. Chem</i>, 30 (1987)](https://pubs.acs.org/doi/10.1021/jm00390a003)). The Z-scales descriptor assigns three pre-determined values (Z<sub>1</sub>, Z<sub>2</sub>, Z<sub>3</sub>) to each amino acid in the sequence. The Z<sub>1</sub>, Z<sub>2</sub>, and Z<sub>3</sub> values are the first principal components of a principal component analysis (PCA) including 29 different physicochemical variables to characterize the amino acids.\n",
    "Since we are calculating activity for four proteins with very high sequence similarity (Adenosine receptors A1, A2A, A2B, and A3), we will use <b>multiple sequence alignment</b> prior to calculation of the Z-scales. To calculate Z-scales we will use ProDEC, an open source resource that compiles a large number of protein descriptors."
   ]
  },
  {
   "cell_type": "markdown",
   "metadata": {},
   "source": [
    "### Proteochemometrics (PCM)"
   ]
  },
  {
   "cell_type": "markdown",
   "metadata": {
    "pycharm": {
     "name": "#%% md\n"
    }
   },
   "source": [
    "#### Machine learning principles: regression"
   ]
  },
  {
   "cell_type": "markdown",
   "metadata": {},
   "source": [
    "Proteochemometrics (PCM) consists in the modelling via supervised ML algorithms of a biological endpoint (e.g. compound activity) based on a series of features derived from chemical compounds and target proteins. PCM is an extension of a more widespread bioactivity modelling technique, Quantitative Structure Activity Relationship (QSAR) modelling, which relies solely on chemical features and that was introduced on <b>Talktorial T007</b>. The ML principles for PCM modelling are equivalent to those explained for QSAR modelling. However, in this talktorial we will explore a supervised ML application other than classification, this is <b>regression</b>. For regression tasks, a continuous target variable is needed, for example pChEMBL values."
   ]
  },
  {
   "cell_type": "markdown",
   "metadata": {
    "pycharm": {
     "name": "#%% md\n"
    }
   },
   "source": [
    "##### Splitting methods"
   ]
  },
  {
   "cell_type": "markdown",
   "metadata": {},
   "source": [
    "Similarly to classification tasks, in supervised ML regression applications the model is first fitted to a training set and subsequently the predictive performance is evaluated on a test set. Therefore, the original dataset needs to be split between training and test sets. The split needs to ensure that the fitting process has enough data, and that the test set is representative. Normally, the distribution between train and test set is 80/20 or 70/30. Depending on the applicability domain, the split can be done in multiple ways. In PCM modelling, some of the most common splitting methods are:\n",
    "* <b>Random split</b>: This method is not particularly relevant in drug discovery applications as it does not reflect the reality of a drug discovery campaign and it will most likely lead to data leaks between the training and test set. This is, very similar data will be found in both sets, which will lead to an overestimation of the predictive performance of the model. This type of split is commonly used, however, as a baseline and point of reference for other splitting methods, or as a starting point for quick model comparisons.\n",
    "* <b>Leave one target out (LOTO) split</b>: To evaluate the ability of the model to extrapolate to targets not previously seen, one of the targets can be completely moved to the test set. In a big enough set, instead of one \"some\" targets can be moved to the test set (i.e. Leave some targets out, or LSTO).\n",
    "* <b>Leave one compound cluster out (LOCCO) split</b>: This method evaluates the ability of the model to extrapolate to compounds with properties not previously seen by the model. Clustering can be done based on different molecular characteristics, such as physicochemical properties, scaffold, or approval status, for example (see <b>Talktorial T005</b> to learn more about clustering). One (or several, LSCCO) clusters can then be left out for testing. This methods prevents data leaking in terms of chemistry between training and test sets.\n",
    "* <b>Temporal split</b>: This method was developed in order to account for the usual timeline of drug discovery campaigns, where chemical series are populated sequentially over time. In this approach, the molecules included in the training set are those released until certain date and the rest (most novel) are included in the test set.\n",
    "* <b>Stratified split per target</b>: This method can be applied to any of the splitting methods described above (except LOTO), and aims to include data of all targets in both the training and test set, so that additional target-compound interactions can be extracted by the model. (<b>NOTE:</b> stratification can be also done in regards to other reference points apart from targets, for example classes in classification tasks, to make sure that the distribution is similar across training and test set)."
   ]
  },
  {
   "cell_type": "markdown",
   "metadata": {
    "pycharm": {
     "name": "#%% md\n"
    }
   },
   "source": [
    "<img src='images/splitting_methods.png' width=\"1000\">\n",
    "\n",
    "*Figure 3:*\n",
    "Overview of splitting methods, including target-stratified random and temporal splits and leave one target out approach.\n",
    "Figure made by Marina Gorostiola González."
   ]
  },
  {
   "cell_type": "markdown",
   "metadata": {
    "pycharm": {
     "name": "#%% md\n"
    }
   },
   "source": [
    "##### Regression evaluation metrics"
   ]
  },
  {
   "cell_type": "markdown",
   "metadata": {},
   "source": [
    "\n",
    "To evaluate the predictive performance of a regression model, there are several metrics that in simple terms measure the differences between the true target values and the predictions made by the model. These metrics can be used in cross-validation on the training set (see <b>Talktorial T007</b>) or in the test set. The most commonly used metrics include:\n",
    "\n",
    "* <b>Coefficient of determination ($R^{2}$ score)</b>: Represents the portion of variance of the target variable that has been explained by the independent variables (features) in the model. $R^{2}$ score varies between 1.0 (best score) and minus infinite, where 0.0 represents a model that always predicts the average target variable. As the variance is dataset dependent, it might not be meaningful metric to compare between datasets. When dealing with linear regression, and model fitting and evaluation are performed on a single dataset, $R^{2}$ is equivalent to the square of the Pearson correlation coefficient, described below, and can be noted as $r^{2}$.\n",
    "* <b>Pearson's correlation coefficient (Pearson's $r$)</b>: Is a measure of the linear correlation between the true and predicted values of the target variable. It is calculated as the covariance of the two variables divided by the product of their standard deviation. Pearson's $r$ can vary between 1.0 (a perfect positive correlation) and -1.0 (a perfect negative correlation), where 1.0 would represent a perfect prediction.\n",
    "* <b>Mean absolute error (MAE)</b>: Measures the average absolute difference between the predicted and the true values. MAE is interpreted based on the scale of the data, and it varies between infinite and 0.0 (best).\n",
    "* <b>Mean squared error (MSE)</b>: Measures the average of the squares of the difference between the predicted and the true values. It varies between 1.0 (worst) and 0.0 (best).\n",
    "* <b>Root mean square error (RMSE)</b>: It is the square root of the MSE and represents the standard deviation of the prediction errors respect to the line of best fit. RMSE is a measure of accuracy and it cannot be applied to compare  between datasets, as it is scale-dependent. It varies between 1.0 (worst) and 0.0 (best).\n",
    "\n",
    "To learn more about evaluation metrics, you can consult scikit learn's <code>regression metrics</code> [Docs](https://scikit-learn.org/stable/modules/model_evaluation.html#regression-metrics).\n",
    "\n",
    "\n",
    "\n"
   ]
  },
  {
   "cell_type": "markdown",
   "metadata": {
    "pycharm": {
     "name": "#%% md\n"
    }
   },
   "source": [
    "##### ML algorithm: Random Forest"
   ]
  },
  {
   "cell_type": "markdown",
   "metadata": {
    "pycharm": {
     "name": "#%% md\n"
    }
   },
   "source": [
    "Different ML algorithms can be used to train PCM models. Some of them include support vector machines (SVM), <b>random forest (RF)</b>, and neural networks (NN), that were described in <b>Talktorial T007</b>. In this talktorial, we will use RF. RF is a decision tree-based algorithm, more in detail a bagging ensemble method. This means that there are multiple decision trees trained independently with subsets of features and data and the final prediction is made from a consensus between the independent predictions.\n",
    "RF models have been used extensively in PCM applications due to their efficiency in large datasets and resistance to overfitting with more features."
   ]
  },
  {
   "cell_type": "markdown",
   "metadata": {
    "pycharm": {
     "name": "#%% md\n"
    }
   },
   "source": [
    "#### Applications of PCM in drug discovery"
   ]
  },
  {
   "cell_type": "markdown",
   "metadata": {
    "pycharm": {
     "name": "#%% md\n"
    }
   },
   "source": [
    "The possibility to predict bioactivity for multiple targets in one model with PCM is very interesting in drug discovery and expands the applicability domain of QSAR modelling. Some applications of this technique are listed below and help answer the following questions in drug discovery:\n",
    "\n",
    "* <b>Poly-pharmacology</b>: Is it possible to target several proteins of interest simultaneously with one single drug?\n",
    "* <b>Off-target prediction</b>: What other proteins do these compounds target apart from the intended therapeutic target? Are maybe these off-targets responsible for side effects?\n",
    "* <b>Selectivity prediction</b>: Do certain novel compounds target one protein isoform while avoiding others (off-targets) known to cause adverse effects?\n",
    "\n",
    "To know more about applications of PCM in drug discovery, have a look at this review [<i>Drug Discov.</i> (2019), <b>32</b>, 89-98](https://www.sciencedirect.com/science/article/pii/S1740674920300111?via%3Dihub)."
   ]
  },
  {
   "cell_type": "markdown",
   "metadata": {},
   "source": [
    "## Practical"
   ]
  },
  {
   "cell_type": "markdown",
   "metadata": {},
   "source": [
    "In the practical section of this talktorial we will create a PCM regression model for the four adenosine receptors (A1, A2A, A2B, A3) with data from the Papyrus dataset and molecular and protein descriptors as features."
   ]
  },
  {
   "cell_type": "code",
   "execution_count": 1,
   "metadata": {},
   "outputs": [
    {
     "name": "stdout",
     "output_type": "stream",
     "text": [
      "Collecting rich-msa\n",
      "  Downloading rich_msa-0.1.0-py3-none-any.whl.metadata (6.0 kB)\n",
      "Requirement already satisfied: rich in /opt/conda/lib/python3.12/site-packages (from rich-msa) (13.9.4)\n",
      "Requirement already satisfied: markdown-it-py>=2.2.0 in /opt/conda/lib/python3.12/site-packages (from rich->rich-msa) (3.0.0)\n",
      "Requirement already satisfied: pygments<3.0.0,>=2.13.0 in /opt/conda/lib/python3.12/site-packages (from rich->rich-msa) (2.19.1)\n",
      "Requirement already satisfied: mdurl~=0.1 in /opt/conda/lib/python3.12/site-packages (from markdown-it-py>=2.2.0->rich->rich-msa) (0.1.2)\n",
      "Downloading rich_msa-0.1.0-py3-none-any.whl (7.4 kB)\n",
      "Installing collected packages: rich-msa\n",
      "Successfully installed rich-msa-0.1.0\n",
      "Collecting xmltramp2\n",
      "  Downloading xmltramp2-3.1.1.tar.gz (6.7 kB)\n",
      "  Preparing metadata (setup.py) ... \u001b[?25ldone\n",
      "\u001b[?25hRequirement already satisfied: six in /opt/conda/lib/python3.12/site-packages (from xmltramp2) (1.17.0)\n",
      "Building wheels for collected packages: xmltramp2\n",
      "\u001b[33m  DEPRECATION: Building 'xmltramp2' using the legacy setup.py bdist_wheel mechanism, which will be removed in a future version. pip 25.3 will enforce this behaviour change. A possible replacement is to use the standardized build interface by setting the `--use-pep517` option, (possibly combined with `--no-build-isolation`), or adding a `pyproject.toml` file to the source tree of 'xmltramp2'. Discussion can be found at https://github.com/pypa/pip/issues/6334\u001b[0m\u001b[33m\n",
      "\u001b[0m  Building wheel for xmltramp2 (setup.py) ... \u001b[?25ldone\n",
      "\u001b[?25h  Created wheel for xmltramp2: filename=xmltramp2-3.1.1-py3-none-any.whl size=7401 sha256=d2fbd2236dcad63edc83cb3642bd1eeb2daa1c0f2ae39c8b558021eaac3b4a2f\n",
      "  Stored in directory: /home/jovyan/.cache/pip/wheels/86/5c/66/b38bd7a4cc3f8268d49303f8ebf36c474bc725b6b8e7ae8012\n",
      "Successfully built xmltramp2\n",
      "Installing collected packages: xmltramp2\n",
      "Successfully installed xmltramp2-3.1.1\n"
     ]
    }
   ],
   "source": [
    "!pip install rich-msa\n",
    "!pip install xmltramp2"
   ]
  },
  {
   "cell_type": "code",
   "execution_count": 2,
   "metadata": {},
   "outputs": [
    {
     "name": "stderr",
     "output_type": "stream",
     "text": [
      "/opt/conda/lib/python3.12/site-packages/Bio/Application/__init__.py:39: BiopythonDeprecationWarning: The Bio.Application modules and modules relying on it have been deprecated.\n",
      "\n",
      "Due to the on going maintenance burden of keeping command line application\n",
      "wrappers up to date, we have decided to deprecate and eventually remove these\n",
      "modules.\n",
      "\n",
      "We instead now recommend building your command line and invoking it directly\n",
      "with the subprocess module.\n",
      "  warnings.warn(\n"
     ]
    }
   ],
   "source": [
    "import os.path\n",
    "from pathlib import Path\n",
    "import numpy as np\n",
    "import pandas as pd\n",
    "import re\n",
    "import json\n",
    "\n",
    "from papyrus_scripts.download import download_papyrus\n",
    "from papyrus_scripts.reader import read_papyrus, read_protein_set\n",
    "from papyrus_scripts.preprocess import *\n",
    "from papyrus_scripts.utils.IO import get_num_rows_in_file\n",
    "\n",
    "from Bio.Seq import Seq\n",
    "from Bio.SeqIO import SeqRecord, write as SeqIO_write, parse as SeqIO_parse\n",
    "from Bio.Align.Applications import ClustalOmegaCommandline\n",
    "import Bio.AlignIO\n",
    "import rich\n",
    "from rich_msa import RichAlignment\n",
    "\n",
    "from prodec import ProteinDescriptors\n",
    "from rdkit import Chem\n",
    "from mordred import Calculator, descriptors\n",
    "\n",
    "from sklearn.preprocessing import RobustScaler\n",
    "from sklearn.model_selection import train_test_split\n",
    "from sklearn.ensemble import RandomForestRegressor\n",
    "from sklearn.metrics import r2_score,mean_absolute_error\n",
    "from scipy.stats import pearsonr\n",
    "\n",
    "import seaborn as sns\n",
    "import matplotlib.pyplot as plt"
   ]
  },
  {
   "cell_type": "code",
   "execution_count": 3,
   "metadata": {},
   "outputs": [],
   "source": [
    "# Set path to this notebook\n",
    "HERE = Path(_dh[-1])\n",
    "DATA = HERE / \"data\""
   ]
  },
  {
   "cell_type": "markdown",
   "metadata": {},
   "source": [
    "### Download Payrus dataset"
   ]
  },
  {
   "cell_type": "markdown",
   "metadata": {},
   "source": [
    "By default, the <code>download_papyrus</code> function retrieves bioactivity, target and other information for the latest version of the Papyrus dataset. The data retrieved consists of the highest quality continuous bioactivity data (Papyrus++) without stereochemistry annotated."
   ]
  },
  {
   "cell_type": "code",
   "execution_count": 8,
   "metadata": {
    "pycharm": {
     "name": "#%%\n"
    }
   },
   "outputs": [],
   "source": [
    "# Let's specify the Papyrus version for the rest of the work\n",
    "PAPYRUS_VERSION = '05.7'"
   ]
  },
  {
   "cell_type": "code",
   "execution_count": 9,
   "metadata": {
    "pycharm": {
     "name": "#%%\n"
    }
   },
   "outputs": [
    {
     "name": "stdout",
     "output_type": "stream",
     "text": [
      "########## DISCLAIMER ##########\n",
      "You are downloading the high-quality Papyrus++ dataset.\n",
      "Should you want to access the entire, though of lower quality, Papyrus dataset,\n",
      "look into additional switches of this command.\n",
      "################################\n",
      "Number of files to be downloaded: 4\n",
      "Total size: 58.7MB\n"
     ]
    },
    {
     "data": {
      "application/vnd.jupyter.widget-view+json": {
       "model_id": "d0c32754084f4529ba3b54aeac31bde9",
       "version_major": 2,
       "version_minor": 0
      },
      "text/plain": [
       "Downloading version 05.7:   0%|          | 0.00/58.7M [00:00<?, ?B/s]"
      ]
     },
     "metadata": {},
     "output_type": "display_data"
    }
   ],
   "source": [
    "download_papyrus(outdir=DATA, version=PAPYRUS_VERSION, nostereo=True, stereo=False, descriptors=None)\n",
    "# If you want to download the latest version of the Papyrus dataset, change 'PAPYRUS_VERSION' to 'latest'"
   ]
  },
  {
   "cell_type": "markdown",
   "metadata": {},
   "source": [
    "### Data preparation"
   ]
  },
  {
   "cell_type": "markdown",
   "metadata": {
    "pycharm": {
     "name": "#%% md\n"
    }
   },
   "source": [
    "#### Filter activity data for targets of interest"
   ]
  },
  {
   "cell_type": "markdown",
   "metadata": {
    "pycharm": {
     "name": "#%% md\n"
    }
   },
   "source": [
    "From the Papyrus dataset, we want to extract continuous activity data for all compound-protein pairs for the four human Adenosine receptors. In the Papyrus set, unique compound-target activity values are reported by aggregating data from different assays available. To account for the different types of bioactivity units available, a canonical activity metric defined by ChEMBL is used, pchembl value, which is defined as $-log_{10}(molar IC_{50}, XC_{50}, EC_{50}, AC_{50}, Ki, Kd, or potency)$. From the activity aggregation strategies available with the Papyrus set, we will use the Mean (<code>pchembl_value_Mean</code> variable). \n",
    "\n",
    "|Receptor|Uniprot accession|\n",
    "|---|---|\n",
    "|A1|P30542|\n",
    "|A2A|P29274|\n",
    "|A2B|P29275|\n",
    "|A3|P0DMS8|"
   ]
  },
  {
   "cell_type": "code",
   "execution_count": 10,
   "metadata": {
    "pycharm": {
     "name": "#%%\n"
    }
   },
   "outputs": [],
   "source": [
    "def filter_explore_activity_data(papyrus_version, targets):\n",
    "    \"\"\"\n",
    "    Filter Papyrus dataset for targets of interest and explore the statistics of the resulting dataset\n",
    "\n",
    "    Parameters\n",
    "    ----------\n",
    "    papyrus_version : str\n",
    "        Version of the Papyrus dataset to read\n",
    "    targets : dict\n",
    "        Dictionary with target labels as keys and Uniprot accession codes as values\n",
    "\n",
    "    Returns\n",
    "    -------\n",
    "    pandas.DataFrame\n",
    "        Filtered bioactivity dataset for input targets\n",
    "    \"\"\"\n",
    "    # Read downloaded Papyrus dataset in chunks, as it does not fit in memory\n",
    "    CHUNKSIZE = 100000\n",
    "    data = read_papyrus(version=papyrus_version, chunksize=CHUNKSIZE, source_path=DATA)\n",
    "\n",
    "    # Create filter for targets of interest\n",
    "    target_accession_list = targets.values()\n",
    "    filter = keep_accession(data, target_accession_list)\n",
    "\n",
    "    # Iterate through chunks and apply the filter defined\n",
    "    filtered_data = consume_chunks(filter, total=-(-get_num_rows_in_file('bioactivities', False) // CHUNKSIZE))\n",
    "    # Add column named 'Target' for easier data visualization\n",
    "    filtered_data['Target'] = filtered_data['accession'].apply(lambda x: [i for i in targets.keys() if targets[i]==x][0])\n",
    "\n",
    "    # Print number of bioactivity datapoints per target\n",
    "    for target,accession in zip(targets.keys(), targets.values()):\n",
    "        print('Number of bioactivity datapoints')\n",
    "        print(f'{target} ({accession}) : {filtered_data[filtered_data[\"accession\"]==accession].shape[0]}')\n",
    "\n",
    "    # Plot distribution of activity values (pchembl_value_Mean) per target\n",
    "    g = sns.displot(filtered_data, x='pchembl_value_Mean', hue='Target', element='step', hue_order=targets.keys())\n",
    "\n",
    "    return filtered_data"
   ]
  },
  {
   "cell_type": "code",
   "execution_count": 11,
   "metadata": {
    "pycharm": {
     "name": "#%%\n"
    }
   },
   "outputs": [
    {
     "data": {
      "application/vnd.jupyter.widget-view+json": {
       "model_id": "cc760c9930a3437d97a28fdd1506dbf4",
       "version_major": 2,
       "version_minor": 0
      },
      "text/plain": [
       "  0%|          | 0/8 [00:00<?, ?it/s]"
      ]
     },
     "metadata": {},
     "output_type": "display_data"
    },
    {
     "name": "stdout",
     "output_type": "stream",
     "text": [
      "Number of bioactivity datapoints\n",
      "A1 (P30542) : 3819\n",
      "Number of bioactivity datapoints\n",
      "A2A (P29274) : 4481\n",
      "Number of bioactivity datapoints\n",
      "A2B (P29275) : 1888\n",
      "Number of bioactivity datapoints\n",
      "A3 (P0DMS8) : 3362\n"
     ]
    },
    {
     "data": {
      "image/png": "[encoded data removed]",
      "text/plain": [
       "<Figure size 578x500 with 1 Axes>"
      ]
     },
     "metadata": {},
     "output_type": "display_data"
    }
   ],
   "source": [
    "# Define the set of receptors of interest with a label and their Uniprot accession\n",
    "adenosine_receptors = {'A1': 'P30542',\n",
    "                       'A2A': 'P29274',\n",
    "                       'A2B': 'P29275',\n",
    "                       'A3': 'P0DMS8'}\n",
    "\n",
    "# Filter the Papyrus bioactivity dataset and plot the distribution of activity values for the targets of interest\n",
    "ar_data = filter_explore_activity_data(PAPYRUS_VERSION, adenosine_receptors)"
   ]
  },
  {
   "cell_type": "markdown",
   "metadata": {
    "pycharm": {
     "name": "#%% md\n"
    }
   },
   "source": [
    "For PCM modelling, we keep from our bioactivity dataset three variables:\n",
    "* Bioactivity (<code>pchembl_value_mean</code>), which is our target variable to predict\n",
    "* Target IDs (<code>target_id</code>), to link the protein descriptors\n",
    "* Compound IDs (<code>SMILES</code>), to link the compound descriptors"
   ]
  },
  {
   "cell_type": "code",
   "execution_count": 12,
   "metadata": {
    "pycharm": {
     "name": "#%%\n"
    }
   },
   "outputs": [
    {
     "data": {
      "text/html": [
       "<div>\n",
       "<style scoped>\n",
       "    .dataframe tbody tr th:only-of-type {\n",
       "        vertical-align: middle;\n",
       "    }\n",
       "\n",
       "    .dataframe tbody tr th {\n",
       "        vertical-align: top;\n",
       "    }\n",
       "\n",
       "    .dataframe thead th {\n",
       "        text-align: right;\n",
       "    }\n",
       "</style>\n",
       "<table border=\"1\" class=\"dataframe\">\n",
       "  <thead>\n",
       "    <tr style=\"text-align: right;\">\n",
       "      <th></th>\n",
       "      <th>SMILES</th>\n",
       "      <th>accession</th>\n",
       "      <th>pchembl_value_Mean</th>\n",
       "    </tr>\n",
       "  </thead>\n",
       "  <tbody>\n",
       "    <tr>\n",
       "      <th>104</th>\n",
       "      <td>Cc1cc(C)n(-c2cc(NC(=O)CCN(C)C)nc(-c3ccc(C)o3)n...</td>\n",
       "      <td>P29274</td>\n",
       "      <td>8.68</td>\n",
       "    </tr>\n",
       "    <tr>\n",
       "      <th>105</th>\n",
       "      <td>Cc1cc(C)n(-c2cc(NC(=O)CCN(C)C)nc(-c3ccc(C)o3)n...</td>\n",
       "      <td>P30542</td>\n",
       "      <td>6.68</td>\n",
       "    </tr>\n",
       "    <tr>\n",
       "      <th>196</th>\n",
       "      <td>Nc1c(C(=O)Nc2ccc([N+](=O)[O-])cc2)sc2nc3c(cc12...</td>\n",
       "      <td>P29274</td>\n",
       "      <td>4.82</td>\n",
       "    </tr>\n",
       "    <tr>\n",
       "      <th>242</th>\n",
       "      <td>O=C(Nc1nc2ncccc2n2c(=O)n(-c3ccccc3)nc12)c1ccccc1</td>\n",
       "      <td>P0DMS8</td>\n",
       "      <td>7.15</td>\n",
       "    </tr>\n",
       "    <tr>\n",
       "      <th>244</th>\n",
       "      <td>O=C(Nc1nc2ncccc2n2c(=O)n(-c3ccccc3)nc12)c1ccccc1</td>\n",
       "      <td>P29274</td>\n",
       "      <td>5.65</td>\n",
       "    </tr>\n",
       "    <tr>\n",
       "      <th>...</th>\n",
       "      <td>...</td>\n",
       "      <td>...</td>\n",
       "      <td>...</td>\n",
       "    </tr>\n",
       "    <tr>\n",
       "      <th>706600</th>\n",
       "      <td>CCCOc1ccc(C=Cc2cc3c(c(=O)n(C)c(=O)n3C)n2C)cc1</td>\n",
       "      <td>P29274</td>\n",
       "      <td>6.51</td>\n",
       "    </tr>\n",
       "    <tr>\n",
       "      <th>707350</th>\n",
       "      <td>CCOC(=O)c1cnc(NCC(C)C)n2nc(-c3ccco3)nc12</td>\n",
       "      <td>P0DMS8</td>\n",
       "      <td>7.61</td>\n",
       "    </tr>\n",
       "    <tr>\n",
       "      <th>707351</th>\n",
       "      <td>CCOC(=O)c1cnc(NCC(C)C)n2nc(-c3ccco3)nc12</td>\n",
       "      <td>P29274</td>\n",
       "      <td>7.35</td>\n",
       "    </tr>\n",
       "    <tr>\n",
       "      <th>707352</th>\n",
       "      <td>CCOC(=O)c1cnc(NCC(C)C)n2nc(-c3ccco3)nc12</td>\n",
       "      <td>P29275</td>\n",
       "      <td>5.15</td>\n",
       "    </tr>\n",
       "    <tr>\n",
       "      <th>707353</th>\n",
       "      <td>CCOC(=O)c1cnc(NCC(C)C)n2nc(-c3ccco3)nc12</td>\n",
       "      <td>P30542</td>\n",
       "      <td>7.34</td>\n",
       "    </tr>\n",
       "  </tbody>\n",
       "</table>\n",
       "<p>13550 rows × 3 columns</p>\n",
       "</div>"
      ],
      "text/plain": [
       "                                                   SMILES accession  \\\n",
       "104     Cc1cc(C)n(-c2cc(NC(=O)CCN(C)C)nc(-c3ccc(C)o3)n...    P29274   \n",
       "105     Cc1cc(C)n(-c2cc(NC(=O)CCN(C)C)nc(-c3ccc(C)o3)n...    P30542   \n",
       "196     Nc1c(C(=O)Nc2ccc([N+](=O)[O-])cc2)sc2nc3c(cc12...    P29274   \n",
       "242      O=C(Nc1nc2ncccc2n2c(=O)n(-c3ccccc3)nc12)c1ccccc1    P0DMS8   \n",
       "244      O=C(Nc1nc2ncccc2n2c(=O)n(-c3ccccc3)nc12)c1ccccc1    P29274   \n",
       "...                                                   ...       ...   \n",
       "706600      CCCOc1ccc(C=Cc2cc3c(c(=O)n(C)c(=O)n3C)n2C)cc1    P29274   \n",
       "707350           CCOC(=O)c1cnc(NCC(C)C)n2nc(-c3ccco3)nc12    P0DMS8   \n",
       "707351           CCOC(=O)c1cnc(NCC(C)C)n2nc(-c3ccco3)nc12    P29274   \n",
       "707352           CCOC(=O)c1cnc(NCC(C)C)n2nc(-c3ccco3)nc12    P29275   \n",
       "707353           CCOC(=O)c1cnc(NCC(C)C)n2nc(-c3ccco3)nc12    P30542   \n",
       "\n",
       "        pchembl_value_Mean  \n",
       "104                   8.68  \n",
       "105                   6.68  \n",
       "196                   4.82  \n",
       "242                   7.15  \n",
       "244                   5.65  \n",
       "...                    ...  \n",
       "706600                6.51  \n",
       "707350                7.61  \n",
       "707351                7.35  \n",
       "707352                5.15  \n",
       "707353                7.34  \n",
       "\n",
       "[13550 rows x 3 columns]"
      ]
     },
     "execution_count": 12,
     "metadata": {},
     "output_type": "execute_result"
    }
   ],
   "source": [
    "ar_dataset = ar_data[['SMILES', 'accession', 'pchembl_value_Mean']]\n",
    "ar_dataset"
   ]
  },
  {
   "cell_type": "markdown",
   "metadata": {
    "pycharm": {
     "name": "#%% md\n"
    }
   },
   "source": [
    "#### Align target sequences"
   ]
  },
  {
   "cell_type": "markdown",
   "metadata": {},
   "source": [
    "In order to ensure protein descriptors are of the same length, we first need to align the target sequences. We do this by using the software ClustalO. To begin with, we extract the protein sequences from the target files in Papyrus. The sequences could also be obtained from Uniprot, but tis way we ensure we are always retrieving the canonical isoform sequence."
   ]
  },
  {
   "cell_type": "code",
   "execution_count": 13,
   "metadata": {
    "pycharm": {
     "name": "#%%\n"
    }
   },
   "outputs": [
    {
     "data": {
      "text/html": [
       "<div>\n",
       "<style scoped>\n",
       "    .dataframe tbody tr th:only-of-type {\n",
       "        vertical-align: middle;\n",
       "    }\n",
       "\n",
       "    .dataframe tbody tr th {\n",
       "        vertical-align: top;\n",
       "    }\n",
       "\n",
       "    .dataframe thead th {\n",
       "        text-align: right;\n",
       "    }\n",
       "</style>\n",
       "<table border=\"1\" class=\"dataframe\">\n",
       "  <thead>\n",
       "    <tr style=\"text-align: right;\">\n",
       "      <th></th>\n",
       "      <th>target_id</th>\n",
       "      <th>UniProtID</th>\n",
       "      <th>Status</th>\n",
       "      <th>Organism</th>\n",
       "      <th>Classification</th>\n",
       "      <th>Length</th>\n",
       "      <th>Sequence</th>\n",
       "      <th>TID</th>\n",
       "      <th>accession</th>\n",
       "    </tr>\n",
       "  </thead>\n",
       "  <tbody>\n",
       "    <tr>\n",
       "      <th>85</th>\n",
       "      <td>P30542_WT</td>\n",
       "      <td>AA1R_HUMAN</td>\n",
       "      <td>reviewed</td>\n",
       "      <td>Homo sapiens (Human)</td>\n",
       "      <td>Membrane receptor-&gt;Family A G protein-coupled ...</td>\n",
       "      <td>326</td>\n",
       "      <td>MPPSISAFQAAYIGIEVLIALVSVPGNVLVIWAVKVNQALRDATFC...</td>\n",
       "      <td>ChEMBL:CHEMBL226;ChEMBL:CHEMBL2111329;EntrezID...</td>\n",
       "      <td>P30542</td>\n",
       "    </tr>\n",
       "    <tr>\n",
       "      <th>86</th>\n",
       "      <td>P29274_WT</td>\n",
       "      <td>AA2AR_HUMAN</td>\n",
       "      <td>reviewed</td>\n",
       "      <td>Homo sapiens (Human)</td>\n",
       "      <td>Membrane receptor-&gt;Family A G protein-coupled ...</td>\n",
       "      <td>412</td>\n",
       "      <td>MPIMGSSVYITVELAIAVLAILGNVLVCWAVWLNSNLQNVTNYFVV...</td>\n",
       "      <td>ChEMBL:CHEMBL251;ChEMBL:CHEMBL2094257;EntrezID...</td>\n",
       "      <td>P29274</td>\n",
       "    </tr>\n",
       "    <tr>\n",
       "      <th>29</th>\n",
       "      <td>P29275_WT</td>\n",
       "      <td>AA2BR_HUMAN</td>\n",
       "      <td>reviewed</td>\n",
       "      <td>Homo sapiens (Human)</td>\n",
       "      <td>Membrane receptor-&gt;Family A G protein-coupled ...</td>\n",
       "      <td>332</td>\n",
       "      <td>MLLETQDALYVALELVIAALSVAGNVLVCAAVGTANTLQTPTNYFL...</td>\n",
       "      <td>ChEMBL:CHEMBL255;ChEMBL:CHEMBL2094257;EntrezID...</td>\n",
       "      <td>P29275</td>\n",
       "    </tr>\n",
       "    <tr>\n",
       "      <th>87</th>\n",
       "      <td>P0DMS8_WT</td>\n",
       "      <td>AA3R_HUMAN</td>\n",
       "      <td>reviewed</td>\n",
       "      <td>Homo sapiens (Human)</td>\n",
       "      <td>Membrane receptor-&gt;Family A G protein-coupled ...</td>\n",
       "      <td>318</td>\n",
       "      <td>MPNNSTALSLANVTYITMEIFIGLCAIVGNVLVICVVKLNPSLQTT...</td>\n",
       "      <td>ChEMBL:CHEMBL256;ChEMBL:CHEMBL2095234;EntrezID...</td>\n",
       "      <td>P0DMS8</td>\n",
       "    </tr>\n",
       "  </tbody>\n",
       "</table>\n",
       "</div>"
      ],
      "text/plain": [
       "    target_id    UniProtID    Status              Organism  \\\n",
       "85  P30542_WT   AA1R_HUMAN  reviewed  Homo sapiens (Human)   \n",
       "86  P29274_WT  AA2AR_HUMAN  reviewed  Homo sapiens (Human)   \n",
       "29  P29275_WT  AA2BR_HUMAN  reviewed  Homo sapiens (Human)   \n",
       "87  P0DMS8_WT   AA3R_HUMAN  reviewed  Homo sapiens (Human)   \n",
       "\n",
       "                                       Classification  Length  \\\n",
       "85  Membrane receptor->Family A G protein-coupled ...     326   \n",
       "86  Membrane receptor->Family A G protein-coupled ...     412   \n",
       "29  Membrane receptor->Family A G protein-coupled ...     332   \n",
       "87  Membrane receptor->Family A G protein-coupled ...     318   \n",
       "\n",
       "                                             Sequence  \\\n",
       "85  MPPSISAFQAAYIGIEVLIALVSVPGNVLVIWAVKVNQALRDATFC...   \n",
       "86  MPIMGSSVYITVELAIAVLAILGNVLVCWAVWLNSNLQNVTNYFVV...   \n",
       "29  MLLETQDALYVALELVIAALSVAGNVLVCAAVGTANTLQTPTNYFL...   \n",
       "87  MPNNSTALSLANVTYITMEIFIGLCAIVGNVLVICVVKLNPSLQTT...   \n",
       "\n",
       "                                                  TID accession  \n",
       "85  ChEMBL:CHEMBL226;ChEMBL:CHEMBL2111329;EntrezID...    P30542  \n",
       "86  ChEMBL:CHEMBL251;ChEMBL:CHEMBL2094257;EntrezID...    P29274  \n",
       "29  ChEMBL:CHEMBL255;ChEMBL:CHEMBL2094257;EntrezID...    P29275  \n",
       "87  ChEMBL:CHEMBL256;ChEMBL:CHEMBL2095234;EntrezID...    P0DMS8  "
      ]
     },
     "execution_count": 13,
     "metadata": {},
     "output_type": "execute_result"
    }
   ],
   "source": [
    "protein_data = read_protein_set(version=PAPYRUS_VERSION)\n",
    "protein_data['accession'] = protein_data['target_id'].apply(lambda x: x.split('_')[0])\n",
    "targets = pd.concat(protein_data[protein_data.target_id.str.startswith(x)] for x in adenosine_receptors.values())\n",
    "targets"
   ]
  },
  {
   "cell_type": "markdown",
   "metadata": {},
   "source": [
    "In order to align the sequences with Clustal Omega, we first need to write them into a FASTA file."
   ]
  },
  {
   "cell_type": "code",
   "execution_count": 14,
   "metadata": {
    "pycharm": {
     "name": "#%%\n"
    }
   },
   "outputs": [],
   "source": [
    "records = []\n",
    "for index, row in targets.reset_index(drop=True).iterrows():\n",
    "    records.append(SeqRecord(seq=Seq(row.Sequence),\n",
    "                             id=str(index),\n",
    "                             name=row.accession,\n",
    "                             description=' '.join([row.UniProtID, row.Organism, row.Classification])))\n",
    "sequences_path = os.path.join(DATA, 'sequences.fasta')\n",
    "_ = SeqIO_write(records, sequences_path, 'fasta')"
   ]
  },
  {
   "cell_type": "markdown",
   "metadata": {
    "pycharm": {
     "name": "#%% md\n"
    }
   },
   "source": [
    "Now, we use ClustalO to align the sequences and write out the alignment file. We do this by calling the ClustalO webservice from the command line."
   ]
  },
  {
   "cell_type": "code",
   "execution_count": 15,
   "metadata": {
    "pycharm": {
     "name": "#%%\n"
    }
   },
   "outputs": [
    {
     "name": "stdout",
     "output_type": "stream",
     "text": [
      "JobId: clustalo-R20250910-085524-0424-92041939-p1m\n",
      "FINISHED\n",
      "Creating result file: aligned_sequences.out.txt\n",
      "Creating result file: aligned_sequences.sequence.txt\n",
      "Creating result file: aligned_sequences.aln-fasta.fasta\n",
      "Creating result file: aligned_sequences.tree.dnd\n",
      "Creating result file: aligned_sequences.phylotree.ph\n",
      "Creating result file: aligned_sequences.pim.pim\n",
      "Creating result file: aligned_sequences.submission.params\n",
      "Creating result file: aligned_sequences.fa.sqr.fa\n",
      "Creating result file: aligned_sequences.zip.zip\n"
     ]
    }
   ],
   "source": [
    "os.chdir(DATA) # Move to data folder to generate ClustalO results there\n",
    "# Query ClustalO webservice from command line\n",
    "!python clustalo.py --email m.gorostiola.gonzalez@lacdr.leidenuniv.nl --stype protein --sequence sequences.fasta --outfmt fa --outfile aligned_sequences --order input\n",
    "os.chdir(HERE) # Move back to main notebook directory"
   ]
  },
  {
   "cell_type": "markdown",
   "metadata": {
    "pycharm": {
     "name": "#%% md\n"
    }
   },
   "source": [
    "Finally we parse the aligned sequences."
   ]
  },
  {
   "cell_type": "code",
   "execution_count": 16,
   "metadata": {
    "pycharm": {
     "name": "#%%\n"
    }
   },
   "outputs": [],
   "source": [
    "alignment_file = os.path.join(DATA, 'aligned_sequences.aln-fasta.fasta')\n",
    "aligned_sequences = [str(seq.seq) for seq in SeqIO_parse(alignment_file, 'fasta')]"
   ]
  },
  {
   "cell_type": "markdown",
   "metadata": {
    "pycharm": {
     "name": "#%% md\n"
    }
   },
   "source": [
    "And we visualize the MSA."
   ]
  },
  {
   "cell_type": "code",
   "execution_count": 17,
   "metadata": {
    "pycharm": {
     "name": "#%%\n"
    }
   },
   "outputs": [
    {
     "data": {
      "text/html": [
       "<pre style=\"white-space:pre;overflow-x:auto;line-height:normal;font-family:Menlo,'DejaVu Sans Mono',consolas,'Courier New',monospace\">╭────────────────────────────────────────── Multiple sequence alignment ──────────────────────────────────────────╮\n",
       "│ 0 AA1R_HU…   <span style=\"color: #008080; text-decoration-color: #008080; font-weight: bold\">  1</span>  <span style=\"color: #4e4e4e; text-decoration-color: #4e4e4e; font-weight: bold\">---</span><span style=\"color: #800000; text-decoration-color: #800000; font-weight: bold\">MPP</span><span style=\"color: #008000; text-decoration-color: #008000; font-weight: bold\">S</span><span style=\"color: #800000; text-decoration-color: #800000; font-weight: bold\">I</span><span style=\"color: #008000; text-decoration-color: #008000; font-weight: bold\">S</span><span style=\"color: #800000; text-decoration-color: #800000; font-weight: bold\">AF</span><span style=\"color: #008000; text-decoration-color: #008000; font-weight: bold\">Q</span><span style=\"color: #800000; text-decoration-color: #800000; font-weight: bold\">AA</span><span style=\"color: #008000; text-decoration-color: #008000; font-weight: bold\">Y</span><span style=\"color: #800000; text-decoration-color: #800000; font-weight: bold\">I</span><span style=\"color: #008000; text-decoration-color: #008000; font-weight: bold\">G</span><span style=\"color: #800000; text-decoration-color: #800000; font-weight: bold\">I</span><span style=\"color: #000080; text-decoration-color: #000080; font-weight: bold\">E</span><span style=\"color: #800000; text-decoration-color: #800000; font-weight: bold\">VLIALV</span><span style=\"color: #008000; text-decoration-color: #008000; font-weight: bold\">S</span><span style=\"color: #800000; text-decoration-color: #800000; font-weight: bold\">VP</span><span style=\"color: #008000; text-decoration-color: #008000; font-weight: bold\">GN</span><span style=\"color: #800000; text-decoration-color: #800000; font-weight: bold\">VLVIWAV</span><span style=\"color: #af00ff; text-decoration-color: #af00ff; font-weight: bold\">K</span><span style=\"color: #800000; text-decoration-color: #800000; font-weight: bold\">V</span><span style=\"color: #008000; text-decoration-color: #008000; font-weight: bold\">NQ</span><span style=\"color: #800000; text-decoration-color: #800000; font-weight: bold\">AL</span><span style=\"color: #af00ff; text-decoration-color: #af00ff; font-weight: bold\">R</span><span style=\"color: #000080; text-decoration-color: #000080; font-weight: bold\">D</span><span style=\"color: #800000; text-decoration-color: #800000; font-weight: bold\">A</span><span style=\"color: #008000; text-decoration-color: #008000; font-weight: bold\">T</span><span style=\"color: #800000; text-decoration-color: #800000; font-weight: bold\">F</span><span style=\"color: #008000; text-decoration-color: #008000; font-weight: bold\">C</span><span style=\"color: #800000; text-decoration-color: #800000; font-weight: bold\">FIV</span><span style=\"color: #008000; text-decoration-color: #008000; font-weight: bold\">S</span><span style=\"color: #800000; text-decoration-color: #800000; font-weight: bold\">LAVA</span><span style=\"color: #000080; text-decoration-color: #000080; font-weight: bold\">D</span><span style=\"color: #800000; text-decoration-color: #800000; font-weight: bold\">VAV</span><span style=\"color: #008000; text-decoration-color: #008000; font-weight: bold\">G</span><span style=\"color: #800000; text-decoration-color: #800000; font-weight: bold\">ALVIPLAILI</span><span style=\"color: #008000; text-decoration-color: #008000; font-weight: bold\">N</span><span style=\"color: #800000; text-decoration-color: #800000; font-weight: bold\">I</span><span style=\"color: #008000; text-decoration-color: #008000; font-weight: bold\">G</span><span style=\"color: #800000; text-decoration-color: #800000; font-weight: bold\">P</span><span style=\"color: #008000; text-decoration-color: #008000; font-weight: bold\">QTY</span><span style=\"color: #800000; text-decoration-color: #800000; font-weight: bold\">F</span><span style=\"color: #008000; text-decoration-color: #008000; font-weight: bold\">HTC</span><span style=\"color: #800000; text-decoration-color: #800000; font-weight: bold\">LMVA</span><span style=\"color: #008000; text-decoration-color: #008000; font-weight: bold\">C</span><span style=\"color: #800000; text-decoration-color: #800000; font-weight: bold\">PVLI</span>  │\n",
       "│ 1 AA2AR_H…   <span style=\"color: #008080; text-decoration-color: #008080; font-weight: bold\">  1</span>  <span style=\"color: #4e4e4e; text-decoration-color: #4e4e4e; font-weight: bold\">------</span><span style=\"color: #800000; text-decoration-color: #800000; font-weight: bold\">MPIM</span><span style=\"color: #008000; text-decoration-color: #008000; font-weight: bold\">GSS</span><span style=\"color: #800000; text-decoration-color: #800000; font-weight: bold\">V</span><span style=\"color: #008000; text-decoration-color: #008000; font-weight: bold\">Y</span><span style=\"color: #800000; text-decoration-color: #800000; font-weight: bold\">I</span><span style=\"color: #008000; text-decoration-color: #008000; font-weight: bold\">T</span><span style=\"color: #800000; text-decoration-color: #800000; font-weight: bold\">V</span><span style=\"color: #000080; text-decoration-color: #000080; font-weight: bold\">E</span><span style=\"color: #800000; text-decoration-color: #800000; font-weight: bold\">LAIAVLAIL</span><span style=\"color: #008000; text-decoration-color: #008000; font-weight: bold\">GN</span><span style=\"color: #800000; text-decoration-color: #800000; font-weight: bold\">VLV</span><span style=\"color: #008000; text-decoration-color: #008000; font-weight: bold\">C</span><span style=\"color: #800000; text-decoration-color: #800000; font-weight: bold\">WAVWL</span><span style=\"color: #008000; text-decoration-color: #008000; font-weight: bold\">NSN</span><span style=\"color: #800000; text-decoration-color: #800000; font-weight: bold\">L</span><span style=\"color: #008000; text-decoration-color: #008000; font-weight: bold\">QN</span><span style=\"color: #800000; text-decoration-color: #800000; font-weight: bold\">V</span><span style=\"color: #008000; text-decoration-color: #008000; font-weight: bold\">TNY</span><span style=\"color: #800000; text-decoration-color: #800000; font-weight: bold\">FVV</span><span style=\"color: #008000; text-decoration-color: #008000; font-weight: bold\">S</span><span style=\"color: #800000; text-decoration-color: #800000; font-weight: bold\">LAAA</span><span style=\"color: #000080; text-decoration-color: #000080; font-weight: bold\">D</span><span style=\"color: #800000; text-decoration-color: #800000; font-weight: bold\">IAV</span><span style=\"color: #008000; text-decoration-color: #008000; font-weight: bold\">G</span><span style=\"color: #800000; text-decoration-color: #800000; font-weight: bold\">VLAIPFAI</span><span style=\"color: #008000; text-decoration-color: #008000; font-weight: bold\">T</span><span style=\"color: #800000; text-decoration-color: #800000; font-weight: bold\">I</span><span style=\"color: #008000; text-decoration-color: #008000; font-weight: bold\">STG</span><span style=\"color: #800000; text-decoration-color: #800000; font-weight: bold\">F</span><span style=\"color: #008000; text-decoration-color: #008000; font-weight: bold\">C</span><span style=\"color: #800000; text-decoration-color: #800000; font-weight: bold\">AA</span><span style=\"color: #008000; text-decoration-color: #008000; font-weight: bold\">CHGC</span><span style=\"color: #800000; text-decoration-color: #800000; font-weight: bold\">LFIA</span><span style=\"color: #008000; text-decoration-color: #008000; font-weight: bold\">C</span><span style=\"color: #800000; text-decoration-color: #800000; font-weight: bold\">FVLV</span>  │\n",
       "│ 2 AA2BR_H…   <span style=\"color: #008080; text-decoration-color: #008080; font-weight: bold\">  1</span>  <span style=\"color: #4e4e4e; text-decoration-color: #4e4e4e; font-weight: bold\">-----</span><span style=\"color: #800000; text-decoration-color: #800000; font-weight: bold\">MLL</span><span style=\"color: #000080; text-decoration-color: #000080; font-weight: bold\">E</span><span style=\"color: #008000; text-decoration-color: #008000; font-weight: bold\">TQ</span><span style=\"color: #000080; text-decoration-color: #000080; font-weight: bold\">D</span><span style=\"color: #800000; text-decoration-color: #800000; font-weight: bold\">AL</span><span style=\"color: #008000; text-decoration-color: #008000; font-weight: bold\">Y</span><span style=\"color: #800000; text-decoration-color: #800000; font-weight: bold\">VAL</span><span style=\"color: #000080; text-decoration-color: #000080; font-weight: bold\">E</span><span style=\"color: #800000; text-decoration-color: #800000; font-weight: bold\">LVIAAL</span><span style=\"color: #008000; text-decoration-color: #008000; font-weight: bold\">S</span><span style=\"color: #800000; text-decoration-color: #800000; font-weight: bold\">VA</span><span style=\"color: #008000; text-decoration-color: #008000; font-weight: bold\">GN</span><span style=\"color: #800000; text-decoration-color: #800000; font-weight: bold\">VLV</span><span style=\"color: #008000; text-decoration-color: #008000; font-weight: bold\">C</span><span style=\"color: #800000; text-decoration-color: #800000; font-weight: bold\">AAV</span><span style=\"color: #008000; text-decoration-color: #008000; font-weight: bold\">GT</span><span style=\"color: #800000; text-decoration-color: #800000; font-weight: bold\">A</span><span style=\"color: #008000; text-decoration-color: #008000; font-weight: bold\">NT</span><span style=\"color: #800000; text-decoration-color: #800000; font-weight: bold\">L</span><span style=\"color: #008000; text-decoration-color: #008000; font-weight: bold\">QT</span><span style=\"color: #800000; text-decoration-color: #800000; font-weight: bold\">P</span><span style=\"color: #008000; text-decoration-color: #008000; font-weight: bold\">TNY</span><span style=\"color: #800000; text-decoration-color: #800000; font-weight: bold\">FLV</span><span style=\"color: #008000; text-decoration-color: #008000; font-weight: bold\">S</span><span style=\"color: #800000; text-decoration-color: #800000; font-weight: bold\">LAAA</span><span style=\"color: #000080; text-decoration-color: #000080; font-weight: bold\">D</span><span style=\"color: #800000; text-decoration-color: #800000; font-weight: bold\">VAV</span><span style=\"color: #008000; text-decoration-color: #008000; font-weight: bold\">G</span><span style=\"color: #800000; text-decoration-color: #800000; font-weight: bold\">LFAIPFAI</span><span style=\"color: #008000; text-decoration-color: #008000; font-weight: bold\">T</span><span style=\"color: #800000; text-decoration-color: #800000; font-weight: bold\">I</span><span style=\"color: #008000; text-decoration-color: #008000; font-weight: bold\">S</span><span style=\"color: #800000; text-decoration-color: #800000; font-weight: bold\">L</span><span style=\"color: #008000; text-decoration-color: #008000; font-weight: bold\">G</span><span style=\"color: #800000; text-decoration-color: #800000; font-weight: bold\">F</span><span style=\"color: #008000; text-decoration-color: #008000; font-weight: bold\">CT</span><span style=\"color: #000080; text-decoration-color: #000080; font-weight: bold\">D</span><span style=\"color: #800000; text-decoration-color: #800000; font-weight: bold\">F</span><span style=\"color: #008000; text-decoration-color: #008000; font-weight: bold\">YGC</span><span style=\"color: #800000; text-decoration-color: #800000; font-weight: bold\">LFLA</span><span style=\"color: #008000; text-decoration-color: #008000; font-weight: bold\">C</span><span style=\"color: #800000; text-decoration-color: #800000; font-weight: bold\">FVLV</span>  │\n",
       "│ 3 AA3R_HU…   <span style=\"color: #008080; text-decoration-color: #008080; font-weight: bold\">  1</span>  <span style=\"color: #800000; text-decoration-color: #800000; font-weight: bold\">MP</span><span style=\"color: #008000; text-decoration-color: #008000; font-weight: bold\">NNST</span><span style=\"color: #800000; text-decoration-color: #800000; font-weight: bold\">AL</span><span style=\"color: #008000; text-decoration-color: #008000; font-weight: bold\">S</span><span style=\"color: #800000; text-decoration-color: #800000; font-weight: bold\">LA</span><span style=\"color: #008000; text-decoration-color: #008000; font-weight: bold\">N</span><span style=\"color: #800000; text-decoration-color: #800000; font-weight: bold\">V</span><span style=\"color: #008000; text-decoration-color: #008000; font-weight: bold\">TY</span><span style=\"color: #800000; text-decoration-color: #800000; font-weight: bold\">I</span><span style=\"color: #008000; text-decoration-color: #008000; font-weight: bold\">T</span><span style=\"color: #800000; text-decoration-color: #800000; font-weight: bold\">M</span><span style=\"color: #000080; text-decoration-color: #000080; font-weight: bold\">E</span><span style=\"color: #800000; text-decoration-color: #800000; font-weight: bold\">IFI</span><span style=\"color: #008000; text-decoration-color: #008000; font-weight: bold\">G</span><span style=\"color: #800000; text-decoration-color: #800000; font-weight: bold\">L</span><span style=\"color: #008000; text-decoration-color: #008000; font-weight: bold\">C</span><span style=\"color: #800000; text-decoration-color: #800000; font-weight: bold\">AIV</span><span style=\"color: #008000; text-decoration-color: #008000; font-weight: bold\">GN</span><span style=\"color: #800000; text-decoration-color: #800000; font-weight: bold\">VLVI</span><span style=\"color: #008000; text-decoration-color: #008000; font-weight: bold\">C</span><span style=\"color: #800000; text-decoration-color: #800000; font-weight: bold\">VV</span><span style=\"color: #af00ff; text-decoration-color: #af00ff; font-weight: bold\">K</span><span style=\"color: #800000; text-decoration-color: #800000; font-weight: bold\">L</span><span style=\"color: #008000; text-decoration-color: #008000; font-weight: bold\">N</span><span style=\"color: #800000; text-decoration-color: #800000; font-weight: bold\">P</span><span style=\"color: #008000; text-decoration-color: #008000; font-weight: bold\">S</span><span style=\"color: #800000; text-decoration-color: #800000; font-weight: bold\">L</span><span style=\"color: #008000; text-decoration-color: #008000; font-weight: bold\">QTTT</span><span style=\"color: #800000; text-decoration-color: #800000; font-weight: bold\">F</span><span style=\"color: #008000; text-decoration-color: #008000; font-weight: bold\">Y</span><span style=\"color: #800000; text-decoration-color: #800000; font-weight: bold\">FIV</span><span style=\"color: #008000; text-decoration-color: #008000; font-weight: bold\">S</span><span style=\"color: #800000; text-decoration-color: #800000; font-weight: bold\">LALA</span><span style=\"color: #000080; text-decoration-color: #000080; font-weight: bold\">D</span><span style=\"color: #800000; text-decoration-color: #800000; font-weight: bold\">IAV</span><span style=\"color: #008000; text-decoration-color: #008000; font-weight: bold\">G</span><span style=\"color: #800000; text-decoration-color: #800000; font-weight: bold\">VLVMPLAIVV</span><span style=\"color: #008000; text-decoration-color: #008000; font-weight: bold\">S</span><span style=\"color: #800000; text-decoration-color: #800000; font-weight: bold\">L</span><span style=\"color: #008000; text-decoration-color: #008000; font-weight: bold\">G</span><span style=\"color: #800000; text-decoration-color: #800000; font-weight: bold\">I</span><span style=\"color: #008000; text-decoration-color: #008000; font-weight: bold\">T</span><span style=\"color: #800000; text-decoration-color: #800000; font-weight: bold\">I</span><span style=\"color: #008000; text-decoration-color: #008000; font-weight: bold\">H</span><span style=\"color: #800000; text-decoration-color: #800000; font-weight: bold\">F</span><span style=\"color: #008000; text-decoration-color: #008000; font-weight: bold\">YSC</span><span style=\"color: #800000; text-decoration-color: #800000; font-weight: bold\">LFM</span><span style=\"color: #008000; text-decoration-color: #008000; font-weight: bold\">TC</span><span style=\"color: #800000; text-decoration-color: #800000; font-weight: bold\">LLLI</span>  │\n",
       "│                                                                                                                 │\n",
       "│ 0 AA1R_HU…   <span style=\"color: #008080; text-decoration-color: #008080; font-weight: bold\"> 90</span>  <span style=\"color: #800000; text-decoration-color: #800000; font-weight: bold\">L</span><span style=\"color: #008000; text-decoration-color: #008000; font-weight: bold\">TQSS</span><span style=\"color: #800000; text-decoration-color: #800000; font-weight: bold\">ILALLAIAV</span><span style=\"color: #000080; text-decoration-color: #000080; font-weight: bold\">D</span><span style=\"color: #af00ff; text-decoration-color: #af00ff; font-weight: bold\">R</span><span style=\"color: #008000; text-decoration-color: #008000; font-weight: bold\">Y</span><span style=\"color: #800000; text-decoration-color: #800000; font-weight: bold\">L</span><span style=\"color: #af00ff; text-decoration-color: #af00ff; font-weight: bold\">R</span><span style=\"color: #800000; text-decoration-color: #800000; font-weight: bold\">V</span><span style=\"color: #af00ff; text-decoration-color: #af00ff; font-weight: bold\">K</span><span style=\"color: #800000; text-decoration-color: #800000; font-weight: bold\">IPL</span><span style=\"color: #af00ff; text-decoration-color: #af00ff; font-weight: bold\">R</span><span style=\"color: #008000; text-decoration-color: #008000; font-weight: bold\">Y</span><span style=\"color: #af00ff; text-decoration-color: #af00ff; font-weight: bold\">K</span><span style=\"color: #800000; text-decoration-color: #800000; font-weight: bold\">MVV</span><span style=\"color: #008000; text-decoration-color: #008000; font-weight: bold\">T</span><span style=\"color: #800000; text-decoration-color: #800000; font-weight: bold\">P</span><span style=\"color: #af00ff; text-decoration-color: #af00ff; font-weight: bold\">RR</span><span style=\"color: #800000; text-decoration-color: #800000; font-weight: bold\">AAVAIA</span><span style=\"color: #008000; text-decoration-color: #008000; font-weight: bold\">GC</span><span style=\"color: #800000; text-decoration-color: #800000; font-weight: bold\">WIL</span><span style=\"color: #008000; text-decoration-color: #008000; font-weight: bold\">S</span><span style=\"color: #800000; text-decoration-color: #800000; font-weight: bold\">FVV</span><span style=\"color: #008000; text-decoration-color: #008000; font-weight: bold\">G</span><span style=\"color: #800000; text-decoration-color: #800000; font-weight: bold\">L</span><span style=\"color: #008000; text-decoration-color: #008000; font-weight: bold\">T</span><span style=\"color: #800000; text-decoration-color: #800000; font-weight: bold\">PMF</span><span style=\"color: #008000; text-decoration-color: #008000; font-weight: bold\">G</span><span style=\"color: #800000; text-decoration-color: #800000; font-weight: bold\">W</span><span style=\"color: #008000; text-decoration-color: #008000; font-weight: bold\">NN</span><span style=\"color: #800000; text-decoration-color: #800000; font-weight: bold\">L</span><span style=\"color: #008000; text-decoration-color: #008000; font-weight: bold\">S</span><span style=\"color: #800000; text-decoration-color: #800000; font-weight: bold\">AV</span><span style=\"color: #000080; text-decoration-color: #000080; font-weight: bold\">E</span><span style=\"color: #af00ff; text-decoration-color: #af00ff; font-weight: bold\">R</span><span style=\"color: #4e4e4e; text-decoration-color: #4e4e4e; font-weight: bold\">----</span><span style=\"color: #800000; text-decoration-color: #800000; font-weight: bold\">AWA</span><span style=\"color: #4e4e4e; text-decoration-color: #4e4e4e; font-weight: bold\">---</span><span style=\"color: #800000; text-decoration-color: #800000; font-weight: bold\">A</span><span style=\"color: #008000; text-decoration-color: #008000; font-weight: bold\">NGS</span><span style=\"color: #800000; text-decoration-color: #800000; font-weight: bold\">M</span><span style=\"color: #008000; text-decoration-color: #008000; font-weight: bold\">G</span><span style=\"color: #000080; text-decoration-color: #000080; font-weight: bold\">E</span><span style=\"color: #800000; text-decoration-color: #800000; font-weight: bold\">PVI</span><span style=\"color: #af00ff; text-decoration-color: #af00ff; font-weight: bold\">K</span><span style=\"color: #008000; text-decoration-color: #008000; font-weight: bold\">C</span><span style=\"color: #000080; text-decoration-color: #000080; font-weight: bold\">E</span><span style=\"color: #800000; text-decoration-color: #800000; font-weight: bold\">F</span><span style=\"color: #000080; text-decoration-color: #000080; font-weight: bold\">E</span><span style=\"color: #af00ff; text-decoration-color: #af00ff; font-weight: bold\">K</span><span style=\"color: #800000; text-decoration-color: #800000; font-weight: bold\">V</span>  │\n",
       "│ 1 AA2AR_H…   <span style=\"color: #008080; text-decoration-color: #008080; font-weight: bold\"> 87</span>  <span style=\"color: #800000; text-decoration-color: #800000; font-weight: bold\">L</span><span style=\"color: #008000; text-decoration-color: #008000; font-weight: bold\">TQSS</span><span style=\"color: #800000; text-decoration-color: #800000; font-weight: bold\">IF</span><span style=\"color: #008000; text-decoration-color: #008000; font-weight: bold\">S</span><span style=\"color: #800000; text-decoration-color: #800000; font-weight: bold\">LLAIAI</span><span style=\"color: #000080; text-decoration-color: #000080; font-weight: bold\">D</span><span style=\"color: #af00ff; text-decoration-color: #af00ff; font-weight: bold\">R</span><span style=\"color: #008000; text-decoration-color: #008000; font-weight: bold\">Y</span><span style=\"color: #800000; text-decoration-color: #800000; font-weight: bold\">IAI</span><span style=\"color: #af00ff; text-decoration-color: #af00ff; font-weight: bold\">R</span><span style=\"color: #800000; text-decoration-color: #800000; font-weight: bold\">IPL</span><span style=\"color: #af00ff; text-decoration-color: #af00ff; font-weight: bold\">R</span><span style=\"color: #008000; text-decoration-color: #008000; font-weight: bold\">YNG</span><span style=\"color: #800000; text-decoration-color: #800000; font-weight: bold\">LV</span><span style=\"color: #008000; text-decoration-color: #008000; font-weight: bold\">TGT</span><span style=\"color: #af00ff; text-decoration-color: #af00ff; font-weight: bold\">R</span><span style=\"color: #800000; text-decoration-color: #800000; font-weight: bold\">A</span><span style=\"color: #af00ff; text-decoration-color: #af00ff; font-weight: bold\">K</span><span style=\"color: #008000; text-decoration-color: #008000; font-weight: bold\">G</span><span style=\"color: #800000; text-decoration-color: #800000; font-weight: bold\">IIAI</span><span style=\"color: #008000; text-decoration-color: #008000; font-weight: bold\">C</span><span style=\"color: #800000; text-decoration-color: #800000; font-weight: bold\">WVL</span><span style=\"color: #008000; text-decoration-color: #008000; font-weight: bold\">S</span><span style=\"color: #800000; text-decoration-color: #800000; font-weight: bold\">FAI</span><span style=\"color: #008000; text-decoration-color: #008000; font-weight: bold\">G</span><span style=\"color: #800000; text-decoration-color: #800000; font-weight: bold\">L</span><span style=\"color: #008000; text-decoration-color: #008000; font-weight: bold\">T</span><span style=\"color: #800000; text-decoration-color: #800000; font-weight: bold\">PML</span><span style=\"color: #008000; text-decoration-color: #008000; font-weight: bold\">G</span><span style=\"color: #800000; text-decoration-color: #800000; font-weight: bold\">W</span><span style=\"color: #008000; text-decoration-color: #008000; font-weight: bold\">NN</span><span style=\"color: #4e4e4e; text-decoration-color: #4e4e4e; font-weight: bold\">-------</span><span style=\"color: #008000; text-decoration-color: #008000; font-weight: bold\">CGQ</span><span style=\"color: #800000; text-decoration-color: #800000; font-weight: bold\">P</span><span style=\"color: #af00ff; text-decoration-color: #af00ff; font-weight: bold\">K</span><span style=\"color: #000080; text-decoration-color: #000080; font-weight: bold\">E</span><span style=\"color: #008000; text-decoration-color: #008000; font-weight: bold\">G</span><span style=\"color: #af00ff; text-decoration-color: #af00ff; font-weight: bold\">K</span><span style=\"color: #008000; text-decoration-color: #008000; font-weight: bold\">NHSQGCG</span><span style=\"color: #000080; text-decoration-color: #000080; font-weight: bold\">E</span><span style=\"color: #008000; text-decoration-color: #008000; font-weight: bold\">GQ</span><span style=\"color: #800000; text-decoration-color: #800000; font-weight: bold\">VA</span><span style=\"color: #008000; text-decoration-color: #008000; font-weight: bold\">C</span><span style=\"color: #800000; text-decoration-color: #800000; font-weight: bold\">LF</span><span style=\"color: #000080; text-decoration-color: #000080; font-weight: bold\">ED</span><span style=\"color: #800000; text-decoration-color: #800000; font-weight: bold\">V</span>  │\n",
       "│ 2 AA2BR_H…   <span style=\"color: #008080; text-decoration-color: #008080; font-weight: bold\"> 88</span>  <span style=\"color: #800000; text-decoration-color: #800000; font-weight: bold\">L</span><span style=\"color: #008000; text-decoration-color: #008000; font-weight: bold\">TQSS</span><span style=\"color: #800000; text-decoration-color: #800000; font-weight: bold\">IF</span><span style=\"color: #008000; text-decoration-color: #008000; font-weight: bold\">S</span><span style=\"color: #800000; text-decoration-color: #800000; font-weight: bold\">LLAVAV</span><span style=\"color: #000080; text-decoration-color: #000080; font-weight: bold\">D</span><span style=\"color: #af00ff; text-decoration-color: #af00ff; font-weight: bold\">R</span><span style=\"color: #008000; text-decoration-color: #008000; font-weight: bold\">Y</span><span style=\"color: #800000; text-decoration-color: #800000; font-weight: bold\">LAI</span><span style=\"color: #008000; text-decoration-color: #008000; font-weight: bold\">C</span><span style=\"color: #800000; text-decoration-color: #800000; font-weight: bold\">VPL</span><span style=\"color: #af00ff; text-decoration-color: #af00ff; font-weight: bold\">R</span><span style=\"color: #008000; text-decoration-color: #008000; font-weight: bold\">Y</span><span style=\"color: #af00ff; text-decoration-color: #af00ff; font-weight: bold\">K</span><span style=\"color: #008000; text-decoration-color: #008000; font-weight: bold\">S</span><span style=\"color: #800000; text-decoration-color: #800000; font-weight: bold\">LV</span><span style=\"color: #008000; text-decoration-color: #008000; font-weight: bold\">TGT</span><span style=\"color: #af00ff; text-decoration-color: #af00ff; font-weight: bold\">R</span><span style=\"color: #800000; text-decoration-color: #800000; font-weight: bold\">A</span><span style=\"color: #af00ff; text-decoration-color: #af00ff; font-weight: bold\">R</span><span style=\"color: #008000; text-decoration-color: #008000; font-weight: bold\">G</span><span style=\"color: #800000; text-decoration-color: #800000; font-weight: bold\">VIAVLWVLAF</span><span style=\"color: #008000; text-decoration-color: #008000; font-weight: bold\">G</span><span style=\"color: #800000; text-decoration-color: #800000; font-weight: bold\">I</span><span style=\"color: #008000; text-decoration-color: #008000; font-weight: bold\">G</span><span style=\"color: #800000; text-decoration-color: #800000; font-weight: bold\">L</span><span style=\"color: #008000; text-decoration-color: #008000; font-weight: bold\">T</span><span style=\"color: #800000; text-decoration-color: #800000; font-weight: bold\">PFL</span><span style=\"color: #008000; text-decoration-color: #008000; font-weight: bold\">G</span><span style=\"color: #800000; text-decoration-color: #800000; font-weight: bold\">W</span><span style=\"color: #008000; text-decoration-color: #008000; font-weight: bold\">NS</span><span style=\"color: #af00ff; text-decoration-color: #af00ff; font-weight: bold\">K</span><span style=\"color: #000080; text-decoration-color: #000080; font-weight: bold\">D</span><span style=\"color: #008000; text-decoration-color: #008000; font-weight: bold\">S</span><span style=\"color: #800000; text-decoration-color: #800000; font-weight: bold\">A</span><span style=\"color: #008000; text-decoration-color: #008000; font-weight: bold\">TNNCT</span><span style=\"color: #000080; text-decoration-color: #000080; font-weight: bold\">E</span><span style=\"color: #800000; text-decoration-color: #800000; font-weight: bold\">PW</span><span style=\"color: #000080; text-decoration-color: #000080; font-weight: bold\">D</span><span style=\"color: #008000; text-decoration-color: #008000; font-weight: bold\">GTTN</span><span style=\"color: #000080; text-decoration-color: #000080; font-weight: bold\">E</span><span style=\"color: #008000; text-decoration-color: #008000; font-weight: bold\">SCC</span><span style=\"color: #4e4e4e; text-decoration-color: #4e4e4e; font-weight: bold\">---</span><span style=\"color: #800000; text-decoration-color: #800000; font-weight: bold\">LV</span><span style=\"color: #af00ff; text-decoration-color: #af00ff; font-weight: bold\">K</span><span style=\"color: #008000; text-decoration-color: #008000; font-weight: bold\">C</span><span style=\"color: #800000; text-decoration-color: #800000; font-weight: bold\">LF</span><span style=\"color: #000080; text-decoration-color: #000080; font-weight: bold\">E</span><span style=\"color: #008000; text-decoration-color: #008000; font-weight: bold\">N</span><span style=\"color: #800000; text-decoration-color: #800000; font-weight: bold\">V</span>  │\n",
       "│ 3 AA3R_HU…   <span style=\"color: #008080; text-decoration-color: #008080; font-weight: bold\"> 93</span>  <span style=\"color: #800000; text-decoration-color: #800000; font-weight: bold\">F</span><span style=\"color: #008000; text-decoration-color: #008000; font-weight: bold\">TH</span><span style=\"color: #800000; text-decoration-color: #800000; font-weight: bold\">A</span><span style=\"color: #008000; text-decoration-color: #008000; font-weight: bold\">S</span><span style=\"color: #800000; text-decoration-color: #800000; font-weight: bold\">IM</span><span style=\"color: #008000; text-decoration-color: #008000; font-weight: bold\">S</span><span style=\"color: #800000; text-decoration-color: #800000; font-weight: bold\">LLAIAV</span><span style=\"color: #000080; text-decoration-color: #000080; font-weight: bold\">D</span><span style=\"color: #af00ff; text-decoration-color: #af00ff; font-weight: bold\">R</span><span style=\"color: #008000; text-decoration-color: #008000; font-weight: bold\">Y</span><span style=\"color: #800000; text-decoration-color: #800000; font-weight: bold\">L</span><span style=\"color: #af00ff; text-decoration-color: #af00ff; font-weight: bold\">R</span><span style=\"color: #800000; text-decoration-color: #800000; font-weight: bold\">V</span><span style=\"color: #af00ff; text-decoration-color: #af00ff; font-weight: bold\">K</span><span style=\"color: #800000; text-decoration-color: #800000; font-weight: bold\">L</span><span style=\"color: #008000; text-decoration-color: #008000; font-weight: bold\">T</span><span style=\"color: #800000; text-decoration-color: #800000; font-weight: bold\">V</span><span style=\"color: #af00ff; text-decoration-color: #af00ff; font-weight: bold\">R</span><span style=\"color: #008000; text-decoration-color: #008000; font-weight: bold\">Y</span><span style=\"color: #af00ff; text-decoration-color: #af00ff; font-weight: bold\">KR</span><span style=\"color: #800000; text-decoration-color: #800000; font-weight: bold\">V</span><span style=\"color: #008000; text-decoration-color: #008000; font-weight: bold\">TTH</span><span style=\"color: #af00ff; text-decoration-color: #af00ff; font-weight: bold\">RR</span><span style=\"color: #800000; text-decoration-color: #800000; font-weight: bold\">IWLAL</span><span style=\"color: #008000; text-decoration-color: #008000; font-weight: bold\">G</span><span style=\"color: #800000; text-decoration-color: #800000; font-weight: bold\">L</span><span style=\"color: #008000; text-decoration-color: #008000; font-weight: bold\">C</span><span style=\"color: #800000; text-decoration-color: #800000; font-weight: bold\">WLV</span><span style=\"color: #008000; text-decoration-color: #008000; font-weight: bold\">S</span><span style=\"color: #800000; text-decoration-color: #800000; font-weight: bold\">FLV</span><span style=\"color: #008000; text-decoration-color: #008000; font-weight: bold\">G</span><span style=\"color: #800000; text-decoration-color: #800000; font-weight: bold\">L</span><span style=\"color: #008000; text-decoration-color: #008000; font-weight: bold\">T</span><span style=\"color: #800000; text-decoration-color: #800000; font-weight: bold\">PMF</span><span style=\"color: #008000; text-decoration-color: #008000; font-weight: bold\">G</span><span style=\"color: #800000; text-decoration-color: #800000; font-weight: bold\">W</span><span style=\"color: #008000; text-decoration-color: #008000; font-weight: bold\">N</span><span style=\"color: #800000; text-decoration-color: #800000; font-weight: bold\">M</span><span style=\"color: #af00ff; text-decoration-color: #af00ff; font-weight: bold\">K</span><span style=\"color: #800000; text-decoration-color: #800000; font-weight: bold\">L</span><span style=\"color: #008000; text-decoration-color: #008000; font-weight: bold\">TS</span><span style=\"color: #000080; text-decoration-color: #000080; font-weight: bold\">E</span><span style=\"color: #008000; text-decoration-color: #008000; font-weight: bold\">YH</span><span style=\"color: #4e4e4e; text-decoration-color: #4e4e4e; font-weight: bold\">-------------</span><span style=\"color: #af00ff; text-decoration-color: #af00ff; font-weight: bold\">R</span><span style=\"color: #008000; text-decoration-color: #008000; font-weight: bold\">N</span><span style=\"color: #800000; text-decoration-color: #800000; font-weight: bold\">V</span><span style=\"color: #008000; text-decoration-color: #008000; font-weight: bold\">T</span><span style=\"color: #800000; text-decoration-color: #800000; font-weight: bold\">FL</span><span style=\"color: #008000; text-decoration-color: #008000; font-weight: bold\">SCQ</span><span style=\"color: #800000; text-decoration-color: #800000; font-weight: bold\">FV</span><span style=\"color: #008000; text-decoration-color: #008000; font-weight: bold\">S</span><span style=\"color: #800000; text-decoration-color: #800000; font-weight: bold\">V</span>  │\n",
       "│                                                                                                                 │\n",
       "│ 0 AA1R_HU…   <span style=\"color: #008080; text-decoration-color: #008080; font-weight: bold\">175</span>  <span style=\"color: #800000; text-decoration-color: #800000; font-weight: bold\">I</span><span style=\"color: #008000; text-decoration-color: #008000; font-weight: bold\">S</span><span style=\"color: #800000; text-decoration-color: #800000; font-weight: bold\">M</span><span style=\"color: #000080; text-decoration-color: #000080; font-weight: bold\">E</span><span style=\"color: #008000; text-decoration-color: #008000; font-weight: bold\">Y</span><span style=\"color: #800000; text-decoration-color: #800000; font-weight: bold\">MV</span><span style=\"color: #008000; text-decoration-color: #008000; font-weight: bold\">Y</span><span style=\"color: #800000; text-decoration-color: #800000; font-weight: bold\">F</span><span style=\"color: #008000; text-decoration-color: #008000; font-weight: bold\">N</span><span style=\"color: #800000; text-decoration-color: #800000; font-weight: bold\">FFVWVLPPLLLMVLI</span><span style=\"color: #008000; text-decoration-color: #008000; font-weight: bold\">Y</span><span style=\"color: #800000; text-decoration-color: #800000; font-weight: bold\">L</span><span style=\"color: #000080; text-decoration-color: #000080; font-weight: bold\">E</span><span style=\"color: #800000; text-decoration-color: #800000; font-weight: bold\">VF</span><span style=\"color: #008000; text-decoration-color: #008000; font-weight: bold\">Y</span><span style=\"color: #800000; text-decoration-color: #800000; font-weight: bold\">LI</span><span style=\"color: #af00ff; text-decoration-color: #af00ff; font-weight: bold\">RK</span><span style=\"color: #008000; text-decoration-color: #008000; font-weight: bold\">Q</span><span style=\"color: #800000; text-decoration-color: #800000; font-weight: bold\">L</span><span style=\"color: #008000; text-decoration-color: #008000; font-weight: bold\">N</span><span style=\"color: #af00ff; text-decoration-color: #af00ff; font-weight: bold\">KK</span><span style=\"color: #800000; text-decoration-color: #800000; font-weight: bold\">V</span><span style=\"color: #008000; text-decoration-color: #008000; font-weight: bold\">S</span><span style=\"color: #800000; text-decoration-color: #800000; font-weight: bold\">A</span><span style=\"color: #008000; text-decoration-color: #008000; font-weight: bold\">S</span><span style=\"color: #4e4e4e; text-decoration-color: #4e4e4e; font-weight: bold\">--</span><span style=\"color: #008000; text-decoration-color: #008000; font-weight: bold\">SG</span><span style=\"color: #000080; text-decoration-color: #000080; font-weight: bold\">D</span><span style=\"color: #800000; text-decoration-color: #800000; font-weight: bold\">P</span><span style=\"color: #008000; text-decoration-color: #008000; font-weight: bold\">Q</span><span style=\"color: #af00ff; text-decoration-color: #af00ff; font-weight: bold\">K</span><span style=\"color: #008000; text-decoration-color: #008000; font-weight: bold\">YYG</span><span style=\"color: #af00ff; text-decoration-color: #af00ff; font-weight: bold\">K</span><span style=\"color: #000080; text-decoration-color: #000080; font-weight: bold\">E</span><span style=\"color: #800000; text-decoration-color: #800000; font-weight: bold\">L</span><span style=\"color: #af00ff; text-decoration-color: #af00ff; font-weight: bold\">K</span><span style=\"color: #800000; text-decoration-color: #800000; font-weight: bold\">IA</span><span style=\"color: #af00ff; text-decoration-color: #af00ff; font-weight: bold\">K</span><span style=\"color: #008000; text-decoration-color: #008000; font-weight: bold\">S</span><span style=\"color: #800000; text-decoration-color: #800000; font-weight: bold\">LALILFLFAL</span><span style=\"color: #008000; text-decoration-color: #008000; font-weight: bold\">S</span><span style=\"color: #800000; text-decoration-color: #800000; font-weight: bold\">WLPL</span><span style=\"color: #008000; text-decoration-color: #008000; font-weight: bold\">H</span><span style=\"color: #800000; text-decoration-color: #800000; font-weight: bold\">IL</span><span style=\"color: #008000; text-decoration-color: #008000; font-weight: bold\">NC</span><span style=\"color: #800000; text-decoration-color: #800000; font-weight: bold\">I</span><span style=\"color: #008000; text-decoration-color: #008000; font-weight: bold\">T</span><span style=\"color: #800000; text-decoration-color: #800000; font-weight: bold\">LF</span><span style=\"color: #008000; text-decoration-color: #008000; font-weight: bold\">C</span><span style=\"color: #800000; text-decoration-color: #800000; font-weight: bold\">P</span><span style=\"color: #008000; text-decoration-color: #008000; font-weight: bold\">SC</span><span style=\"color: #4e4e4e; text-decoration-color: #4e4e4e; font-weight: bold\">-</span>  │\n",
       "│ 1 AA2AR_H…   <span style=\"color: #008080; text-decoration-color: #008080; font-weight: bold\">172</span>  <span style=\"color: #800000; text-decoration-color: #800000; font-weight: bold\">VPM</span><span style=\"color: #008000; text-decoration-color: #008000; font-weight: bold\">NY</span><span style=\"color: #800000; text-decoration-color: #800000; font-weight: bold\">MV</span><span style=\"color: #008000; text-decoration-color: #008000; font-weight: bold\">Y</span><span style=\"color: #800000; text-decoration-color: #800000; font-weight: bold\">F</span><span style=\"color: #008000; text-decoration-color: #008000; font-weight: bold\">N</span><span style=\"color: #800000; text-decoration-color: #800000; font-weight: bold\">FFA</span><span style=\"color: #008000; text-decoration-color: #008000; font-weight: bold\">C</span><span style=\"color: #800000; text-decoration-color: #800000; font-weight: bold\">VLVPLLLML</span><span style=\"color: #008000; text-decoration-color: #008000; font-weight: bold\">G</span><span style=\"color: #800000; text-decoration-color: #800000; font-weight: bold\">V</span><span style=\"color: #008000; text-decoration-color: #008000; font-weight: bold\">Y</span><span style=\"color: #800000; text-decoration-color: #800000; font-weight: bold\">L</span><span style=\"color: #af00ff; text-decoration-color: #af00ff; font-weight: bold\">R</span><span style=\"color: #800000; text-decoration-color: #800000; font-weight: bold\">IFLAA</span><span style=\"color: #af00ff; text-decoration-color: #af00ff; font-weight: bold\">RR</span><span style=\"color: #008000; text-decoration-color: #008000; font-weight: bold\">Q</span><span style=\"color: #800000; text-decoration-color: #800000; font-weight: bold\">L</span><span style=\"color: #af00ff; text-decoration-color: #af00ff; font-weight: bold\">K</span><span style=\"color: #008000; text-decoration-color: #008000; font-weight: bold\">Q</span><span style=\"color: #800000; text-decoration-color: #800000; font-weight: bold\">M</span><span style=\"color: #000080; text-decoration-color: #000080; font-weight: bold\">E</span><span style=\"color: #008000; text-decoration-color: #008000; font-weight: bold\">SQ</span><span style=\"color: #800000; text-decoration-color: #800000; font-weight: bold\">PLP</span><span style=\"color: #008000; text-decoration-color: #008000; font-weight: bold\">G</span><span style=\"color: #000080; text-decoration-color: #000080; font-weight: bold\">E</span><span style=\"color: #af00ff; text-decoration-color: #af00ff; font-weight: bold\">R</span><span style=\"color: #800000; text-decoration-color: #800000; font-weight: bold\">A</span><span style=\"color: #af00ff; text-decoration-color: #af00ff; font-weight: bold\">R</span><span style=\"color: #008000; text-decoration-color: #008000; font-weight: bold\">ST</span><span style=\"color: #800000; text-decoration-color: #800000; font-weight: bold\">L</span><span style=\"color: #008000; text-decoration-color: #008000; font-weight: bold\">Q</span><span style=\"color: #af00ff; text-decoration-color: #af00ff; font-weight: bold\">K</span><span style=\"color: #000080; text-decoration-color: #000080; font-weight: bold\">E</span><span style=\"color: #800000; text-decoration-color: #800000; font-weight: bold\">V</span><span style=\"color: #008000; text-decoration-color: #008000; font-weight: bold\">H</span><span style=\"color: #800000; text-decoration-color: #800000; font-weight: bold\">AA</span><span style=\"color: #af00ff; text-decoration-color: #af00ff; font-weight: bold\">K</span><span style=\"color: #008000; text-decoration-color: #008000; font-weight: bold\">S</span><span style=\"color: #800000; text-decoration-color: #800000; font-weight: bold\">LAIIV</span><span style=\"color: #008000; text-decoration-color: #008000; font-weight: bold\">G</span><span style=\"color: #800000; text-decoration-color: #800000; font-weight: bold\">LFAL</span><span style=\"color: #008000; text-decoration-color: #008000; font-weight: bold\">C</span><span style=\"color: #800000; text-decoration-color: #800000; font-weight: bold\">WLPL</span><span style=\"color: #008000; text-decoration-color: #008000; font-weight: bold\">H</span><span style=\"color: #800000; text-decoration-color: #800000; font-weight: bold\">II</span><span style=\"color: #008000; text-decoration-color: #008000; font-weight: bold\">NC</span><span style=\"color: #800000; text-decoration-color: #800000; font-weight: bold\">F</span><span style=\"color: #008000; text-decoration-color: #008000; font-weight: bold\">T</span><span style=\"color: #800000; text-decoration-color: #800000; font-weight: bold\">FF</span><span style=\"color: #008000; text-decoration-color: #008000; font-weight: bold\">C</span><span style=\"color: #800000; text-decoration-color: #800000; font-weight: bold\">P</span><span style=\"color: #000080; text-decoration-color: #000080; font-weight: bold\">D</span><span style=\"color: #008000; text-decoration-color: #008000; font-weight: bold\">C</span><span style=\"color: #4e4e4e; text-decoration-color: #4e4e4e; font-weight: bold\">-</span>  │\n",
       "│ 2 AA2BR_H…   <span style=\"color: #008080; text-decoration-color: #008080; font-weight: bold\">177</span>  <span style=\"color: #800000; text-decoration-color: #800000; font-weight: bold\">VPM</span><span style=\"color: #008000; text-decoration-color: #008000; font-weight: bold\">SY</span><span style=\"color: #800000; text-decoration-color: #800000; font-weight: bold\">MV</span><span style=\"color: #008000; text-decoration-color: #008000; font-weight: bold\">Y</span><span style=\"color: #800000; text-decoration-color: #800000; font-weight: bold\">F</span><span style=\"color: #008000; text-decoration-color: #008000; font-weight: bold\">N</span><span style=\"color: #800000; text-decoration-color: #800000; font-weight: bold\">FF</span><span style=\"color: #008000; text-decoration-color: #008000; font-weight: bold\">GC</span><span style=\"color: #800000; text-decoration-color: #800000; font-weight: bold\">VLPPLLIMLVI</span><span style=\"color: #008000; text-decoration-color: #008000; font-weight: bold\">Y</span><span style=\"color: #800000; text-decoration-color: #800000; font-weight: bold\">I</span><span style=\"color: #af00ff; text-decoration-color: #af00ff; font-weight: bold\">K</span><span style=\"color: #800000; text-decoration-color: #800000; font-weight: bold\">IFLVA</span><span style=\"color: #008000; text-decoration-color: #008000; font-weight: bold\">C</span><span style=\"color: #af00ff; text-decoration-color: #af00ff; font-weight: bold\">R</span><span style=\"color: #008000; text-decoration-color: #008000; font-weight: bold\">Q</span><span style=\"color: #800000; text-decoration-color: #800000; font-weight: bold\">L</span><span style=\"color: #008000; text-decoration-color: #008000; font-weight: bold\">Q</span><span style=\"color: #af00ff; text-decoration-color: #af00ff; font-weight: bold\">R</span><span style=\"color: #008000; text-decoration-color: #008000; font-weight: bold\">T</span><span style=\"color: #000080; text-decoration-color: #000080; font-weight: bold\">E</span><span style=\"color: #800000; text-decoration-color: #800000; font-weight: bold\">L</span><span style=\"color: #4e4e4e; text-decoration-color: #4e4e4e; font-weight: bold\">----</span><span style=\"color: #800000; text-decoration-color: #800000; font-weight: bold\">M</span><span style=\"color: #000080; text-decoration-color: #000080; font-weight: bold\">D</span><span style=\"color: #008000; text-decoration-color: #008000; font-weight: bold\">HS</span><span style=\"color: #af00ff; text-decoration-color: #af00ff; font-weight: bold\">R</span><span style=\"color: #008000; text-decoration-color: #008000; font-weight: bold\">TT</span><span style=\"color: #800000; text-decoration-color: #800000; font-weight: bold\">L</span><span style=\"color: #008000; text-decoration-color: #008000; font-weight: bold\">Q</span><span style=\"color: #af00ff; text-decoration-color: #af00ff; font-weight: bold\">R</span><span style=\"color: #000080; text-decoration-color: #000080; font-weight: bold\">E</span><span style=\"color: #800000; text-decoration-color: #800000; font-weight: bold\">I</span><span style=\"color: #008000; text-decoration-color: #008000; font-weight: bold\">H</span><span style=\"color: #800000; text-decoration-color: #800000; font-weight: bold\">AA</span><span style=\"color: #af00ff; text-decoration-color: #af00ff; font-weight: bold\">K</span><span style=\"color: #008000; text-decoration-color: #008000; font-weight: bold\">S</span><span style=\"color: #800000; text-decoration-color: #800000; font-weight: bold\">LAMIV</span><span style=\"color: #008000; text-decoration-color: #008000; font-weight: bold\">G</span><span style=\"color: #800000; text-decoration-color: #800000; font-weight: bold\">IFAL</span><span style=\"color: #008000; text-decoration-color: #008000; font-weight: bold\">C</span><span style=\"color: #800000; text-decoration-color: #800000; font-weight: bold\">WLPV</span><span style=\"color: #008000; text-decoration-color: #008000; font-weight: bold\">H</span><span style=\"color: #800000; text-decoration-color: #800000; font-weight: bold\">AV</span><span style=\"color: #008000; text-decoration-color: #008000; font-weight: bold\">NC</span><span style=\"color: #800000; text-decoration-color: #800000; font-weight: bold\">V</span><span style=\"color: #008000; text-decoration-color: #008000; font-weight: bold\">T</span><span style=\"color: #800000; text-decoration-color: #800000; font-weight: bold\">LF</span><span style=\"color: #008000; text-decoration-color: #008000; font-weight: bold\">Q</span><span style=\"color: #800000; text-decoration-color: #800000; font-weight: bold\">PA</span><span style=\"color: #008000; text-decoration-color: #008000; font-weight: bold\">QG</span>  │\n",
       "│ 3 AA3R_HU…   <span style=\"color: #008080; text-decoration-color: #008080; font-weight: bold\">172</span>  <span style=\"color: #800000; text-decoration-color: #800000; font-weight: bold\">M</span><span style=\"color: #af00ff; text-decoration-color: #af00ff; font-weight: bold\">R</span><span style=\"color: #800000; text-decoration-color: #800000; font-weight: bold\">M</span><span style=\"color: #000080; text-decoration-color: #000080; font-weight: bold\">D</span><span style=\"color: #008000; text-decoration-color: #008000; font-weight: bold\">Y</span><span style=\"color: #800000; text-decoration-color: #800000; font-weight: bold\">MV</span><span style=\"color: #008000; text-decoration-color: #008000; font-weight: bold\">Y</span><span style=\"color: #800000; text-decoration-color: #800000; font-weight: bold\">F</span><span style=\"color: #008000; text-decoration-color: #008000; font-weight: bold\">S</span><span style=\"color: #800000; text-decoration-color: #800000; font-weight: bold\">FL</span><span style=\"color: #008000; text-decoration-color: #008000; font-weight: bold\">T</span><span style=\"color: #800000; text-decoration-color: #800000; font-weight: bold\">WIFIPLVVM</span><span style=\"color: #008000; text-decoration-color: #008000; font-weight: bold\">C</span><span style=\"color: #800000; text-decoration-color: #800000; font-weight: bold\">AI</span><span style=\"color: #008000; text-decoration-color: #008000; font-weight: bold\">Y</span><span style=\"color: #800000; text-decoration-color: #800000; font-weight: bold\">L</span><span style=\"color: #000080; text-decoration-color: #000080; font-weight: bold\">D</span><span style=\"color: #800000; text-decoration-color: #800000; font-weight: bold\">IF</span><span style=\"color: #008000; text-decoration-color: #008000; font-weight: bold\">Y</span><span style=\"color: #800000; text-decoration-color: #800000; font-weight: bold\">II</span><span style=\"color: #af00ff; text-decoration-color: #af00ff; font-weight: bold\">R</span><span style=\"color: #008000; text-decoration-color: #008000; font-weight: bold\">N</span><span style=\"color: #af00ff; text-decoration-color: #af00ff; font-weight: bold\">K</span><span style=\"color: #800000; text-decoration-color: #800000; font-weight: bold\">L</span><span style=\"color: #008000; text-decoration-color: #008000; font-weight: bold\">S</span><span style=\"color: #800000; text-decoration-color: #800000; font-weight: bold\">L</span><span style=\"color: #008000; text-decoration-color: #008000; font-weight: bold\">N</span><span style=\"color: #800000; text-decoration-color: #800000; font-weight: bold\">L</span><span style=\"color: #008000; text-decoration-color: #008000; font-weight: bold\">SN</span><span style=\"color: #4e4e4e; text-decoration-color: #4e4e4e; font-weight: bold\">---</span><span style=\"color: #008000; text-decoration-color: #008000; font-weight: bold\">S</span><span style=\"color: #af00ff; text-decoration-color: #af00ff; font-weight: bold\">K</span><span style=\"color: #000080; text-decoration-color: #000080; font-weight: bold\">E</span><span style=\"color: #008000; text-decoration-color: #008000; font-weight: bold\">TG</span><span style=\"color: #800000; text-decoration-color: #800000; font-weight: bold\">AF</span><span style=\"color: #008000; text-decoration-color: #008000; font-weight: bold\">YG</span><span style=\"color: #af00ff; text-decoration-color: #af00ff; font-weight: bold\">R</span><span style=\"color: #000080; text-decoration-color: #000080; font-weight: bold\">E</span><span style=\"color: #800000; text-decoration-color: #800000; font-weight: bold\">F</span><span style=\"color: #af00ff; text-decoration-color: #af00ff; font-weight: bold\">K</span><span style=\"color: #008000; text-decoration-color: #008000; font-weight: bold\">T</span><span style=\"color: #800000; text-decoration-color: #800000; font-weight: bold\">A</span><span style=\"color: #af00ff; text-decoration-color: #af00ff; font-weight: bold\">K</span><span style=\"color: #008000; text-decoration-color: #008000; font-weight: bold\">S</span><span style=\"color: #800000; text-decoration-color: #800000; font-weight: bold\">LFLVLFLFAL</span><span style=\"color: #008000; text-decoration-color: #008000; font-weight: bold\">S</span><span style=\"color: #800000; text-decoration-color: #800000; font-weight: bold\">WLPL</span><span style=\"color: #008000; text-decoration-color: #008000; font-weight: bold\">S</span><span style=\"color: #800000; text-decoration-color: #800000; font-weight: bold\">II</span><span style=\"color: #008000; text-decoration-color: #008000; font-weight: bold\">NC</span><span style=\"color: #800000; text-decoration-color: #800000; font-weight: bold\">II</span><span style=\"color: #008000; text-decoration-color: #008000; font-weight: bold\">Y</span><span style=\"color: #800000; text-decoration-color: #800000; font-weight: bold\">F</span><span style=\"color: #008000; text-decoration-color: #008000; font-weight: bold\">NG</span><span style=\"color: #4e4e4e; text-decoration-color: #4e4e4e; font-weight: bold\">---</span>  │\n",
       "│                                                                                                                 │\n",
       "│ 0 AA1R_HU…   <span style=\"color: #008080; text-decoration-color: #008080; font-weight: bold\">264</span>  <span style=\"color: #4e4e4e; text-decoration-color: #4e4e4e; font-weight: bold\">-</span><span style=\"color: #008000; text-decoration-color: #008000; font-weight: bold\">H</span><span style=\"color: #af00ff; text-decoration-color: #af00ff; font-weight: bold\">K</span><span style=\"color: #800000; text-decoration-color: #800000; font-weight: bold\">P</span><span style=\"color: #008000; text-decoration-color: #008000; font-weight: bold\">S</span><span style=\"color: #800000; text-decoration-color: #800000; font-weight: bold\">IL</span><span style=\"color: #008000; text-decoration-color: #008000; font-weight: bold\">TY</span><span style=\"color: #800000; text-decoration-color: #800000; font-weight: bold\">IAIFL</span><span style=\"color: #008000; text-decoration-color: #008000; font-weight: bold\">THGNS</span><span style=\"color: #800000; text-decoration-color: #800000; font-weight: bold\">AM</span><span style=\"color: #008000; text-decoration-color: #008000; font-weight: bold\">N</span><span style=\"color: #800000; text-decoration-color: #800000; font-weight: bold\">PIV</span><span style=\"color: #008000; text-decoration-color: #008000; font-weight: bold\">Y</span><span style=\"color: #800000; text-decoration-color: #800000; font-weight: bold\">AF</span><span style=\"color: #af00ff; text-decoration-color: #af00ff; font-weight: bold\">R</span><span style=\"color: #800000; text-decoration-color: #800000; font-weight: bold\">I</span><span style=\"color: #008000; text-decoration-color: #008000; font-weight: bold\">Q</span><span style=\"color: #af00ff; text-decoration-color: #af00ff; font-weight: bold\">K</span><span style=\"color: #800000; text-decoration-color: #800000; font-weight: bold\">F</span><span style=\"color: #af00ff; text-decoration-color: #af00ff; font-weight: bold\">R</span><span style=\"color: #800000; text-decoration-color: #800000; font-weight: bold\">V</span><span style=\"color: #008000; text-decoration-color: #008000; font-weight: bold\">T</span><span style=\"color: #800000; text-decoration-color: #800000; font-weight: bold\">FL</span><span style=\"color: #af00ff; text-decoration-color: #af00ff; font-weight: bold\">K</span><span style=\"color: #800000; text-decoration-color: #800000; font-weight: bold\">IW</span><span style=\"color: #008000; text-decoration-color: #008000; font-weight: bold\">N</span><span style=\"color: #000080; text-decoration-color: #000080; font-weight: bold\">D</span><span style=\"color: #008000; text-decoration-color: #008000; font-weight: bold\">H</span><span style=\"color: #800000; text-decoration-color: #800000; font-weight: bold\">F</span><span style=\"color: #af00ff; text-decoration-color: #af00ff; font-weight: bold\">R</span><span style=\"color: #008000; text-decoration-color: #008000; font-weight: bold\">CQ</span><span style=\"color: #800000; text-decoration-color: #800000; font-weight: bold\">PAPPI</span><span style=\"color: #000080; text-decoration-color: #000080; font-weight: bold\">DED</span><span style=\"color: #800000; text-decoration-color: #800000; font-weight: bold\">LP</span><span style=\"color: #000080; text-decoration-color: #000080; font-weight: bold\">EE</span><span style=\"color: #4e4e4e; text-decoration-color: #4e4e4e; font-weight: bold\">--------------------------------</span>  │\n",
       "│ 1 AA2AR_H…   <span style=\"color: #008080; text-decoration-color: #008080; font-weight: bold\">263</span>  <span style=\"color: #008000; text-decoration-color: #008000; font-weight: bold\">SH</span><span style=\"color: #800000; text-decoration-color: #800000; font-weight: bold\">APLWLM</span><span style=\"color: #008000; text-decoration-color: #008000; font-weight: bold\">Y</span><span style=\"color: #800000; text-decoration-color: #800000; font-weight: bold\">LAIVL</span><span style=\"color: #008000; text-decoration-color: #008000; font-weight: bold\">SHTNS</span><span style=\"color: #800000; text-decoration-color: #800000; font-weight: bold\">VV</span><span style=\"color: #008000; text-decoration-color: #008000; font-weight: bold\">N</span><span style=\"color: #800000; text-decoration-color: #800000; font-weight: bold\">PFI</span><span style=\"color: #008000; text-decoration-color: #008000; font-weight: bold\">Y</span><span style=\"color: #800000; text-decoration-color: #800000; font-weight: bold\">A</span><span style=\"color: #008000; text-decoration-color: #008000; font-weight: bold\">Y</span><span style=\"color: #af00ff; text-decoration-color: #af00ff; font-weight: bold\">R</span><span style=\"color: #800000; text-decoration-color: #800000; font-weight: bold\">I</span><span style=\"color: #af00ff; text-decoration-color: #af00ff; font-weight: bold\">R</span><span style=\"color: #000080; text-decoration-color: #000080; font-weight: bold\">E</span><span style=\"color: #800000; text-decoration-color: #800000; font-weight: bold\">F</span><span style=\"color: #af00ff; text-decoration-color: #af00ff; font-weight: bold\">R</span><span style=\"color: #008000; text-decoration-color: #008000; font-weight: bold\">QT</span><span style=\"color: #800000; text-decoration-color: #800000; font-weight: bold\">F</span><span style=\"color: #af00ff; text-decoration-color: #af00ff; font-weight: bold\">RK</span><span style=\"color: #800000; text-decoration-color: #800000; font-weight: bold\">II</span><span style=\"color: #af00ff; text-decoration-color: #af00ff; font-weight: bold\">R</span><span style=\"color: #008000; text-decoration-color: #008000; font-weight: bold\">SH</span><span style=\"color: #800000; text-decoration-color: #800000; font-weight: bold\">VL</span><span style=\"color: #af00ff; text-decoration-color: #af00ff; font-weight: bold\">R</span><span style=\"color: #008000; text-decoration-color: #008000; font-weight: bold\">QQ</span><span style=\"color: #000080; text-decoration-color: #000080; font-weight: bold\">E</span><span style=\"color: #800000; text-decoration-color: #800000; font-weight: bold\">PF</span><span style=\"color: #af00ff; text-decoration-color: #af00ff; font-weight: bold\">K</span><span style=\"color: #800000; text-decoration-color: #800000; font-weight: bold\">AA</span><span style=\"color: #008000; text-decoration-color: #008000; font-weight: bold\">GTS</span><span style=\"color: #800000; text-decoration-color: #800000; font-weight: bold\">A</span><span style=\"color: #af00ff; text-decoration-color: #af00ff; font-weight: bold\">R</span><span style=\"color: #800000; text-decoration-color: #800000; font-weight: bold\">VLAA</span><span style=\"color: #008000; text-decoration-color: #008000; font-weight: bold\">HGS</span><span style=\"color: #000080; text-decoration-color: #000080; font-weight: bold\">D</span><span style=\"color: #008000; text-decoration-color: #008000; font-weight: bold\">G</span><span style=\"color: #000080; text-decoration-color: #000080; font-weight: bold\">E</span><span style=\"color: #008000; text-decoration-color: #008000; font-weight: bold\">Q</span><span style=\"color: #800000; text-decoration-color: #800000; font-weight: bold\">V</span><span style=\"color: #008000; text-decoration-color: #008000; font-weight: bold\">S</span><span style=\"color: #800000; text-decoration-color: #800000; font-weight: bold\">L</span><span style=\"color: #af00ff; text-decoration-color: #af00ff; font-weight: bold\">R</span><span style=\"color: #800000; text-decoration-color: #800000; font-weight: bold\">L</span><span style=\"color: #008000; text-decoration-color: #008000; font-weight: bold\">NGH</span><span style=\"color: #800000; text-decoration-color: #800000; font-weight: bold\">PP</span><span style=\"color: #008000; text-decoration-color: #008000; font-weight: bold\">G</span><span style=\"color: #800000; text-decoration-color: #800000; font-weight: bold\">VWA</span><span style=\"color: #008000; text-decoration-color: #008000; font-weight: bold\">NGS</span><span style=\"color: #800000; text-decoration-color: #800000; font-weight: bold\">AP</span><span style=\"color: #008000; text-decoration-color: #008000; font-weight: bold\">H</span><span style=\"color: #800000; text-decoration-color: #800000; font-weight: bold\">P</span>  │\n",
       "│ 2 AA2BR_H…   <span style=\"color: #008080; text-decoration-color: #008080; font-weight: bold\">265</span>  <span style=\"color: #af00ff; text-decoration-color: #af00ff; font-weight: bold\">K</span><span style=\"color: #008000; text-decoration-color: #008000; font-weight: bold\">N</span><span style=\"color: #af00ff; text-decoration-color: #af00ff; font-weight: bold\">K</span><span style=\"color: #800000; text-decoration-color: #800000; font-weight: bold\">P</span><span style=\"color: #af00ff; text-decoration-color: #af00ff; font-weight: bold\">K</span><span style=\"color: #800000; text-decoration-color: #800000; font-weight: bold\">WAM</span><span style=\"color: #008000; text-decoration-color: #008000; font-weight: bold\">N</span><span style=\"color: #800000; text-decoration-color: #800000; font-weight: bold\">MAILL</span><span style=\"color: #008000; text-decoration-color: #008000; font-weight: bold\">SH</span><span style=\"color: #800000; text-decoration-color: #800000; font-weight: bold\">A</span><span style=\"color: #008000; text-decoration-color: #008000; font-weight: bold\">NS</span><span style=\"color: #800000; text-decoration-color: #800000; font-weight: bold\">VV</span><span style=\"color: #008000; text-decoration-color: #008000; font-weight: bold\">N</span><span style=\"color: #800000; text-decoration-color: #800000; font-weight: bold\">PIV</span><span style=\"color: #008000; text-decoration-color: #008000; font-weight: bold\">Y</span><span style=\"color: #800000; text-decoration-color: #800000; font-weight: bold\">A</span><span style=\"color: #008000; text-decoration-color: #008000; font-weight: bold\">Y</span><span style=\"color: #af00ff; text-decoration-color: #af00ff; font-weight: bold\">R</span><span style=\"color: #008000; text-decoration-color: #008000; font-weight: bold\">N</span><span style=\"color: #af00ff; text-decoration-color: #af00ff; font-weight: bold\">R</span><span style=\"color: #000080; text-decoration-color: #000080; font-weight: bold\">D</span><span style=\"color: #800000; text-decoration-color: #800000; font-weight: bold\">F</span><span style=\"color: #af00ff; text-decoration-color: #af00ff; font-weight: bold\">R</span><span style=\"color: #008000; text-decoration-color: #008000; font-weight: bold\">YT</span><span style=\"color: #800000; text-decoration-color: #800000; font-weight: bold\">F</span><span style=\"color: #008000; text-decoration-color: #008000; font-weight: bold\">H</span><span style=\"color: #af00ff; text-decoration-color: #af00ff; font-weight: bold\">K</span><span style=\"color: #800000; text-decoration-color: #800000; font-weight: bold\">II</span><span style=\"color: #008000; text-decoration-color: #008000; font-weight: bold\">S</span><span style=\"color: #af00ff; text-decoration-color: #af00ff; font-weight: bold\">R</span><span style=\"color: #008000; text-decoration-color: #008000; font-weight: bold\">Y</span><span style=\"color: #800000; text-decoration-color: #800000; font-weight: bold\">LL</span><span style=\"color: #008000; text-decoration-color: #008000; font-weight: bold\">CQ</span><span style=\"color: #800000; text-decoration-color: #800000; font-weight: bold\">A</span><span style=\"color: #000080; text-decoration-color: #000080; font-weight: bold\">D</span><span style=\"color: #800000; text-decoration-color: #800000; font-weight: bold\">V</span><span style=\"color: #af00ff; text-decoration-color: #af00ff; font-weight: bold\">K</span><span style=\"color: #008000; text-decoration-color: #008000; font-weight: bold\">SGNGQ</span><span style=\"color: #4e4e4e; text-decoration-color: #4e4e4e; font-weight: bold\">----------</span><span style=\"color: #800000; text-decoration-color: #800000; font-weight: bold\">A</span><span style=\"color: #008000; text-decoration-color: #008000; font-weight: bold\">G</span><span style=\"color: #800000; text-decoration-color: #800000; font-weight: bold\">V</span><span style=\"color: #008000; text-decoration-color: #008000; font-weight: bold\">Q</span><span style=\"color: #800000; text-decoration-color: #800000; font-weight: bold\">PAL</span><span style=\"color: #008000; text-decoration-color: #008000; font-weight: bold\">G</span><span style=\"color: #800000; text-decoration-color: #800000; font-weight: bold\">V</span><span style=\"color: #008000; text-decoration-color: #008000; font-weight: bold\">G</span><span style=\"color: #800000; text-decoration-color: #800000; font-weight: bold\">L</span><span style=\"color: #4e4e4e; text-decoration-color: #4e4e4e; font-weight: bold\">--------------</span>  │\n",
       "│ 3 AA3R_HU…   <span style=\"color: #008080; text-decoration-color: #008080; font-weight: bold\">258</span>  <span style=\"color: #4e4e4e; text-decoration-color: #4e4e4e; font-weight: bold\">-</span><span style=\"color: #000080; text-decoration-color: #000080; font-weight: bold\">E</span><span style=\"color: #800000; text-decoration-color: #800000; font-weight: bold\">VP</span><span style=\"color: #008000; text-decoration-color: #008000; font-weight: bold\">Q</span><span style=\"color: #800000; text-decoration-color: #800000; font-weight: bold\">LVL</span><span style=\"color: #008000; text-decoration-color: #008000; font-weight: bold\">Y</span><span style=\"color: #800000; text-decoration-color: #800000; font-weight: bold\">M</span><span style=\"color: #008000; text-decoration-color: #008000; font-weight: bold\">G</span><span style=\"color: #800000; text-decoration-color: #800000; font-weight: bold\">ILL</span><span style=\"color: #008000; text-decoration-color: #008000; font-weight: bold\">SH</span><span style=\"color: #800000; text-decoration-color: #800000; font-weight: bold\">A</span><span style=\"color: #008000; text-decoration-color: #008000; font-weight: bold\">NS</span><span style=\"color: #800000; text-decoration-color: #800000; font-weight: bold\">MM</span><span style=\"color: #008000; text-decoration-color: #008000; font-weight: bold\">N</span><span style=\"color: #800000; text-decoration-color: #800000; font-weight: bold\">PIV</span><span style=\"color: #008000; text-decoration-color: #008000; font-weight: bold\">Y</span><span style=\"color: #800000; text-decoration-color: #800000; font-weight: bold\">A</span><span style=\"color: #008000; text-decoration-color: #008000; font-weight: bold\">Y</span><span style=\"color: #af00ff; text-decoration-color: #af00ff; font-weight: bold\">K</span><span style=\"color: #800000; text-decoration-color: #800000; font-weight: bold\">I</span><span style=\"color: #af00ff; text-decoration-color: #af00ff; font-weight: bold\">KK</span><span style=\"color: #800000; text-decoration-color: #800000; font-weight: bold\">F</span><span style=\"color: #af00ff; text-decoration-color: #af00ff; font-weight: bold\">K</span><span style=\"color: #000080; text-decoration-color: #000080; font-weight: bold\">E</span><span style=\"color: #008000; text-decoration-color: #008000; font-weight: bold\">TY</span><span style=\"color: #800000; text-decoration-color: #800000; font-weight: bold\">LLIL</span><span style=\"color: #af00ff; text-decoration-color: #af00ff; font-weight: bold\">K</span><span style=\"color: #800000; text-decoration-color: #800000; font-weight: bold\">A</span><span style=\"color: #008000; text-decoration-color: #008000; font-weight: bold\">C</span><span style=\"color: #800000; text-decoration-color: #800000; font-weight: bold\">VV</span><span style=\"color: #008000; text-decoration-color: #008000; font-weight: bold\">CH</span><span style=\"color: #800000; text-decoration-color: #800000; font-weight: bold\">P</span><span style=\"color: #008000; text-decoration-color: #008000; font-weight: bold\">S</span><span style=\"color: #000080; text-decoration-color: #000080; font-weight: bold\">D</span><span style=\"color: #008000; text-decoration-color: #008000; font-weight: bold\">S</span><span style=\"color: #800000; text-decoration-color: #800000; font-weight: bold\">L</span><span style=\"color: #000080; text-decoration-color: #000080; font-weight: bold\">D</span><span style=\"color: #008000; text-decoration-color: #008000; font-weight: bold\">TS</span><span style=\"color: #800000; text-decoration-color: #800000; font-weight: bold\">I</span><span style=\"color: #000080; text-decoration-color: #000080; font-weight: bold\">E</span><span style=\"color: #af00ff; text-decoration-color: #af00ff; font-weight: bold\">K</span><span style=\"color: #008000; text-decoration-color: #008000; font-weight: bold\">NS</span><span style=\"color: #000080; text-decoration-color: #000080; font-weight: bold\">E</span><span style=\"color: #4e4e4e; text-decoration-color: #4e4e4e; font-weight: bold\">------------------------------</span>  │\n",
       "│                                                                                                                 │\n",
       "│ 0 AA1R_HU…   <span style=\"color: #008080; text-decoration-color: #008080; font-weight: bold\">323</span>  <span style=\"color: #4e4e4e; text-decoration-color: #4e4e4e; font-weight: bold\">--</span><span style=\"color: #af00ff; text-decoration-color: #af00ff; font-weight: bold\">R</span><span style=\"color: #800000; text-decoration-color: #800000; font-weight: bold\">P</span><span style=\"color: #000080; text-decoration-color: #000080; font-weight: bold\">DD</span><span style=\"color: #4e4e4e; text-decoration-color: #4e4e4e; font-weight: bold\">----------------------------------------------------</span>                                    │\n",
       "│ 1 AA2AR_H…   <span style=\"color: #008080; text-decoration-color: #008080; font-weight: bold\">355</span>  <span style=\"color: #000080; text-decoration-color: #000080; font-weight: bold\">E</span><span style=\"color: #af00ff; text-decoration-color: #af00ff; font-weight: bold\">RR</span><span style=\"color: #800000; text-decoration-color: #800000; font-weight: bold\">P</span><span style=\"color: #008000; text-decoration-color: #008000; font-weight: bold\">NGY</span><span style=\"color: #800000; text-decoration-color: #800000; font-weight: bold\">AL</span><span style=\"color: #008000; text-decoration-color: #008000; font-weight: bold\">G</span><span style=\"color: #800000; text-decoration-color: #800000; font-weight: bold\">LV</span><span style=\"color: #008000; text-decoration-color: #008000; font-weight: bold\">SGGS</span><span style=\"color: #800000; text-decoration-color: #800000; font-weight: bold\">A</span><span style=\"color: #008000; text-decoration-color: #008000; font-weight: bold\">Q</span><span style=\"color: #000080; text-decoration-color: #000080; font-weight: bold\">E</span><span style=\"color: #008000; text-decoration-color: #008000; font-weight: bold\">SQGNTG</span><span style=\"color: #800000; text-decoration-color: #800000; font-weight: bold\">LP</span><span style=\"color: #000080; text-decoration-color: #000080; font-weight: bold\">D</span><span style=\"color: #800000; text-decoration-color: #800000; font-weight: bold\">V</span><span style=\"color: #000080; text-decoration-color: #000080; font-weight: bold\">E</span><span style=\"color: #800000; text-decoration-color: #800000; font-weight: bold\">LL</span><span style=\"color: #008000; text-decoration-color: #008000; font-weight: bold\">SH</span><span style=\"color: #000080; text-decoration-color: #000080; font-weight: bold\">E</span><span style=\"color: #800000; text-decoration-color: #800000; font-weight: bold\">L</span><span style=\"color: #af00ff; text-decoration-color: #af00ff; font-weight: bold\">K</span><span style=\"color: #008000; text-decoration-color: #008000; font-weight: bold\">G</span><span style=\"color: #800000; text-decoration-color: #800000; font-weight: bold\">V</span><span style=\"color: #008000; text-decoration-color: #008000; font-weight: bold\">C</span><span style=\"color: #800000; text-decoration-color: #800000; font-weight: bold\">P</span><span style=\"color: #000080; text-decoration-color: #000080; font-weight: bold\">E</span><span style=\"color: #800000; text-decoration-color: #800000; font-weight: bold\">PP</span><span style=\"color: #008000; text-decoration-color: #008000; font-weight: bold\">G</span><span style=\"color: #800000; text-decoration-color: #800000; font-weight: bold\">L</span><span style=\"color: #000080; text-decoration-color: #000080; font-weight: bold\">DD</span><span style=\"color: #800000; text-decoration-color: #800000; font-weight: bold\">PLA</span><span style=\"color: #008000; text-decoration-color: #008000; font-weight: bold\">Q</span><span style=\"color: #000080; text-decoration-color: #000080; font-weight: bold\">D</span><span style=\"color: #008000; text-decoration-color: #008000; font-weight: bold\">G</span><span style=\"color: #800000; text-decoration-color: #800000; font-weight: bold\">A</span><span style=\"color: #008000; text-decoration-color: #008000; font-weight: bold\">G</span><span style=\"color: #800000; text-decoration-color: #800000; font-weight: bold\">V</span><span style=\"color: #008000; text-decoration-color: #008000; font-weight: bold\">S</span>                                    │\n",
       "│ 2 AA2BR_H…   <span style=\"color: #008080; text-decoration-color: #008080; font-weight: bold\">333</span>  <span style=\"color: #4e4e4e; text-decoration-color: #4e4e4e; font-weight: bold\">----------------------------------------------------------</span>                                    │\n",
       "│ 3 AA3R_HU…   <span style=\"color: #008080; text-decoration-color: #008080; font-weight: bold\">319</span>  <span style=\"color: #4e4e4e; text-decoration-color: #4e4e4e; font-weight: bold\">----------------------------------------------------------</span>                                    │\n",
       "╰─────────────────────────────────────────────────────────────────────────────────────────────────────────────────╯\n",
       "</pre>\n"
      ],
      "text/plain": [
       "╭────────────────────────────────────────── Multiple sequence alignment ──────────────────────────────────────────╮\n",
       "│ 0 AA1R_HU…   \u001b[1;36m  1\u001b[0m  \u001b[1;38;5;239m-\u001b[0m\u001b[1;38;5;239m-\u001b[0m\u001b[1;38;5;239m-\u001b[0m\u001b[1;31mM\u001b[0m\u001b[1;31mP\u001b[0m\u001b[1;31mP\u001b[0m\u001b[1;32mS\u001b[0m\u001b[1;31mI\u001b[0m\u001b[1;32mS\u001b[0m\u001b[1;31mA\u001b[0m\u001b[1;31mF\u001b[0m\u001b[1;32mQ\u001b[0m\u001b[1;31mA\u001b[0m\u001b[1;31mA\u001b[0m\u001b[1;32mY\u001b[0m\u001b[1;31mI\u001b[0m\u001b[1;32mG\u001b[0m\u001b[1;31mI\u001b[0m\u001b[1;34mE\u001b[0m\u001b[1;31mV\u001b[0m\u001b[1;31mL\u001b[0m\u001b[1;31mI\u001b[0m\u001b[1;31mA\u001b[0m\u001b[1;31mL\u001b[0m\u001b[1;31mV\u001b[0m\u001b[1;32mS\u001b[0m\u001b[1;31mV\u001b[0m\u001b[1;31mP\u001b[0m\u001b[1;32mG\u001b[0m\u001b[1;32mN\u001b[0m\u001b[1;31mV\u001b[0m\u001b[1;31mL\u001b[0m\u001b[1;31mV\u001b[0m\u001b[1;31mI\u001b[0m\u001b[1;31mW\u001b[0m\u001b[1;31mA\u001b[0m\u001b[1;31mV\u001b[0m\u001b[1;38;5;129mK\u001b[0m\u001b[1;31mV\u001b[0m\u001b[1;32mN\u001b[0m\u001b[1;32mQ\u001b[0m\u001b[1;31mA\u001b[0m\u001b[1;31mL\u001b[0m\u001b[1;38;5;129mR\u001b[0m\u001b[1;34mD\u001b[0m\u001b[1;31mA\u001b[0m\u001b[1;32mT\u001b[0m\u001b[1;31mF\u001b[0m\u001b[1;32mC\u001b[0m\u001b[1;31mF\u001b[0m\u001b[1;31mI\u001b[0m\u001b[1;31mV\u001b[0m\u001b[1;32mS\u001b[0m\u001b[1;31mL\u001b[0m\u001b[1;31mA\u001b[0m\u001b[1;31mV\u001b[0m\u001b[1;31mA\u001b[0m\u001b[1;34mD\u001b[0m\u001b[1;31mV\u001b[0m\u001b[1;31mA\u001b[0m\u001b[1;31mV\u001b[0m\u001b[1;32mG\u001b[0m\u001b[1;31mA\u001b[0m\u001b[1;31mL\u001b[0m\u001b[1;31mV\u001b[0m\u001b[1;31mI\u001b[0m\u001b[1;31mP\u001b[0m\u001b[1;31mL\u001b[0m\u001b[1;31mA\u001b[0m\u001b[1;31mI\u001b[0m\u001b[1;31mL\u001b[0m\u001b[1;31mI\u001b[0m\u001b[1;32mN\u001b[0m\u001b[1;31mI\u001b[0m\u001b[1;32mG\u001b[0m\u001b[1;31mP\u001b[0m\u001b[1;32mQ\u001b[0m\u001b[1;32mT\u001b[0m\u001b[1;32mY\u001b[0m\u001b[1;31mF\u001b[0m\u001b[1;32mH\u001b[0m\u001b[1;32mT\u001b[0m\u001b[1;32mC\u001b[0m\u001b[1;31mL\u001b[0m\u001b[1;31mM\u001b[0m\u001b[1;31mV\u001b[0m\u001b[1;31mA\u001b[0m\u001b[1;32mC\u001b[0m\u001b[1;31mP\u001b[0m\u001b[1;31mV\u001b[0m\u001b[1;31mL\u001b[0m\u001b[1;31mI\u001b[0m  │\n",
       "│ 1 AA2AR_H…   \u001b[1;36m  1\u001b[0m  \u001b[1;38;5;239m-\u001b[0m\u001b[1;38;5;239m-\u001b[0m\u001b[1;38;5;239m-\u001b[0m\u001b[1;38;5;239m-\u001b[0m\u001b[1;38;5;239m-\u001b[0m\u001b[1;38;5;239m-\u001b[0m\u001b[1;31mM\u001b[0m\u001b[1;31mP\u001b[0m\u001b[1;31mI\u001b[0m\u001b[1;31mM\u001b[0m\u001b[1;32mG\u001b[0m\u001b[1;32mS\u001b[0m\u001b[1;32mS\u001b[0m\u001b[1;31mV\u001b[0m\u001b[1;32mY\u001b[0m\u001b[1;31mI\u001b[0m\u001b[1;32mT\u001b[0m\u001b[1;31mV\u001b[0m\u001b[1;34mE\u001b[0m\u001b[1;31mL\u001b[0m\u001b[1;31mA\u001b[0m\u001b[1;31mI\u001b[0m\u001b[1;31mA\u001b[0m\u001b[1;31mV\u001b[0m\u001b[1;31mL\u001b[0m\u001b[1;31mA\u001b[0m\u001b[1;31mI\u001b[0m\u001b[1;31mL\u001b[0m\u001b[1;32mG\u001b[0m\u001b[1;32mN\u001b[0m\u001b[1;31mV\u001b[0m\u001b[1;31mL\u001b[0m\u001b[1;31mV\u001b[0m\u001b[1;32mC\u001b[0m\u001b[1;31mW\u001b[0m\u001b[1;31mA\u001b[0m\u001b[1;31mV\u001b[0m\u001b[1;31mW\u001b[0m\u001b[1;31mL\u001b[0m\u001b[1;32mN\u001b[0m\u001b[1;32mS\u001b[0m\u001b[1;32mN\u001b[0m\u001b[1;31mL\u001b[0m\u001b[1;32mQ\u001b[0m\u001b[1;32mN\u001b[0m\u001b[1;31mV\u001b[0m\u001b[1;32mT\u001b[0m\u001b[1;32mN\u001b[0m\u001b[1;32mY\u001b[0m\u001b[1;31mF\u001b[0m\u001b[1;31mV\u001b[0m\u001b[1;31mV\u001b[0m\u001b[1;32mS\u001b[0m\u001b[1;31mL\u001b[0m\u001b[1;31mA\u001b[0m\u001b[1;31mA\u001b[0m\u001b[1;31mA\u001b[0m\u001b[1;34mD\u001b[0m\u001b[1;31mI\u001b[0m\u001b[1;31mA\u001b[0m\u001b[1;31mV\u001b[0m\u001b[1;32mG\u001b[0m\u001b[1;31mV\u001b[0m\u001b[1;31mL\u001b[0m\u001b[1;31mA\u001b[0m\u001b[1;31mI\u001b[0m\u001b[1;31mP\u001b[0m\u001b[1;31mF\u001b[0m\u001b[1;31mA\u001b[0m\u001b[1;31mI\u001b[0m\u001b[1;32mT\u001b[0m\u001b[1;31mI\u001b[0m\u001b[1;32mS\u001b[0m\u001b[1;32mT\u001b[0m\u001b[1;32mG\u001b[0m\u001b[1;31mF\u001b[0m\u001b[1;32mC\u001b[0m\u001b[1;31mA\u001b[0m\u001b[1;31mA\u001b[0m\u001b[1;32mC\u001b[0m\u001b[1;32mH\u001b[0m\u001b[1;32mG\u001b[0m\u001b[1;32mC\u001b[0m\u001b[1;31mL\u001b[0m\u001b[1;31mF\u001b[0m\u001b[1;31mI\u001b[0m\u001b[1;31mA\u001b[0m\u001b[1;32mC\u001b[0m\u001b[1;31mF\u001b[0m\u001b[1;31mV\u001b[0m\u001b[1;31mL\u001b[0m\u001b[1;31mV\u001b[0m  │\n",
       "│ 2 AA2BR_H…   \u001b[1;36m  1\u001b[0m  \u001b[1;38;5;239m-\u001b[0m\u001b[1;38;5;239m-\u001b[0m\u001b[1;38;5;239m-\u001b[0m\u001b[1;38;5;239m-\u001b[0m\u001b[1;38;5;239m-\u001b[0m\u001b[1;31mM\u001b[0m\u001b[1;31mL\u001b[0m\u001b[1;31mL\u001b[0m\u001b[1;34mE\u001b[0m\u001b[1;32mT\u001b[0m\u001b[1;32mQ\u001b[0m\u001b[1;34mD\u001b[0m\u001b[1;31mA\u001b[0m\u001b[1;31mL\u001b[0m\u001b[1;32mY\u001b[0m\u001b[1;31mV\u001b[0m\u001b[1;31mA\u001b[0m\u001b[1;31mL\u001b[0m\u001b[1;34mE\u001b[0m\u001b[1;31mL\u001b[0m\u001b[1;31mV\u001b[0m\u001b[1;31mI\u001b[0m\u001b[1;31mA\u001b[0m\u001b[1;31mA\u001b[0m\u001b[1;31mL\u001b[0m\u001b[1;32mS\u001b[0m\u001b[1;31mV\u001b[0m\u001b[1;31mA\u001b[0m\u001b[1;32mG\u001b[0m\u001b[1;32mN\u001b[0m\u001b[1;31mV\u001b[0m\u001b[1;31mL\u001b[0m\u001b[1;31mV\u001b[0m\u001b[1;32mC\u001b[0m\u001b[1;31mA\u001b[0m\u001b[1;31mA\u001b[0m\u001b[1;31mV\u001b[0m\u001b[1;32mG\u001b[0m\u001b[1;32mT\u001b[0m\u001b[1;31mA\u001b[0m\u001b[1;32mN\u001b[0m\u001b[1;32mT\u001b[0m\u001b[1;31mL\u001b[0m\u001b[1;32mQ\u001b[0m\u001b[1;32mT\u001b[0m\u001b[1;31mP\u001b[0m\u001b[1;32mT\u001b[0m\u001b[1;32mN\u001b[0m\u001b[1;32mY\u001b[0m\u001b[1;31mF\u001b[0m\u001b[1;31mL\u001b[0m\u001b[1;31mV\u001b[0m\u001b[1;32mS\u001b[0m\u001b[1;31mL\u001b[0m\u001b[1;31mA\u001b[0m\u001b[1;31mA\u001b[0m\u001b[1;31mA\u001b[0m\u001b[1;34mD\u001b[0m\u001b[1;31mV\u001b[0m\u001b[1;31mA\u001b[0m\u001b[1;31mV\u001b[0m\u001b[1;32mG\u001b[0m\u001b[1;31mL\u001b[0m\u001b[1;31mF\u001b[0m\u001b[1;31mA\u001b[0m\u001b[1;31mI\u001b[0m\u001b[1;31mP\u001b[0m\u001b[1;31mF\u001b[0m\u001b[1;31mA\u001b[0m\u001b[1;31mI\u001b[0m\u001b[1;32mT\u001b[0m\u001b[1;31mI\u001b[0m\u001b[1;32mS\u001b[0m\u001b[1;31mL\u001b[0m\u001b[1;32mG\u001b[0m\u001b[1;31mF\u001b[0m\u001b[1;32mC\u001b[0m\u001b[1;32mT\u001b[0m\u001b[1;34mD\u001b[0m\u001b[1;31mF\u001b[0m\u001b[1;32mY\u001b[0m\u001b[1;32mG\u001b[0m\u001b[1;32mC\u001b[0m\u001b[1;31mL\u001b[0m\u001b[1;31mF\u001b[0m\u001b[1;31mL\u001b[0m\u001b[1;31mA\u001b[0m\u001b[1;32mC\u001b[0m\u001b[1;31mF\u001b[0m\u001b[1;31mV\u001b[0m\u001b[1;31mL\u001b[0m\u001b[1;31mV\u001b[0m  │\n",
       "│ 3 AA3R_HU…   \u001b[1;36m  1\u001b[0m  \u001b[1;31mM\u001b[0m\u001b[1;31mP\u001b[0m\u001b[1;32mN\u001b[0m\u001b[1;32mN\u001b[0m\u001b[1;32mS\u001b[0m\u001b[1;32mT\u001b[0m\u001b[1;31mA\u001b[0m\u001b[1;31mL\u001b[0m\u001b[1;32mS\u001b[0m\u001b[1;31mL\u001b[0m\u001b[1;31mA\u001b[0m\u001b[1;32mN\u001b[0m\u001b[1;31mV\u001b[0m\u001b[1;32mT\u001b[0m\u001b[1;32mY\u001b[0m\u001b[1;31mI\u001b[0m\u001b[1;32mT\u001b[0m\u001b[1;31mM\u001b[0m\u001b[1;34mE\u001b[0m\u001b[1;31mI\u001b[0m\u001b[1;31mF\u001b[0m\u001b[1;31mI\u001b[0m\u001b[1;32mG\u001b[0m\u001b[1;31mL\u001b[0m\u001b[1;32mC\u001b[0m\u001b[1;31mA\u001b[0m\u001b[1;31mI\u001b[0m\u001b[1;31mV\u001b[0m\u001b[1;32mG\u001b[0m\u001b[1;32mN\u001b[0m\u001b[1;31mV\u001b[0m\u001b[1;31mL\u001b[0m\u001b[1;31mV\u001b[0m\u001b[1;31mI\u001b[0m\u001b[1;32mC\u001b[0m\u001b[1;31mV\u001b[0m\u001b[1;31mV\u001b[0m\u001b[1;38;5;129mK\u001b[0m\u001b[1;31mL\u001b[0m\u001b[1;32mN\u001b[0m\u001b[1;31mP\u001b[0m\u001b[1;32mS\u001b[0m\u001b[1;31mL\u001b[0m\u001b[1;32mQ\u001b[0m\u001b[1;32mT\u001b[0m\u001b[1;32mT\u001b[0m\u001b[1;32mT\u001b[0m\u001b[1;31mF\u001b[0m\u001b[1;32mY\u001b[0m\u001b[1;31mF\u001b[0m\u001b[1;31mI\u001b[0m\u001b[1;31mV\u001b[0m\u001b[1;32mS\u001b[0m\u001b[1;31mL\u001b[0m\u001b[1;31mA\u001b[0m\u001b[1;31mL\u001b[0m\u001b[1;31mA\u001b[0m\u001b[1;34mD\u001b[0m\u001b[1;31mI\u001b[0m\u001b[1;31mA\u001b[0m\u001b[1;31mV\u001b[0m\u001b[1;32mG\u001b[0m\u001b[1;31mV\u001b[0m\u001b[1;31mL\u001b[0m\u001b[1;31mV\u001b[0m\u001b[1;31mM\u001b[0m\u001b[1;31mP\u001b[0m\u001b[1;31mL\u001b[0m\u001b[1;31mA\u001b[0m\u001b[1;31mI\u001b[0m\u001b[1;31mV\u001b[0m\u001b[1;31mV\u001b[0m\u001b[1;32mS\u001b[0m\u001b[1;31mL\u001b[0m\u001b[1;32mG\u001b[0m\u001b[1;31mI\u001b[0m\u001b[1;32mT\u001b[0m\u001b[1;31mI\u001b[0m\u001b[1;32mH\u001b[0m\u001b[1;31mF\u001b[0m\u001b[1;32mY\u001b[0m\u001b[1;32mS\u001b[0m\u001b[1;32mC\u001b[0m\u001b[1;31mL\u001b[0m\u001b[1;31mF\u001b[0m\u001b[1;31mM\u001b[0m\u001b[1;32mT\u001b[0m\u001b[1;32mC\u001b[0m\u001b[1;31mL\u001b[0m\u001b[1;31mL\u001b[0m\u001b[1;31mL\u001b[0m\u001b[1;31mI\u001b[0m  │\n",
       "│                                                                                                                 │\n",
       "│ 0 AA1R_HU…   \u001b[1;36m 90\u001b[0m  \u001b[1;31mL\u001b[0m\u001b[1;32mT\u001b[0m\u001b[1;32mQ\u001b[0m\u001b[1;32mS\u001b[0m\u001b[1;32mS\u001b[0m\u001b[1;31mI\u001b[0m\u001b[1;31mL\u001b[0m\u001b[1;31mA\u001b[0m\u001b[1;31mL\u001b[0m\u001b[1;31mL\u001b[0m\u001b[1;31mA\u001b[0m\u001b[1;31mI\u001b[0m\u001b[1;31mA\u001b[0m\u001b[1;31mV\u001b[0m\u001b[1;34mD\u001b[0m\u001b[1;38;5;129mR\u001b[0m\u001b[1;32mY\u001b[0m\u001b[1;31mL\u001b[0m\u001b[1;38;5;129mR\u001b[0m\u001b[1;31mV\u001b[0m\u001b[1;38;5;129mK\u001b[0m\u001b[1;31mI\u001b[0m\u001b[1;31mP\u001b[0m\u001b[1;31mL\u001b[0m\u001b[1;38;5;129mR\u001b[0m\u001b[1;32mY\u001b[0m\u001b[1;38;5;129mK\u001b[0m\u001b[1;31mM\u001b[0m\u001b[1;31mV\u001b[0m\u001b[1;31mV\u001b[0m\u001b[1;32mT\u001b[0m\u001b[1;31mP\u001b[0m\u001b[1;38;5;129mR\u001b[0m\u001b[1;38;5;129mR\u001b[0m\u001b[1;31mA\u001b[0m\u001b[1;31mA\u001b[0m\u001b[1;31mV\u001b[0m\u001b[1;31mA\u001b[0m\u001b[1;31mI\u001b[0m\u001b[1;31mA\u001b[0m\u001b[1;32mG\u001b[0m\u001b[1;32mC\u001b[0m\u001b[1;31mW\u001b[0m\u001b[1;31mI\u001b[0m\u001b[1;31mL\u001b[0m\u001b[1;32mS\u001b[0m\u001b[1;31mF\u001b[0m\u001b[1;31mV\u001b[0m\u001b[1;31mV\u001b[0m\u001b[1;32mG\u001b[0m\u001b[1;31mL\u001b[0m\u001b[1;32mT\u001b[0m\u001b[1;31mP\u001b[0m\u001b[1;31mM\u001b[0m\u001b[1;31mF\u001b[0m\u001b[1;32mG\u001b[0m\u001b[1;31mW\u001b[0m\u001b[1;32mN\u001b[0m\u001b[1;32mN\u001b[0m\u001b[1;31mL\u001b[0m\u001b[1;32mS\u001b[0m\u001b[1;31mA\u001b[0m\u001b[1;31mV\u001b[0m\u001b[1;34mE\u001b[0m\u001b[1;38;5;129mR\u001b[0m\u001b[1;38;5;239m-\u001b[0m\u001b[1;38;5;239m-\u001b[0m\u001b[1;38;5;239m-\u001b[0m\u001b[1;38;5;239m-\u001b[0m\u001b[1;31mA\u001b[0m\u001b[1;31mW\u001b[0m\u001b[1;31mA\u001b[0m\u001b[1;38;5;239m-\u001b[0m\u001b[1;38;5;239m-\u001b[0m\u001b[1;38;5;239m-\u001b[0m\u001b[1;31mA\u001b[0m\u001b[1;32mN\u001b[0m\u001b[1;32mG\u001b[0m\u001b[1;32mS\u001b[0m\u001b[1;31mM\u001b[0m\u001b[1;32mG\u001b[0m\u001b[1;34mE\u001b[0m\u001b[1;31mP\u001b[0m\u001b[1;31mV\u001b[0m\u001b[1;31mI\u001b[0m\u001b[1;38;5;129mK\u001b[0m\u001b[1;32mC\u001b[0m\u001b[1;34mE\u001b[0m\u001b[1;31mF\u001b[0m\u001b[1;34mE\u001b[0m\u001b[1;38;5;129mK\u001b[0m\u001b[1;31mV\u001b[0m  │\n",
       "│ 1 AA2AR_H…   \u001b[1;36m 87\u001b[0m  \u001b[1;31mL\u001b[0m\u001b[1;32mT\u001b[0m\u001b[1;32mQ\u001b[0m\u001b[1;32mS\u001b[0m\u001b[1;32mS\u001b[0m\u001b[1;31mI\u001b[0m\u001b[1;31mF\u001b[0m\u001b[1;32mS\u001b[0m\u001b[1;31mL\u001b[0m\u001b[1;31mL\u001b[0m\u001b[1;31mA\u001b[0m\u001b[1;31mI\u001b[0m\u001b[1;31mA\u001b[0m\u001b[1;31mI\u001b[0m\u001b[1;34mD\u001b[0m\u001b[1;38;5;129mR\u001b[0m\u001b[1;32mY\u001b[0m\u001b[1;31mI\u001b[0m\u001b[1;31mA\u001b[0m\u001b[1;31mI\u001b[0m\u001b[1;38;5;129mR\u001b[0m\u001b[1;31mI\u001b[0m\u001b[1;31mP\u001b[0m\u001b[1;31mL\u001b[0m\u001b[1;38;5;129mR\u001b[0m\u001b[1;32mY\u001b[0m\u001b[1;32mN\u001b[0m\u001b[1;32mG\u001b[0m\u001b[1;31mL\u001b[0m\u001b[1;31mV\u001b[0m\u001b[1;32mT\u001b[0m\u001b[1;32mG\u001b[0m\u001b[1;32mT\u001b[0m\u001b[1;38;5;129mR\u001b[0m\u001b[1;31mA\u001b[0m\u001b[1;38;5;129mK\u001b[0m\u001b[1;32mG\u001b[0m\u001b[1;31mI\u001b[0m\u001b[1;31mI\u001b[0m\u001b[1;31mA\u001b[0m\u001b[1;31mI\u001b[0m\u001b[1;32mC\u001b[0m\u001b[1;31mW\u001b[0m\u001b[1;31mV\u001b[0m\u001b[1;31mL\u001b[0m\u001b[1;32mS\u001b[0m\u001b[1;31mF\u001b[0m\u001b[1;31mA\u001b[0m\u001b[1;31mI\u001b[0m\u001b[1;32mG\u001b[0m\u001b[1;31mL\u001b[0m\u001b[1;32mT\u001b[0m\u001b[1;31mP\u001b[0m\u001b[1;31mM\u001b[0m\u001b[1;31mL\u001b[0m\u001b[1;32mG\u001b[0m\u001b[1;31mW\u001b[0m\u001b[1;32mN\u001b[0m\u001b[1;32mN\u001b[0m\u001b[1;38;5;239m-\u001b[0m\u001b[1;38;5;239m-\u001b[0m\u001b[1;38;5;239m-\u001b[0m\u001b[1;38;5;239m-\u001b[0m\u001b[1;38;5;239m-\u001b[0m\u001b[1;38;5;239m-\u001b[0m\u001b[1;38;5;239m-\u001b[0m\u001b[1;32mC\u001b[0m\u001b[1;32mG\u001b[0m\u001b[1;32mQ\u001b[0m\u001b[1;31mP\u001b[0m\u001b[1;38;5;129mK\u001b[0m\u001b[1;34mE\u001b[0m\u001b[1;32mG\u001b[0m\u001b[1;38;5;129mK\u001b[0m\u001b[1;32mN\u001b[0m\u001b[1;32mH\u001b[0m\u001b[1;32mS\u001b[0m\u001b[1;32mQ\u001b[0m\u001b[1;32mG\u001b[0m\u001b[1;32mC\u001b[0m\u001b[1;32mG\u001b[0m\u001b[1;34mE\u001b[0m\u001b[1;32mG\u001b[0m\u001b[1;32mQ\u001b[0m\u001b[1;31mV\u001b[0m\u001b[1;31mA\u001b[0m\u001b[1;32mC\u001b[0m\u001b[1;31mL\u001b[0m\u001b[1;31mF\u001b[0m\u001b[1;34mE\u001b[0m\u001b[1;34mD\u001b[0m\u001b[1;31mV\u001b[0m  │\n",
       "│ 2 AA2BR_H…   \u001b[1;36m 88\u001b[0m  \u001b[1;31mL\u001b[0m\u001b[1;32mT\u001b[0m\u001b[1;32mQ\u001b[0m\u001b[1;32mS\u001b[0m\u001b[1;32mS\u001b[0m\u001b[1;31mI\u001b[0m\u001b[1;31mF\u001b[0m\u001b[1;32mS\u001b[0m\u001b[1;31mL\u001b[0m\u001b[1;31mL\u001b[0m\u001b[1;31mA\u001b[0m\u001b[1;31mV\u001b[0m\u001b[1;31mA\u001b[0m\u001b[1;31mV\u001b[0m\u001b[1;34mD\u001b[0m\u001b[1;38;5;129mR\u001b[0m\u001b[1;32mY\u001b[0m\u001b[1;31mL\u001b[0m\u001b[1;31mA\u001b[0m\u001b[1;31mI\u001b[0m\u001b[1;32mC\u001b[0m\u001b[1;31mV\u001b[0m\u001b[1;31mP\u001b[0m\u001b[1;31mL\u001b[0m\u001b[1;38;5;129mR\u001b[0m\u001b[1;32mY\u001b[0m\u001b[1;38;5;129mK\u001b[0m\u001b[1;32mS\u001b[0m\u001b[1;31mL\u001b[0m\u001b[1;31mV\u001b[0m\u001b[1;32mT\u001b[0m\u001b[1;32mG\u001b[0m\u001b[1;32mT\u001b[0m\u001b[1;38;5;129mR\u001b[0m\u001b[1;31mA\u001b[0m\u001b[1;38;5;129mR\u001b[0m\u001b[1;32mG\u001b[0m\u001b[1;31mV\u001b[0m\u001b[1;31mI\u001b[0m\u001b[1;31mA\u001b[0m\u001b[1;31mV\u001b[0m\u001b[1;31mL\u001b[0m\u001b[1;31mW\u001b[0m\u001b[1;31mV\u001b[0m\u001b[1;31mL\u001b[0m\u001b[1;31mA\u001b[0m\u001b[1;31mF\u001b[0m\u001b[1;32mG\u001b[0m\u001b[1;31mI\u001b[0m\u001b[1;32mG\u001b[0m\u001b[1;31mL\u001b[0m\u001b[1;32mT\u001b[0m\u001b[1;31mP\u001b[0m\u001b[1;31mF\u001b[0m\u001b[1;31mL\u001b[0m\u001b[1;32mG\u001b[0m\u001b[1;31mW\u001b[0m\u001b[1;32mN\u001b[0m\u001b[1;32mS\u001b[0m\u001b[1;38;5;129mK\u001b[0m\u001b[1;34mD\u001b[0m\u001b[1;32mS\u001b[0m\u001b[1;31mA\u001b[0m\u001b[1;32mT\u001b[0m\u001b[1;32mN\u001b[0m\u001b[1;32mN\u001b[0m\u001b[1;32mC\u001b[0m\u001b[1;32mT\u001b[0m\u001b[1;34mE\u001b[0m\u001b[1;31mP\u001b[0m\u001b[1;31mW\u001b[0m\u001b[1;34mD\u001b[0m\u001b[1;32mG\u001b[0m\u001b[1;32mT\u001b[0m\u001b[1;32mT\u001b[0m\u001b[1;32mN\u001b[0m\u001b[1;34mE\u001b[0m\u001b[1;32mS\u001b[0m\u001b[1;32mC\u001b[0m\u001b[1;32mC\u001b[0m\u001b[1;38;5;239m-\u001b[0m\u001b[1;38;5;239m-\u001b[0m\u001b[1;38;5;239m-\u001b[0m\u001b[1;31mL\u001b[0m\u001b[1;31mV\u001b[0m\u001b[1;38;5;129mK\u001b[0m\u001b[1;32mC\u001b[0m\u001b[1;31mL\u001b[0m\u001b[1;31mF\u001b[0m\u001b[1;34mE\u001b[0m\u001b[1;32mN\u001b[0m\u001b[1;31mV\u001b[0m  │\n",
       "│ 3 AA3R_HU…   \u001b[1;36m 93\u001b[0m  \u001b[1;31mF\u001b[0m\u001b[1;32mT\u001b[0m\u001b[1;32mH\u001b[0m\u001b[1;31mA\u001b[0m\u001b[1;32mS\u001b[0m\u001b[1;31mI\u001b[0m\u001b[1;31mM\u001b[0m\u001b[1;32mS\u001b[0m\u001b[1;31mL\u001b[0m\u001b[1;31mL\u001b[0m\u001b[1;31mA\u001b[0m\u001b[1;31mI\u001b[0m\u001b[1;31mA\u001b[0m\u001b[1;31mV\u001b[0m\u001b[1;34mD\u001b[0m\u001b[1;38;5;129mR\u001b[0m\u001b[1;32mY\u001b[0m\u001b[1;31mL\u001b[0m\u001b[1;38;5;129mR\u001b[0m\u001b[1;31mV\u001b[0m\u001b[1;38;5;129mK\u001b[0m\u001b[1;31mL\u001b[0m\u001b[1;32mT\u001b[0m\u001b[1;31mV\u001b[0m\u001b[1;38;5;129mR\u001b[0m\u001b[1;32mY\u001b[0m\u001b[1;38;5;129mK\u001b[0m\u001b[1;38;5;129mR\u001b[0m\u001b[1;31mV\u001b[0m\u001b[1;32mT\u001b[0m\u001b[1;32mT\u001b[0m\u001b[1;32mH\u001b[0m\u001b[1;38;5;129mR\u001b[0m\u001b[1;38;5;129mR\u001b[0m\u001b[1;31mI\u001b[0m\u001b[1;31mW\u001b[0m\u001b[1;31mL\u001b[0m\u001b[1;31mA\u001b[0m\u001b[1;31mL\u001b[0m\u001b[1;32mG\u001b[0m\u001b[1;31mL\u001b[0m\u001b[1;32mC\u001b[0m\u001b[1;31mW\u001b[0m\u001b[1;31mL\u001b[0m\u001b[1;31mV\u001b[0m\u001b[1;32mS\u001b[0m\u001b[1;31mF\u001b[0m\u001b[1;31mL\u001b[0m\u001b[1;31mV\u001b[0m\u001b[1;32mG\u001b[0m\u001b[1;31mL\u001b[0m\u001b[1;32mT\u001b[0m\u001b[1;31mP\u001b[0m\u001b[1;31mM\u001b[0m\u001b[1;31mF\u001b[0m\u001b[1;32mG\u001b[0m\u001b[1;31mW\u001b[0m\u001b[1;32mN\u001b[0m\u001b[1;31mM\u001b[0m\u001b[1;38;5;129mK\u001b[0m\u001b[1;31mL\u001b[0m\u001b[1;32mT\u001b[0m\u001b[1;32mS\u001b[0m\u001b[1;34mE\u001b[0m\u001b[1;32mY\u001b[0m\u001b[1;32mH\u001b[0m\u001b[1;38;5;239m-\u001b[0m\u001b[1;38;5;239m-\u001b[0m\u001b[1;38;5;239m-\u001b[0m\u001b[1;38;5;239m-\u001b[0m\u001b[1;38;5;239m-\u001b[0m\u001b[1;38;5;239m-\u001b[0m\u001b[1;38;5;239m-\u001b[0m\u001b[1;38;5;239m-\u001b[0m\u001b[1;38;5;239m-\u001b[0m\u001b[1;38;5;239m-\u001b[0m\u001b[1;38;5;239m-\u001b[0m\u001b[1;38;5;239m-\u001b[0m\u001b[1;38;5;239m-\u001b[0m\u001b[1;38;5;129mR\u001b[0m\u001b[1;32mN\u001b[0m\u001b[1;31mV\u001b[0m\u001b[1;32mT\u001b[0m\u001b[1;31mF\u001b[0m\u001b[1;31mL\u001b[0m\u001b[1;32mS\u001b[0m\u001b[1;32mC\u001b[0m\u001b[1;32mQ\u001b[0m\u001b[1;31mF\u001b[0m\u001b[1;31mV\u001b[0m\u001b[1;32mS\u001b[0m\u001b[1;31mV\u001b[0m  │\n",
       "│                                                                                                                 │\n",
       "│ 0 AA1R_HU…   \u001b[1;36m175\u001b[0m  \u001b[1;31mI\u001b[0m\u001b[1;32mS\u001b[0m\u001b[1;31mM\u001b[0m\u001b[1;34mE\u001b[0m\u001b[1;32mY\u001b[0m\u001b[1;31mM\u001b[0m\u001b[1;31mV\u001b[0m\u001b[1;32mY\u001b[0m\u001b[1;31mF\u001b[0m\u001b[1;32mN\u001b[0m\u001b[1;31mF\u001b[0m\u001b[1;31mF\u001b[0m\u001b[1;31mV\u001b[0m\u001b[1;31mW\u001b[0m\u001b[1;31mV\u001b[0m\u001b[1;31mL\u001b[0m\u001b[1;31mP\u001b[0m\u001b[1;31mP\u001b[0m\u001b[1;31mL\u001b[0m\u001b[1;31mL\u001b[0m\u001b[1;31mL\u001b[0m\u001b[1;31mM\u001b[0m\u001b[1;31mV\u001b[0m\u001b[1;31mL\u001b[0m\u001b[1;31mI\u001b[0m\u001b[1;32mY\u001b[0m\u001b[1;31mL\u001b[0m\u001b[1;34mE\u001b[0m\u001b[1;31mV\u001b[0m\u001b[1;31mF\u001b[0m\u001b[1;32mY\u001b[0m\u001b[1;31mL\u001b[0m\u001b[1;31mI\u001b[0m\u001b[1;38;5;129mR\u001b[0m\u001b[1;38;5;129mK\u001b[0m\u001b[1;32mQ\u001b[0m\u001b[1;31mL\u001b[0m\u001b[1;32mN\u001b[0m\u001b[1;38;5;129mK\u001b[0m\u001b[1;38;5;129mK\u001b[0m\u001b[1;31mV\u001b[0m\u001b[1;32mS\u001b[0m\u001b[1;31mA\u001b[0m\u001b[1;32mS\u001b[0m\u001b[1;38;5;239m-\u001b[0m\u001b[1;38;5;239m-\u001b[0m\u001b[1;32mS\u001b[0m\u001b[1;32mG\u001b[0m\u001b[1;34mD\u001b[0m\u001b[1;31mP\u001b[0m\u001b[1;32mQ\u001b[0m\u001b[1;38;5;129mK\u001b[0m\u001b[1;32mY\u001b[0m\u001b[1;32mY\u001b[0m\u001b[1;32mG\u001b[0m\u001b[1;38;5;129mK\u001b[0m\u001b[1;34mE\u001b[0m\u001b[1;31mL\u001b[0m\u001b[1;38;5;129mK\u001b[0m\u001b[1;31mI\u001b[0m\u001b[1;31mA\u001b[0m\u001b[1;38;5;129mK\u001b[0m\u001b[1;32mS\u001b[0m\u001b[1;31mL\u001b[0m\u001b[1;31mA\u001b[0m\u001b[1;31mL\u001b[0m\u001b[1;31mI\u001b[0m\u001b[1;31mL\u001b[0m\u001b[1;31mF\u001b[0m\u001b[1;31mL\u001b[0m\u001b[1;31mF\u001b[0m\u001b[1;31mA\u001b[0m\u001b[1;31mL\u001b[0m\u001b[1;32mS\u001b[0m\u001b[1;31mW\u001b[0m\u001b[1;31mL\u001b[0m\u001b[1;31mP\u001b[0m\u001b[1;31mL\u001b[0m\u001b[1;32mH\u001b[0m\u001b[1;31mI\u001b[0m\u001b[1;31mL\u001b[0m\u001b[1;32mN\u001b[0m\u001b[1;32mC\u001b[0m\u001b[1;31mI\u001b[0m\u001b[1;32mT\u001b[0m\u001b[1;31mL\u001b[0m\u001b[1;31mF\u001b[0m\u001b[1;32mC\u001b[0m\u001b[1;31mP\u001b[0m\u001b[1;32mS\u001b[0m\u001b[1;32mC\u001b[0m\u001b[1;38;5;239m-\u001b[0m  │\n",
       "│ 1 AA2AR_H…   \u001b[1;36m172\u001b[0m  \u001b[1;31mV\u001b[0m\u001b[1;31mP\u001b[0m\u001b[1;31mM\u001b[0m\u001b[1;32mN\u001b[0m\u001b[1;32mY\u001b[0m\u001b[1;31mM\u001b[0m\u001b[1;31mV\u001b[0m\u001b[1;32mY\u001b[0m\u001b[1;31mF\u001b[0m\u001b[1;32mN\u001b[0m\u001b[1;31mF\u001b[0m\u001b[1;31mF\u001b[0m\u001b[1;31mA\u001b[0m\u001b[1;32mC\u001b[0m\u001b[1;31mV\u001b[0m\u001b[1;31mL\u001b[0m\u001b[1;31mV\u001b[0m\u001b[1;31mP\u001b[0m\u001b[1;31mL\u001b[0m\u001b[1;31mL\u001b[0m\u001b[1;31mL\u001b[0m\u001b[1;31mM\u001b[0m\u001b[1;31mL\u001b[0m\u001b[1;32mG\u001b[0m\u001b[1;31mV\u001b[0m\u001b[1;32mY\u001b[0m\u001b[1;31mL\u001b[0m\u001b[1;38;5;129mR\u001b[0m\u001b[1;31mI\u001b[0m\u001b[1;31mF\u001b[0m\u001b[1;31mL\u001b[0m\u001b[1;31mA\u001b[0m\u001b[1;31mA\u001b[0m\u001b[1;38;5;129mR\u001b[0m\u001b[1;38;5;129mR\u001b[0m\u001b[1;32mQ\u001b[0m\u001b[1;31mL\u001b[0m\u001b[1;38;5;129mK\u001b[0m\u001b[1;32mQ\u001b[0m\u001b[1;31mM\u001b[0m\u001b[1;34mE\u001b[0m\u001b[1;32mS\u001b[0m\u001b[1;32mQ\u001b[0m\u001b[1;31mP\u001b[0m\u001b[1;31mL\u001b[0m\u001b[1;31mP\u001b[0m\u001b[1;32mG\u001b[0m\u001b[1;34mE\u001b[0m\u001b[1;38;5;129mR\u001b[0m\u001b[1;31mA\u001b[0m\u001b[1;38;5;129mR\u001b[0m\u001b[1;32mS\u001b[0m\u001b[1;32mT\u001b[0m\u001b[1;31mL\u001b[0m\u001b[1;32mQ\u001b[0m\u001b[1;38;5;129mK\u001b[0m\u001b[1;34mE\u001b[0m\u001b[1;31mV\u001b[0m\u001b[1;32mH\u001b[0m\u001b[1;31mA\u001b[0m\u001b[1;31mA\u001b[0m\u001b[1;38;5;129mK\u001b[0m\u001b[1;32mS\u001b[0m\u001b[1;31mL\u001b[0m\u001b[1;31mA\u001b[0m\u001b[1;31mI\u001b[0m\u001b[1;31mI\u001b[0m\u001b[1;31mV\u001b[0m\u001b[1;32mG\u001b[0m\u001b[1;31mL\u001b[0m\u001b[1;31mF\u001b[0m\u001b[1;31mA\u001b[0m\u001b[1;31mL\u001b[0m\u001b[1;32mC\u001b[0m\u001b[1;31mW\u001b[0m\u001b[1;31mL\u001b[0m\u001b[1;31mP\u001b[0m\u001b[1;31mL\u001b[0m\u001b[1;32mH\u001b[0m\u001b[1;31mI\u001b[0m\u001b[1;31mI\u001b[0m\u001b[1;32mN\u001b[0m\u001b[1;32mC\u001b[0m\u001b[1;31mF\u001b[0m\u001b[1;32mT\u001b[0m\u001b[1;31mF\u001b[0m\u001b[1;31mF\u001b[0m\u001b[1;32mC\u001b[0m\u001b[1;31mP\u001b[0m\u001b[1;34mD\u001b[0m\u001b[1;32mC\u001b[0m\u001b[1;38;5;239m-\u001b[0m  │\n",
       "│ 2 AA2BR_H…   \u001b[1;36m177\u001b[0m  \u001b[1;31mV\u001b[0m\u001b[1;31mP\u001b[0m\u001b[1;31mM\u001b[0m\u001b[1;32mS\u001b[0m\u001b[1;32mY\u001b[0m\u001b[1;31mM\u001b[0m\u001b[1;31mV\u001b[0m\u001b[1;32mY\u001b[0m\u001b[1;31mF\u001b[0m\u001b[1;32mN\u001b[0m\u001b[1;31mF\u001b[0m\u001b[1;31mF\u001b[0m\u001b[1;32mG\u001b[0m\u001b[1;32mC\u001b[0m\u001b[1;31mV\u001b[0m\u001b[1;31mL\u001b[0m\u001b[1;31mP\u001b[0m\u001b[1;31mP\u001b[0m\u001b[1;31mL\u001b[0m\u001b[1;31mL\u001b[0m\u001b[1;31mI\u001b[0m\u001b[1;31mM\u001b[0m\u001b[1;31mL\u001b[0m\u001b[1;31mV\u001b[0m\u001b[1;31mI\u001b[0m\u001b[1;32mY\u001b[0m\u001b[1;31mI\u001b[0m\u001b[1;38;5;129mK\u001b[0m\u001b[1;31mI\u001b[0m\u001b[1;31mF\u001b[0m\u001b[1;31mL\u001b[0m\u001b[1;31mV\u001b[0m\u001b[1;31mA\u001b[0m\u001b[1;32mC\u001b[0m\u001b[1;38;5;129mR\u001b[0m\u001b[1;32mQ\u001b[0m\u001b[1;31mL\u001b[0m\u001b[1;32mQ\u001b[0m\u001b[1;38;5;129mR\u001b[0m\u001b[1;32mT\u001b[0m\u001b[1;34mE\u001b[0m\u001b[1;31mL\u001b[0m\u001b[1;38;5;239m-\u001b[0m\u001b[1;38;5;239m-\u001b[0m\u001b[1;38;5;239m-\u001b[0m\u001b[1;38;5;239m-\u001b[0m\u001b[1;31mM\u001b[0m\u001b[1;34mD\u001b[0m\u001b[1;32mH\u001b[0m\u001b[1;32mS\u001b[0m\u001b[1;38;5;129mR\u001b[0m\u001b[1;32mT\u001b[0m\u001b[1;32mT\u001b[0m\u001b[1;31mL\u001b[0m\u001b[1;32mQ\u001b[0m\u001b[1;38;5;129mR\u001b[0m\u001b[1;34mE\u001b[0m\u001b[1;31mI\u001b[0m\u001b[1;32mH\u001b[0m\u001b[1;31mA\u001b[0m\u001b[1;31mA\u001b[0m\u001b[1;38;5;129mK\u001b[0m\u001b[1;32mS\u001b[0m\u001b[1;31mL\u001b[0m\u001b[1;31mA\u001b[0m\u001b[1;31mM\u001b[0m\u001b[1;31mI\u001b[0m\u001b[1;31mV\u001b[0m\u001b[1;32mG\u001b[0m\u001b[1;31mI\u001b[0m\u001b[1;31mF\u001b[0m\u001b[1;31mA\u001b[0m\u001b[1;31mL\u001b[0m\u001b[1;32mC\u001b[0m\u001b[1;31mW\u001b[0m\u001b[1;31mL\u001b[0m\u001b[1;31mP\u001b[0m\u001b[1;31mV\u001b[0m\u001b[1;32mH\u001b[0m\u001b[1;31mA\u001b[0m\u001b[1;31mV\u001b[0m\u001b[1;32mN\u001b[0m\u001b[1;32mC\u001b[0m\u001b[1;31mV\u001b[0m\u001b[1;32mT\u001b[0m\u001b[1;31mL\u001b[0m\u001b[1;31mF\u001b[0m\u001b[1;32mQ\u001b[0m\u001b[1;31mP\u001b[0m\u001b[1;31mA\u001b[0m\u001b[1;32mQ\u001b[0m\u001b[1;32mG\u001b[0m  │\n",
       "│ 3 AA3R_HU…   \u001b[1;36m172\u001b[0m  \u001b[1;31mM\u001b[0m\u001b[1;38;5;129mR\u001b[0m\u001b[1;31mM\u001b[0m\u001b[1;34mD\u001b[0m\u001b[1;32mY\u001b[0m\u001b[1;31mM\u001b[0m\u001b[1;31mV\u001b[0m\u001b[1;32mY\u001b[0m\u001b[1;31mF\u001b[0m\u001b[1;32mS\u001b[0m\u001b[1;31mF\u001b[0m\u001b[1;31mL\u001b[0m\u001b[1;32mT\u001b[0m\u001b[1;31mW\u001b[0m\u001b[1;31mI\u001b[0m\u001b[1;31mF\u001b[0m\u001b[1;31mI\u001b[0m\u001b[1;31mP\u001b[0m\u001b[1;31mL\u001b[0m\u001b[1;31mV\u001b[0m\u001b[1;31mV\u001b[0m\u001b[1;31mM\u001b[0m\u001b[1;32mC\u001b[0m\u001b[1;31mA\u001b[0m\u001b[1;31mI\u001b[0m\u001b[1;32mY\u001b[0m\u001b[1;31mL\u001b[0m\u001b[1;34mD\u001b[0m\u001b[1;31mI\u001b[0m\u001b[1;31mF\u001b[0m\u001b[1;32mY\u001b[0m\u001b[1;31mI\u001b[0m\u001b[1;31mI\u001b[0m\u001b[1;38;5;129mR\u001b[0m\u001b[1;32mN\u001b[0m\u001b[1;38;5;129mK\u001b[0m\u001b[1;31mL\u001b[0m\u001b[1;32mS\u001b[0m\u001b[1;31mL\u001b[0m\u001b[1;32mN\u001b[0m\u001b[1;31mL\u001b[0m\u001b[1;32mS\u001b[0m\u001b[1;32mN\u001b[0m\u001b[1;38;5;239m-\u001b[0m\u001b[1;38;5;239m-\u001b[0m\u001b[1;38;5;239m-\u001b[0m\u001b[1;32mS\u001b[0m\u001b[1;38;5;129mK\u001b[0m\u001b[1;34mE\u001b[0m\u001b[1;32mT\u001b[0m\u001b[1;32mG\u001b[0m\u001b[1;31mA\u001b[0m\u001b[1;31mF\u001b[0m\u001b[1;32mY\u001b[0m\u001b[1;32mG\u001b[0m\u001b[1;38;5;129mR\u001b[0m\u001b[1;34mE\u001b[0m\u001b[1;31mF\u001b[0m\u001b[1;38;5;129mK\u001b[0m\u001b[1;32mT\u001b[0m\u001b[1;31mA\u001b[0m\u001b[1;38;5;129mK\u001b[0m\u001b[1;32mS\u001b[0m\u001b[1;31mL\u001b[0m\u001b[1;31mF\u001b[0m\u001b[1;31mL\u001b[0m\u001b[1;31mV\u001b[0m\u001b[1;31mL\u001b[0m\u001b[1;31mF\u001b[0m\u001b[1;31mL\u001b[0m\u001b[1;31mF\u001b[0m\u001b[1;31mA\u001b[0m\u001b[1;31mL\u001b[0m\u001b[1;32mS\u001b[0m\u001b[1;31mW\u001b[0m\u001b[1;31mL\u001b[0m\u001b[1;31mP\u001b[0m\u001b[1;31mL\u001b[0m\u001b[1;32mS\u001b[0m\u001b[1;31mI\u001b[0m\u001b[1;31mI\u001b[0m\u001b[1;32mN\u001b[0m\u001b[1;32mC\u001b[0m\u001b[1;31mI\u001b[0m\u001b[1;31mI\u001b[0m\u001b[1;32mY\u001b[0m\u001b[1;31mF\u001b[0m\u001b[1;32mN\u001b[0m\u001b[1;32mG\u001b[0m\u001b[1;38;5;239m-\u001b[0m\u001b[1;38;5;239m-\u001b[0m\u001b[1;38;5;239m-\u001b[0m  │\n",
       "│                                                                                                                 │\n",
       "│ 0 AA1R_HU…   \u001b[1;36m264\u001b[0m  \u001b[1;38;5;239m-\u001b[0m\u001b[1;32mH\u001b[0m\u001b[1;38;5;129mK\u001b[0m\u001b[1;31mP\u001b[0m\u001b[1;32mS\u001b[0m\u001b[1;31mI\u001b[0m\u001b[1;31mL\u001b[0m\u001b[1;32mT\u001b[0m\u001b[1;32mY\u001b[0m\u001b[1;31mI\u001b[0m\u001b[1;31mA\u001b[0m\u001b[1;31mI\u001b[0m\u001b[1;31mF\u001b[0m\u001b[1;31mL\u001b[0m\u001b[1;32mT\u001b[0m\u001b[1;32mH\u001b[0m\u001b[1;32mG\u001b[0m\u001b[1;32mN\u001b[0m\u001b[1;32mS\u001b[0m\u001b[1;31mA\u001b[0m\u001b[1;31mM\u001b[0m\u001b[1;32mN\u001b[0m\u001b[1;31mP\u001b[0m\u001b[1;31mI\u001b[0m\u001b[1;31mV\u001b[0m\u001b[1;32mY\u001b[0m\u001b[1;31mA\u001b[0m\u001b[1;31mF\u001b[0m\u001b[1;38;5;129mR\u001b[0m\u001b[1;31mI\u001b[0m\u001b[1;32mQ\u001b[0m\u001b[1;38;5;129mK\u001b[0m\u001b[1;31mF\u001b[0m\u001b[1;38;5;129mR\u001b[0m\u001b[1;31mV\u001b[0m\u001b[1;32mT\u001b[0m\u001b[1;31mF\u001b[0m\u001b[1;31mL\u001b[0m\u001b[1;38;5;129mK\u001b[0m\u001b[1;31mI\u001b[0m\u001b[1;31mW\u001b[0m\u001b[1;32mN\u001b[0m\u001b[1;34mD\u001b[0m\u001b[1;32mH\u001b[0m\u001b[1;31mF\u001b[0m\u001b[1;38;5;129mR\u001b[0m\u001b[1;32mC\u001b[0m\u001b[1;32mQ\u001b[0m\u001b[1;31mP\u001b[0m\u001b[1;31mA\u001b[0m\u001b[1;31mP\u001b[0m\u001b[1;31mP\u001b[0m\u001b[1;31mI\u001b[0m\u001b[1;34mD\u001b[0m\u001b[1;34mE\u001b[0m\u001b[1;34mD\u001b[0m\u001b[1;31mL\u001b[0m\u001b[1;31mP\u001b[0m\u001b[1;34mE\u001b[0m\u001b[1;34mE\u001b[0m\u001b[1;38;5;239m-\u001b[0m\u001b[1;38;5;239m-\u001b[0m\u001b[1;38;5;239m-\u001b[0m\u001b[1;38;5;239m-\u001b[0m\u001b[1;38;5;239m-\u001b[0m\u001b[1;38;5;239m-\u001b[0m\u001b[1;38;5;239m-\u001b[0m\u001b[1;38;5;239m-\u001b[0m\u001b[1;38;5;239m-\u001b[0m\u001b[1;38;5;239m-\u001b[0m\u001b[1;38;5;239m-\u001b[0m\u001b[1;38;5;239m-\u001b[0m\u001b[1;38;5;239m-\u001b[0m\u001b[1;38;5;239m-\u001b[0m\u001b[1;38;5;239m-\u001b[0m\u001b[1;38;5;239m-\u001b[0m\u001b[1;38;5;239m-\u001b[0m\u001b[1;38;5;239m-\u001b[0m\u001b[1;38;5;239m-\u001b[0m\u001b[1;38;5;239m-\u001b[0m\u001b[1;38;5;239m-\u001b[0m\u001b[1;38;5;239m-\u001b[0m\u001b[1;38;5;239m-\u001b[0m\u001b[1;38;5;239m-\u001b[0m\u001b[1;38;5;239m-\u001b[0m\u001b[1;38;5;239m-\u001b[0m\u001b[1;38;5;239m-\u001b[0m\u001b[1;38;5;239m-\u001b[0m\u001b[1;38;5;239m-\u001b[0m\u001b[1;38;5;239m-\u001b[0m\u001b[1;38;5;239m-\u001b[0m\u001b[1;38;5;239m-\u001b[0m  │\n",
       "│ 1 AA2AR_H…   \u001b[1;36m263\u001b[0m  \u001b[1;32mS\u001b[0m\u001b[1;32mH\u001b[0m\u001b[1;31mA\u001b[0m\u001b[1;31mP\u001b[0m\u001b[1;31mL\u001b[0m\u001b[1;31mW\u001b[0m\u001b[1;31mL\u001b[0m\u001b[1;31mM\u001b[0m\u001b[1;32mY\u001b[0m\u001b[1;31mL\u001b[0m\u001b[1;31mA\u001b[0m\u001b[1;31mI\u001b[0m\u001b[1;31mV\u001b[0m\u001b[1;31mL\u001b[0m\u001b[1;32mS\u001b[0m\u001b[1;32mH\u001b[0m\u001b[1;32mT\u001b[0m\u001b[1;32mN\u001b[0m\u001b[1;32mS\u001b[0m\u001b[1;31mV\u001b[0m\u001b[1;31mV\u001b[0m\u001b[1;32mN\u001b[0m\u001b[1;31mP\u001b[0m\u001b[1;31mF\u001b[0m\u001b[1;31mI\u001b[0m\u001b[1;32mY\u001b[0m\u001b[1;31mA\u001b[0m\u001b[1;32mY\u001b[0m\u001b[1;38;5;129mR\u001b[0m\u001b[1;31mI\u001b[0m\u001b[1;38;5;129mR\u001b[0m\u001b[1;34mE\u001b[0m\u001b[1;31mF\u001b[0m\u001b[1;38;5;129mR\u001b[0m\u001b[1;32mQ\u001b[0m\u001b[1;32mT\u001b[0m\u001b[1;31mF\u001b[0m\u001b[1;38;5;129mR\u001b[0m\u001b[1;38;5;129mK\u001b[0m\u001b[1;31mI\u001b[0m\u001b[1;31mI\u001b[0m\u001b[1;38;5;129mR\u001b[0m\u001b[1;32mS\u001b[0m\u001b[1;32mH\u001b[0m\u001b[1;31mV\u001b[0m\u001b[1;31mL\u001b[0m\u001b[1;38;5;129mR\u001b[0m\u001b[1;32mQ\u001b[0m\u001b[1;32mQ\u001b[0m\u001b[1;34mE\u001b[0m\u001b[1;31mP\u001b[0m\u001b[1;31mF\u001b[0m\u001b[1;38;5;129mK\u001b[0m\u001b[1;31mA\u001b[0m\u001b[1;31mA\u001b[0m\u001b[1;32mG\u001b[0m\u001b[1;32mT\u001b[0m\u001b[1;32mS\u001b[0m\u001b[1;31mA\u001b[0m\u001b[1;38;5;129mR\u001b[0m\u001b[1;31mV\u001b[0m\u001b[1;31mL\u001b[0m\u001b[1;31mA\u001b[0m\u001b[1;31mA\u001b[0m\u001b[1;32mH\u001b[0m\u001b[1;32mG\u001b[0m\u001b[1;32mS\u001b[0m\u001b[1;34mD\u001b[0m\u001b[1;32mG\u001b[0m\u001b[1;34mE\u001b[0m\u001b[1;32mQ\u001b[0m\u001b[1;31mV\u001b[0m\u001b[1;32mS\u001b[0m\u001b[1;31mL\u001b[0m\u001b[1;38;5;129mR\u001b[0m\u001b[1;31mL\u001b[0m\u001b[1;32mN\u001b[0m\u001b[1;32mG\u001b[0m\u001b[1;32mH\u001b[0m\u001b[1;31mP\u001b[0m\u001b[1;31mP\u001b[0m\u001b[1;32mG\u001b[0m\u001b[1;31mV\u001b[0m\u001b[1;31mW\u001b[0m\u001b[1;31mA\u001b[0m\u001b[1;32mN\u001b[0m\u001b[1;32mG\u001b[0m\u001b[1;32mS\u001b[0m\u001b[1;31mA\u001b[0m\u001b[1;31mP\u001b[0m\u001b[1;32mH\u001b[0m\u001b[1;31mP\u001b[0m  │\n",
       "│ 2 AA2BR_H…   \u001b[1;36m265\u001b[0m  \u001b[1;38;5;129mK\u001b[0m\u001b[1;32mN\u001b[0m\u001b[1;38;5;129mK\u001b[0m\u001b[1;31mP\u001b[0m\u001b[1;38;5;129mK\u001b[0m\u001b[1;31mW\u001b[0m\u001b[1;31mA\u001b[0m\u001b[1;31mM\u001b[0m\u001b[1;32mN\u001b[0m\u001b[1;31mM\u001b[0m\u001b[1;31mA\u001b[0m\u001b[1;31mI\u001b[0m\u001b[1;31mL\u001b[0m\u001b[1;31mL\u001b[0m\u001b[1;32mS\u001b[0m\u001b[1;32mH\u001b[0m\u001b[1;31mA\u001b[0m\u001b[1;32mN\u001b[0m\u001b[1;32mS\u001b[0m\u001b[1;31mV\u001b[0m\u001b[1;31mV\u001b[0m\u001b[1;32mN\u001b[0m\u001b[1;31mP\u001b[0m\u001b[1;31mI\u001b[0m\u001b[1;31mV\u001b[0m\u001b[1;32mY\u001b[0m\u001b[1;31mA\u001b[0m\u001b[1;32mY\u001b[0m\u001b[1;38;5;129mR\u001b[0m\u001b[1;32mN\u001b[0m\u001b[1;38;5;129mR\u001b[0m\u001b[1;34mD\u001b[0m\u001b[1;31mF\u001b[0m\u001b[1;38;5;129mR\u001b[0m\u001b[1;32mY\u001b[0m\u001b[1;32mT\u001b[0m\u001b[1;31mF\u001b[0m\u001b[1;32mH\u001b[0m\u001b[1;38;5;129mK\u001b[0m\u001b[1;31mI\u001b[0m\u001b[1;31mI\u001b[0m\u001b[1;32mS\u001b[0m\u001b[1;38;5;129mR\u001b[0m\u001b[1;32mY\u001b[0m\u001b[1;31mL\u001b[0m\u001b[1;31mL\u001b[0m\u001b[1;32mC\u001b[0m\u001b[1;32mQ\u001b[0m\u001b[1;31mA\u001b[0m\u001b[1;34mD\u001b[0m\u001b[1;31mV\u001b[0m\u001b[1;38;5;129mK\u001b[0m\u001b[1;32mS\u001b[0m\u001b[1;32mG\u001b[0m\u001b[1;32mN\u001b[0m\u001b[1;32mG\u001b[0m\u001b[1;32mQ\u001b[0m\u001b[1;38;5;239m-\u001b[0m\u001b[1;38;5;239m-\u001b[0m\u001b[1;38;5;239m-\u001b[0m\u001b[1;38;5;239m-\u001b[0m\u001b[1;38;5;239m-\u001b[0m\u001b[1;38;5;239m-\u001b[0m\u001b[1;38;5;239m-\u001b[0m\u001b[1;38;5;239m-\u001b[0m\u001b[1;38;5;239m-\u001b[0m\u001b[1;38;5;239m-\u001b[0m\u001b[1;31mA\u001b[0m\u001b[1;32mG\u001b[0m\u001b[1;31mV\u001b[0m\u001b[1;32mQ\u001b[0m\u001b[1;31mP\u001b[0m\u001b[1;31mA\u001b[0m\u001b[1;31mL\u001b[0m\u001b[1;32mG\u001b[0m\u001b[1;31mV\u001b[0m\u001b[1;32mG\u001b[0m\u001b[1;31mL\u001b[0m\u001b[1;38;5;239m-\u001b[0m\u001b[1;38;5;239m-\u001b[0m\u001b[1;38;5;239m-\u001b[0m\u001b[1;38;5;239m-\u001b[0m\u001b[1;38;5;239m-\u001b[0m\u001b[1;38;5;239m-\u001b[0m\u001b[1;38;5;239m-\u001b[0m\u001b[1;38;5;239m-\u001b[0m\u001b[1;38;5;239m-\u001b[0m\u001b[1;38;5;239m-\u001b[0m\u001b[1;38;5;239m-\u001b[0m\u001b[1;38;5;239m-\u001b[0m\u001b[1;38;5;239m-\u001b[0m\u001b[1;38;5;239m-\u001b[0m  │\n",
       "│ 3 AA3R_HU…   \u001b[1;36m258\u001b[0m  \u001b[1;38;5;239m-\u001b[0m\u001b[1;34mE\u001b[0m\u001b[1;31mV\u001b[0m\u001b[1;31mP\u001b[0m\u001b[1;32mQ\u001b[0m\u001b[1;31mL\u001b[0m\u001b[1;31mV\u001b[0m\u001b[1;31mL\u001b[0m\u001b[1;32mY\u001b[0m\u001b[1;31mM\u001b[0m\u001b[1;32mG\u001b[0m\u001b[1;31mI\u001b[0m\u001b[1;31mL\u001b[0m\u001b[1;31mL\u001b[0m\u001b[1;32mS\u001b[0m\u001b[1;32mH\u001b[0m\u001b[1;31mA\u001b[0m\u001b[1;32mN\u001b[0m\u001b[1;32mS\u001b[0m\u001b[1;31mM\u001b[0m\u001b[1;31mM\u001b[0m\u001b[1;32mN\u001b[0m\u001b[1;31mP\u001b[0m\u001b[1;31mI\u001b[0m\u001b[1;31mV\u001b[0m\u001b[1;32mY\u001b[0m\u001b[1;31mA\u001b[0m\u001b[1;32mY\u001b[0m\u001b[1;38;5;129mK\u001b[0m\u001b[1;31mI\u001b[0m\u001b[1;38;5;129mK\u001b[0m\u001b[1;38;5;129mK\u001b[0m\u001b[1;31mF\u001b[0m\u001b[1;38;5;129mK\u001b[0m\u001b[1;34mE\u001b[0m\u001b[1;32mT\u001b[0m\u001b[1;32mY\u001b[0m\u001b[1;31mL\u001b[0m\u001b[1;31mL\u001b[0m\u001b[1;31mI\u001b[0m\u001b[1;31mL\u001b[0m\u001b[1;38;5;129mK\u001b[0m\u001b[1;31mA\u001b[0m\u001b[1;32mC\u001b[0m\u001b[1;31mV\u001b[0m\u001b[1;31mV\u001b[0m\u001b[1;32mC\u001b[0m\u001b[1;32mH\u001b[0m\u001b[1;31mP\u001b[0m\u001b[1;32mS\u001b[0m\u001b[1;34mD\u001b[0m\u001b[1;32mS\u001b[0m\u001b[1;31mL\u001b[0m\u001b[1;34mD\u001b[0m\u001b[1;32mT\u001b[0m\u001b[1;32mS\u001b[0m\u001b[1;31mI\u001b[0m\u001b[1;34mE\u001b[0m\u001b[1;38;5;129mK\u001b[0m\u001b[1;32mN\u001b[0m\u001b[1;32mS\u001b[0m\u001b[1;34mE\u001b[0m\u001b[1;38;5;239m-\u001b[0m\u001b[1;38;5;239m-\u001b[0m\u001b[1;38;5;239m-\u001b[0m\u001b[1;38;5;239m-\u001b[0m\u001b[1;38;5;239m-\u001b[0m\u001b[1;38;5;239m-\u001b[0m\u001b[1;38;5;239m-\u001b[0m\u001b[1;38;5;239m-\u001b[0m\u001b[1;38;5;239m-\u001b[0m\u001b[1;38;5;239m-\u001b[0m\u001b[1;38;5;239m-\u001b[0m\u001b[1;38;5;239m-\u001b[0m\u001b[1;38;5;239m-\u001b[0m\u001b[1;38;5;239m-\u001b[0m\u001b[1;38;5;239m-\u001b[0m\u001b[1;38;5;239m-\u001b[0m\u001b[1;38;5;239m-\u001b[0m\u001b[1;38;5;239m-\u001b[0m\u001b[1;38;5;239m-\u001b[0m\u001b[1;38;5;239m-\u001b[0m\u001b[1;38;5;239m-\u001b[0m\u001b[1;38;5;239m-\u001b[0m\u001b[1;38;5;239m-\u001b[0m\u001b[1;38;5;239m-\u001b[0m\u001b[1;38;5;239m-\u001b[0m\u001b[1;38;5;239m-\u001b[0m\u001b[1;38;5;239m-\u001b[0m\u001b[1;38;5;239m-\u001b[0m\u001b[1;38;5;239m-\u001b[0m\u001b[1;38;5;239m-\u001b[0m  │\n",
       "│                                                                                                                 │\n",
       "│ 0 AA1R_HU…   \u001b[1;36m323\u001b[0m  \u001b[1;38;5;239m-\u001b[0m\u001b[1;38;5;239m-\u001b[0m\u001b[1;38;5;129mR\u001b[0m\u001b[1;31mP\u001b[0m\u001b[1;34mD\u001b[0m\u001b[1;34mD\u001b[0m\u001b[1;38;5;239m-\u001b[0m\u001b[1;38;5;239m-\u001b[0m\u001b[1;38;5;239m-\u001b[0m\u001b[1;38;5;239m-\u001b[0m\u001b[1;38;5;239m-\u001b[0m\u001b[1;38;5;239m-\u001b[0m\u001b[1;38;5;239m-\u001b[0m\u001b[1;38;5;239m-\u001b[0m\u001b[1;38;5;239m-\u001b[0m\u001b[1;38;5;239m-\u001b[0m\u001b[1;38;5;239m-\u001b[0m\u001b[1;38;5;239m-\u001b[0m\u001b[1;38;5;239m-\u001b[0m\u001b[1;38;5;239m-\u001b[0m\u001b[1;38;5;239m-\u001b[0m\u001b[1;38;5;239m-\u001b[0m\u001b[1;38;5;239m-\u001b[0m\u001b[1;38;5;239m-\u001b[0m\u001b[1;38;5;239m-\u001b[0m\u001b[1;38;5;239m-\u001b[0m\u001b[1;38;5;239m-\u001b[0m\u001b[1;38;5;239m-\u001b[0m\u001b[1;38;5;239m-\u001b[0m\u001b[1;38;5;239m-\u001b[0m\u001b[1;38;5;239m-\u001b[0m\u001b[1;38;5;239m-\u001b[0m\u001b[1;38;5;239m-\u001b[0m\u001b[1;38;5;239m-\u001b[0m\u001b[1;38;5;239m-\u001b[0m\u001b[1;38;5;239m-\u001b[0m\u001b[1;38;5;239m-\u001b[0m\u001b[1;38;5;239m-\u001b[0m\u001b[1;38;5;239m-\u001b[0m\u001b[1;38;5;239m-\u001b[0m\u001b[1;38;5;239m-\u001b[0m\u001b[1;38;5;239m-\u001b[0m\u001b[1;38;5;239m-\u001b[0m\u001b[1;38;5;239m-\u001b[0m\u001b[1;38;5;239m-\u001b[0m\u001b[1;38;5;239m-\u001b[0m\u001b[1;38;5;239m-\u001b[0m\u001b[1;38;5;239m-\u001b[0m\u001b[1;38;5;239m-\u001b[0m\u001b[1;38;5;239m-\u001b[0m\u001b[1;38;5;239m-\u001b[0m\u001b[1;38;5;239m-\u001b[0m\u001b[1;38;5;239m-\u001b[0m\u001b[1;38;5;239m-\u001b[0m\u001b[1;38;5;239m-\u001b[0m\u001b[1;38;5;239m-\u001b[0m\u001b[1;38;5;239m-\u001b[0m\u001b[1;38;5;239m-\u001b[0m                                    │\n",
       "│ 1 AA2AR_H…   \u001b[1;36m355\u001b[0m  \u001b[1;34mE\u001b[0m\u001b[1;38;5;129mR\u001b[0m\u001b[1;38;5;129mR\u001b[0m\u001b[1;31mP\u001b[0m\u001b[1;32mN\u001b[0m\u001b[1;32mG\u001b[0m\u001b[1;32mY\u001b[0m\u001b[1;31mA\u001b[0m\u001b[1;31mL\u001b[0m\u001b[1;32mG\u001b[0m\u001b[1;31mL\u001b[0m\u001b[1;31mV\u001b[0m\u001b[1;32mS\u001b[0m\u001b[1;32mG\u001b[0m\u001b[1;32mG\u001b[0m\u001b[1;32mS\u001b[0m\u001b[1;31mA\u001b[0m\u001b[1;32mQ\u001b[0m\u001b[1;34mE\u001b[0m\u001b[1;32mS\u001b[0m\u001b[1;32mQ\u001b[0m\u001b[1;32mG\u001b[0m\u001b[1;32mN\u001b[0m\u001b[1;32mT\u001b[0m\u001b[1;32mG\u001b[0m\u001b[1;31mL\u001b[0m\u001b[1;31mP\u001b[0m\u001b[1;34mD\u001b[0m\u001b[1;31mV\u001b[0m\u001b[1;34mE\u001b[0m\u001b[1;31mL\u001b[0m\u001b[1;31mL\u001b[0m\u001b[1;32mS\u001b[0m\u001b[1;32mH\u001b[0m\u001b[1;34mE\u001b[0m\u001b[1;31mL\u001b[0m\u001b[1;38;5;129mK\u001b[0m\u001b[1;32mG\u001b[0m\u001b[1;31mV\u001b[0m\u001b[1;32mC\u001b[0m\u001b[1;31mP\u001b[0m\u001b[1;34mE\u001b[0m\u001b[1;31mP\u001b[0m\u001b[1;31mP\u001b[0m\u001b[1;32mG\u001b[0m\u001b[1;31mL\u001b[0m\u001b[1;34mD\u001b[0m\u001b[1;34mD\u001b[0m\u001b[1;31mP\u001b[0m\u001b[1;31mL\u001b[0m\u001b[1;31mA\u001b[0m\u001b[1;32mQ\u001b[0m\u001b[1;34mD\u001b[0m\u001b[1;32mG\u001b[0m\u001b[1;31mA\u001b[0m\u001b[1;32mG\u001b[0m\u001b[1;31mV\u001b[0m\u001b[1;32mS\u001b[0m                                    │\n",
       "│ 2 AA2BR_H…   \u001b[1;36m333\u001b[0m  \u001b[1;38;5;239m-\u001b[0m\u001b[1;38;5;239m-\u001b[0m\u001b[1;38;5;239m-\u001b[0m\u001b[1;38;5;239m-\u001b[0m\u001b[1;38;5;239m-\u001b[0m\u001b[1;38;5;239m-\u001b[0m\u001b[1;38;5;239m-\u001b[0m\u001b[1;38;5;239m-\u001b[0m\u001b[1;38;5;239m-\u001b[0m\u001b[1;38;5;239m-\u001b[0m\u001b[1;38;5;239m-\u001b[0m\u001b[1;38;5;239m-\u001b[0m\u001b[1;38;5;239m-\u001b[0m\u001b[1;38;5;239m-\u001b[0m\u001b[1;38;5;239m-\u001b[0m\u001b[1;38;5;239m-\u001b[0m\u001b[1;38;5;239m-\u001b[0m\u001b[1;38;5;239m-\u001b[0m\u001b[1;38;5;239m-\u001b[0m\u001b[1;38;5;239m-\u001b[0m\u001b[1;38;5;239m-\u001b[0m\u001b[1;38;5;239m-\u001b[0m\u001b[1;38;5;239m-\u001b[0m\u001b[1;38;5;239m-\u001b[0m\u001b[1;38;5;239m-\u001b[0m\u001b[1;38;5;239m-\u001b[0m\u001b[1;38;5;239m-\u001b[0m\u001b[1;38;5;239m-\u001b[0m\u001b[1;38;5;239m-\u001b[0m\u001b[1;38;5;239m-\u001b[0m\u001b[1;38;5;239m-\u001b[0m\u001b[1;38;5;239m-\u001b[0m\u001b[1;38;5;239m-\u001b[0m\u001b[1;38;5;239m-\u001b[0m\u001b[1;38;5;239m-\u001b[0m\u001b[1;38;5;239m-\u001b[0m\u001b[1;38;5;239m-\u001b[0m\u001b[1;38;5;239m-\u001b[0m\u001b[1;38;5;239m-\u001b[0m\u001b[1;38;5;239m-\u001b[0m\u001b[1;38;5;239m-\u001b[0m\u001b[1;38;5;239m-\u001b[0m\u001b[1;38;5;239m-\u001b[0m\u001b[1;38;5;239m-\u001b[0m\u001b[1;38;5;239m-\u001b[0m\u001b[1;38;5;239m-\u001b[0m\u001b[1;38;5;239m-\u001b[0m\u001b[1;38;5;239m-\u001b[0m\u001b[1;38;5;239m-\u001b[0m\u001b[1;38;5;239m-\u001b[0m\u001b[1;38;5;239m-\u001b[0m\u001b[1;38;5;239m-\u001b[0m\u001b[1;38;5;239m-\u001b[0m\u001b[1;38;5;239m-\u001b[0m\u001b[1;38;5;239m-\u001b[0m\u001b[1;38;5;239m-\u001b[0m\u001b[1;38;5;239m-\u001b[0m\u001b[1;38;5;239m-\u001b[0m                                    │\n",
       "│ 3 AA3R_HU…   \u001b[1;36m319\u001b[0m  \u001b[1;38;5;239m-\u001b[0m\u001b[1;38;5;239m-\u001b[0m\u001b[1;38;5;239m-\u001b[0m\u001b[1;38;5;239m-\u001b[0m\u001b[1;38;5;239m-\u001b[0m\u001b[1;38;5;239m-\u001b[0m\u001b[1;38;5;239m-\u001b[0m\u001b[1;38;5;239m-\u001b[0m\u001b[1;38;5;239m-\u001b[0m\u001b[1;38;5;239m-\u001b[0m\u001b[1;38;5;239m-\u001b[0m\u001b[1;38;5;239m-\u001b[0m\u001b[1;38;5;239m-\u001b[0m\u001b[1;38;5;239m-\u001b[0m\u001b[1;38;5;239m-\u001b[0m\u001b[1;38;5;239m-\u001b[0m\u001b[1;38;5;239m-\u001b[0m\u001b[1;38;5;239m-\u001b[0m\u001b[1;38;5;239m-\u001b[0m\u001b[1;38;5;239m-\u001b[0m\u001b[1;38;5;239m-\u001b[0m\u001b[1;38;5;239m-\u001b[0m\u001b[1;38;5;239m-\u001b[0m\u001b[1;38;5;239m-\u001b[0m\u001b[1;38;5;239m-\u001b[0m\u001b[1;38;5;239m-\u001b[0m\u001b[1;38;5;239m-\u001b[0m\u001b[1;38;5;239m-\u001b[0m\u001b[1;38;5;239m-\u001b[0m\u001b[1;38;5;239m-\u001b[0m\u001b[1;38;5;239m-\u001b[0m\u001b[1;38;5;239m-\u001b[0m\u001b[1;38;5;239m-\u001b[0m\u001b[1;38;5;239m-\u001b[0m\u001b[1;38;5;239m-\u001b[0m\u001b[1;38;5;239m-\u001b[0m\u001b[1;38;5;239m-\u001b[0m\u001b[1;38;5;239m-\u001b[0m\u001b[1;38;5;239m-\u001b[0m\u001b[1;38;5;239m-\u001b[0m\u001b[1;38;5;239m-\u001b[0m\u001b[1;38;5;239m-\u001b[0m\u001b[1;38;5;239m-\u001b[0m\u001b[1;38;5;239m-\u001b[0m\u001b[1;38;5;239m-\u001b[0m\u001b[1;38;5;239m-\u001b[0m\u001b[1;38;5;239m-\u001b[0m\u001b[1;38;5;239m-\u001b[0m\u001b[1;38;5;239m-\u001b[0m\u001b[1;38;5;239m-\u001b[0m\u001b[1;38;5;239m-\u001b[0m\u001b[1;38;5;239m-\u001b[0m\u001b[1;38;5;239m-\u001b[0m\u001b[1;38;5;239m-\u001b[0m\u001b[1;38;5;239m-\u001b[0m\u001b[1;38;5;239m-\u001b[0m\u001b[1;38;5;239m-\u001b[0m\u001b[1;38;5;239m-\u001b[0m                                    │\n",
       "╰─────────────────────────────────────────────────────────────────────────────────────────────────────────────────╯\n"
      ]
     },
     "metadata": {},
     "output_type": "display_data"
    }
   ],
   "source": [
    "# Read MSA\n",
    "msa = Bio.AlignIO.read(alignment_file, \"fasta\")\n",
    "viewer = RichAlignment(\n",
    "    names=[record.description for record in msa],\n",
    "    sequences=[str(record.seq) for record in msa],\n",
    ")\n",
    "# Visualize MSA\n",
    "panel = rich.panel.Panel(viewer, title=\"Multiple sequence alignment\")\n",
    "rich.print(panel)"
   ]
  },
  {
   "cell_type": "markdown",
   "metadata": {
    "pycharm": {
     "name": "#%% md\n"
    }
   },
   "source": [
    "In the MSA we can observe that the adenosine A2A receptor has a longer C terminus than the rest of the adenosine receptors. Moreover, there are clear parts of the proteins that are very similar in all the receptors (i.e. transmembrane domains), and parts that vary in amino acid composition and length between receptors (i.e. mostly loops)."
   ]
  },
  {
   "cell_type": "markdown",
   "metadata": {},
   "source": [
    "####  Calculate protein descriptors"
   ]
  },
  {
   "cell_type": "markdown",
   "metadata": {
    "pycharm": {
     "name": "#%% md\n"
    }
   },
   "source": [
    "Now that our protein sequences are aligned, we can calculate protein descriptors using ProDEC. For that, let's parse all default descriptors available. Since we are focusing on Z-scale descriptors in this talktorial, we can explore the details about this descriptor, and in case we want some extra information we can look at the article where it is first described."
   ]
  },
  {
   "cell_type": "code",
   "execution_count": 18,
   "metadata": {
    "pycharm": {
     "name": "#%%\n"
    }
   },
   "outputs": [
    {
     "name": "stdout",
     "output_type": "stream",
     "text": [
      "Available ProDEC descriptors:  ['ADFQ', 'BLOSUM', 'c-scales', 'CBFQ', 'CDFQ', 'Combined descriptors', 'Contact energies', 'CUFQ', 'DPPS', 'E-scale', 'FASGAI', 'G-scales', 'GH-scale', 'GRID tscore', 'HESH', 'HPI', 'HSEHPCSV', 'Independent descriptors', 'ISA-ECI', 'Kidera', 'MS-WHIM', 'P-scale', 'PhysChem', 'ProtFP hash', 'ProtFP PCA', 'PSM', 'QCP', 'Raychaudhury', 'Sneath', 'SSIA AM1', 'SSIA DFT', 'SSIA HF', 'SSIA PM3', 'STscale', 'SVEEVA', 'SVGER', 'SVHEHS', 'SVMW', 'SVRDF', 'SVRG', 'SVWG', 'SZOTT', 'Tscale', 'V-scale', 'VARIMAX', 'VHSE', 'VHSEH', 'VSGETAWAY', 'VSTPV', 'VSTV', 'VSW', 'VTSA', 'Zscale binary', 'Zscale Hellberg', 'Zscale Jonsson', 'Zscale Sandberg', 'Zscale Sjöström', 'Zscale van Westen']\n"
     ]
    }
   ],
   "source": [
    "# Parse ProDEC descriptors\n",
    "desc_factory = ProteinDescriptors()\n",
    "# Print available descriptors\n",
    "print('Available ProDEC descriptors: ', desc_factory.available_descriptors)"
   ]
  },
  {
   "cell_type": "code",
   "execution_count": 19,
   "metadata": {
    "pycharm": {
     "name": "#%%\n"
    }
   },
   "outputs": [
    {
     "name": "stdout",
     "output_type": "stream",
     "text": [
      "More about Z-Scales:\n"
     ]
    },
    {
     "data": {
      "text/plain": [
       "{'Authors': 'Hellberg, Sjöström, Skagerberg, Wold',\n",
       " 'Year': 1987,\n",
       " 'Journal': 'Journal of Medicinal Chemistry',\n",
       " 'DOI': '10.1021/jm00390a003',\n",
       " 'PMID': None,\n",
       " 'Patent': None}"
      ]
     },
     "execution_count": 19,
     "metadata": {},
     "output_type": "execute_result"
    }
   ],
   "source": [
    "# Print information about Z-scales\n",
    "print('More about Z-Scales:')\n",
    "desc_factory.get_descriptor('Zscale Hellberg').Info"
   ]
  },
  {
   "cell_type": "code",
   "execution_count": 20,
   "metadata": {
    "pycharm": {
     "name": "#%%\n"
    }
   },
   "outputs": [],
   "source": [
    "def calculate_protein_descriptor(targets, aligned_sequences, protein_descriptor):\n",
    "    \"\"\"\n",
    "    Calculate protein descriptor of choice for aligned proteins of interest\n",
    "\n",
    "    Parameters\n",
    "    ----------\n",
    "    targets : pandas.Dataframe\n",
    "        Pandas dataframe with information about targets of interest\n",
    "    aligned_sequences : list\n",
    "        List of aligned sequences read from fasta file produced with Clustal Omega\n",
    "    protein_descriptor : str\n",
    "        Protein descriptor label as described in ProDEC\n",
    "\n",
    "    Returns\n",
    "    -------\n",
    "    pandas.DataFrame\n",
    "        Dataset with accession and features for the protein descriptor of interest for the targets in the input\n",
    "    \"\"\"\n",
    "    # Get protein descriptor from ProDEC\n",
    "    prodec_descriptor = desc_factory.get_descriptor(protein_descriptor)\n",
    "\n",
    "    # Calculate descriptor features for aligned sequences of interest\n",
    "    protein_features = prodec_descriptor.pandas_get(aligned_sequences)\n",
    "\n",
    "    # Insert protein labels in the obtained features\n",
    "    protein_features.insert(0, 'accession', targets.accession.reset_index(drop=True))\n",
    "\n",
    "    return protein_features"
   ]
  },
  {
   "cell_type": "code",
   "execution_count": 21,
   "metadata": {
    "pycharm": {
     "name": "#%%\n"
    }
   },
   "outputs": [
    {
     "data": {
      "application/vnd.jupyter.widget-view+json": {
       "model_id": "1289f600edfe44a7bbdcadbdaf3f9894",
       "version_major": 2,
       "version_minor": 0
      },
      "text/plain": [
       "  0%|          | 0/4 [00:00<?, ?it/s]"
      ]
     },
     "metadata": {},
     "output_type": "display_data"
    },
    {
     "data": {
      "text/html": [
       "<div>\n",
       "<style scoped>\n",
       "    .dataframe tbody tr th:only-of-type {\n",
       "        vertical-align: middle;\n",
       "    }\n",
       "\n",
       "    .dataframe tbody tr th {\n",
       "        vertical-align: top;\n",
       "    }\n",
       "\n",
       "    .dataframe thead th {\n",
       "        text-align: right;\n",
       "    }\n",
       "</style>\n",
       "<table border=\"1\" class=\"dataframe\">\n",
       "  <thead>\n",
       "    <tr style=\"text-align: right;\">\n",
       "      <th></th>\n",
       "      <th>accession</th>\n",
       "      <th>Zscale_1</th>\n",
       "      <th>Zscale_2</th>\n",
       "      <th>Zscale_3</th>\n",
       "      <th>Zscale_4</th>\n",
       "      <th>Zscale_5</th>\n",
       "      <th>Zscale_6</th>\n",
       "      <th>Zscale_7</th>\n",
       "      <th>Zscale_8</th>\n",
       "      <th>Zscale_9</th>\n",
       "      <th>...</th>\n",
       "      <th>Zscale_1269</th>\n",
       "      <th>Zscale_1270</th>\n",
       "      <th>Zscale_1271</th>\n",
       "      <th>Zscale_1272</th>\n",
       "      <th>Zscale_1273</th>\n",
       "      <th>Zscale_1274</th>\n",
       "      <th>Zscale_1275</th>\n",
       "      <th>Zscale_1276</th>\n",
       "      <th>Zscale_1277</th>\n",
       "      <th>Zscale_1278</th>\n",
       "    </tr>\n",
       "  </thead>\n",
       "  <tbody>\n",
       "    <tr>\n",
       "      <th>0</th>\n",
       "      <td>P30542</td>\n",
       "      <td>0.00</td>\n",
       "      <td>0.00</td>\n",
       "      <td>0.00</td>\n",
       "      <td>0.00</td>\n",
       "      <td>0.00</td>\n",
       "      <td>0.00</td>\n",
       "      <td>0.00</td>\n",
       "      <td>0.00</td>\n",
       "      <td>0.00</td>\n",
       "      <td>...</td>\n",
       "      <td>0.00</td>\n",
       "      <td>0.00</td>\n",
       "      <td>0.00</td>\n",
       "      <td>0.0</td>\n",
       "      <td>0.00</td>\n",
       "      <td>0.00</td>\n",
       "      <td>0.00</td>\n",
       "      <td>0.00</td>\n",
       "      <td>0.00</td>\n",
       "      <td>0.00</td>\n",
       "    </tr>\n",
       "    <tr>\n",
       "      <th>1</th>\n",
       "      <td>P29274</td>\n",
       "      <td>0.00</td>\n",
       "      <td>0.00</td>\n",
       "      <td>0.00</td>\n",
       "      <td>0.00</td>\n",
       "      <td>0.00</td>\n",
       "      <td>0.00</td>\n",
       "      <td>0.00</td>\n",
       "      <td>0.00</td>\n",
       "      <td>0.00</td>\n",
       "      <td>...</td>\n",
       "      <td>0.09</td>\n",
       "      <td>2.23</td>\n",
       "      <td>-5.36</td>\n",
       "      <td>0.3</td>\n",
       "      <td>-2.69</td>\n",
       "      <td>-2.53</td>\n",
       "      <td>-1.29</td>\n",
       "      <td>1.96</td>\n",
       "      <td>-1.63</td>\n",
       "      <td>0.57</td>\n",
       "    </tr>\n",
       "    <tr>\n",
       "      <th>2</th>\n",
       "      <td>P29275</td>\n",
       "      <td>0.00</td>\n",
       "      <td>0.00</td>\n",
       "      <td>0.00</td>\n",
       "      <td>0.00</td>\n",
       "      <td>0.00</td>\n",
       "      <td>0.00</td>\n",
       "      <td>0.00</td>\n",
       "      <td>0.00</td>\n",
       "      <td>0.00</td>\n",
       "      <td>...</td>\n",
       "      <td>0.00</td>\n",
       "      <td>0.00</td>\n",
       "      <td>0.00</td>\n",
       "      <td>0.0</td>\n",
       "      <td>0.00</td>\n",
       "      <td>0.00</td>\n",
       "      <td>0.00</td>\n",
       "      <td>0.00</td>\n",
       "      <td>0.00</td>\n",
       "      <td>0.00</td>\n",
       "    </tr>\n",
       "    <tr>\n",
       "      <th>3</th>\n",
       "      <td>P0DMS8</td>\n",
       "      <td>-2.49</td>\n",
       "      <td>-0.27</td>\n",
       "      <td>-0.41</td>\n",
       "      <td>-1.22</td>\n",
       "      <td>0.88</td>\n",
       "      <td>2.23</td>\n",
       "      <td>3.22</td>\n",
       "      <td>1.45</td>\n",
       "      <td>0.84</td>\n",
       "      <td>...</td>\n",
       "      <td>0.00</td>\n",
       "      <td>0.00</td>\n",
       "      <td>0.00</td>\n",
       "      <td>0.0</td>\n",
       "      <td>0.00</td>\n",
       "      <td>0.00</td>\n",
       "      <td>0.00</td>\n",
       "      <td>0.00</td>\n",
       "      <td>0.00</td>\n",
       "      <td>0.00</td>\n",
       "    </tr>\n",
       "  </tbody>\n",
       "</table>\n",
       "<p>4 rows × 1279 columns</p>\n",
       "</div>"
      ],
      "text/plain": [
       "  accession  Zscale_1  Zscale_2  Zscale_3  Zscale_4  Zscale_5  Zscale_6  \\\n",
       "0    P30542      0.00      0.00      0.00      0.00      0.00      0.00   \n",
       "1    P29274      0.00      0.00      0.00      0.00      0.00      0.00   \n",
       "2    P29275      0.00      0.00      0.00      0.00      0.00      0.00   \n",
       "3    P0DMS8     -2.49     -0.27     -0.41     -1.22      0.88      2.23   \n",
       "\n",
       "   Zscale_7  Zscale_8  Zscale_9  ...  Zscale_1269  Zscale_1270  Zscale_1271  \\\n",
       "0      0.00      0.00      0.00  ...         0.00         0.00         0.00   \n",
       "1      0.00      0.00      0.00  ...         0.09         2.23        -5.36   \n",
       "2      0.00      0.00      0.00  ...         0.00         0.00         0.00   \n",
       "3      3.22      1.45      0.84  ...         0.00         0.00         0.00   \n",
       "\n",
       "   Zscale_1272  Zscale_1273  Zscale_1274  Zscale_1275  Zscale_1276  \\\n",
       "0          0.0         0.00         0.00         0.00         0.00   \n",
       "1          0.3        -2.69        -2.53        -1.29         1.96   \n",
       "2          0.0         0.00         0.00         0.00         0.00   \n",
       "3          0.0         0.00         0.00         0.00         0.00   \n",
       "\n",
       "   Zscale_1277  Zscale_1278  \n",
       "0         0.00         0.00  \n",
       "1        -1.63         0.57  \n",
       "2         0.00         0.00  \n",
       "3         0.00         0.00  \n",
       "\n",
       "[4 rows x 1279 columns]"
      ]
     },
     "execution_count": 21,
     "metadata": {},
     "output_type": "execute_result"
    }
   ],
   "source": [
    "protein_features = calculate_protein_descriptor(targets, aligned_sequences, 'Zscale Hellberg')\n",
    "protein_features"
   ]
  },
  {
   "cell_type": "markdown",
   "metadata": {
    "pycharm": {
     "name": "#%% md\n"
    }
   },
   "source": [
    "#### Calculate compound descriptors"
   ]
  },
  {
   "cell_type": "markdown",
   "metadata": {
    "pycharm": {
     "name": "#%% md\n"
    }
   },
   "source": [
    "The final step to prepare our dataset for PCM is to calculate compound descriptors. For this, we first have to convert the molecules in our dataset to chemical entities from their text representation (SMILES). Afterwards, we use Mordred to calculate 2D molecular descriptors."
   ]
  },
  {
   "cell_type": "code",
   "execution_count": 22,
   "metadata": {
    "pycharm": {
     "name": "#%%\n"
    }
   },
   "outputs": [],
   "source": [
    "def calculate_molecular_descriptors(bioactivity_dataset, moldred_descriptors):\n",
    "    \"\"\"\n",
    "    Calculate compound molecular descriptors of choice for unique molecules in the bioactivity dataset\n",
    "\n",
    "    Parameters\n",
    "    ----------\n",
    "    bioactivity_dataset : pandas.Dataframe\n",
    "        Pandas dataframe with bioactivity dataset for PCM\n",
    "    moldred_descriptors : list\n",
    "        List of descriptors from Moldred to calculate\n",
    "        Use ['all'] for calculate all possible descriptors\n",
    "\n",
    "    Returns\n",
    "    -------\n",
    "    pandas.DataFrame\n",
    "        Dataset with SMILES and features for the compound descriptors of interest for molecules in the bioactivity dataset\n",
    "    \"\"\"\n",
    "    # Extract unique molecules from the bioactivity dataset\n",
    "    molecules = [Chem.MolFromSmiles(x) for x in bioactivity_dataset.SMILES.unique()]\n",
    "\n",
    "    # Use Moldred to calculate molecular descriptors of interest\n",
    "    if moldred_descriptors == ['all']:\n",
    "        molecular_descriptor = Calculator(descriptors, ignore_3D=True).pandas(molecules, pynb=False)\n",
    "    else:\n",
    "        moldred_list = [descriptors.__dict__[descriptor] for descriptor in moldred_descriptors]\n",
    "        molecular_descriptor = Calculator(moldred_list, ignore_3D=True).pandas(molecules,ipynb=False)\n",
    "\n",
    "    # Clean descriptors by: renaming duplicated columns; replacing values bigger than 2,147,483,647 by 0;\n",
    "    # rounding values to 3 decimals; converting to minimal memory footprint; inserting SMILES in first column\n",
    "    mordred_descs_names = {\n",
    "        str(x): re.sub(r'(.*F?)A(H?Ring)$', r'\\1aliph\\2', re.sub(r'(.*F?)a(H?Ring)$', r'\\1arom\\2', str(x))) for x in\n",
    "        Calculator(descriptors, ignore_3D=True).descriptors}\n",
    "\n",
    "    molecular_descriptor = pd.DataFrame(molecular_descriptor.fill_missing(np.NAN).rename(mordred_descs_names)).\\\n",
    "        astype(np.float32).replace([np.inf, -np.inf], np.NAN).round(3)\n",
    "    molecular_descriptor.fillna(value=0, inplace=True)\n",
    "    molecular_descriptor = molecular_descriptor.convert_dtypes()\n",
    "    molecular_descriptor.insert(0, 'SMILES', bioactivity_dataset.SMILES.unique())\n",
    "\n",
    "    return molecular_descriptor"
   ]
  },
  {
   "cell_type": "code",
   "execution_count": 23,
   "metadata": {
    "pycharm": {
     "name": "#%%\n"
    }
   },
   "outputs": [
    {
     "name": "stderr",
     "output_type": "stream",
     "text": [
      "100%|██████████| 7089/7089 [00:41<00:00, 170.14it/s]\n"
     ]
    },
    {
     "data": {
      "text/html": [
       "<div>\n",
       "<style scoped>\n",
       "    .dataframe tbody tr th:only-of-type {\n",
       "        vertical-align: middle;\n",
       "    }\n",
       "\n",
       "    .dataframe tbody tr th {\n",
       "        vertical-align: top;\n",
       "    }\n",
       "\n",
       "    .dataframe thead th {\n",
       "        text-align: right;\n",
       "    }\n",
       "</style>\n",
       "<table border=\"1\" class=\"dataframe\">\n",
       "  <thead>\n",
       "    <tr style=\"text-align: right;\">\n",
       "      <th></th>\n",
       "      <th>SMILES</th>\n",
       "      <th>ABC</th>\n",
       "      <th>ABCGG</th>\n",
       "      <th>nAcid</th>\n",
       "      <th>nBase</th>\n",
       "      <th>nAtom</th>\n",
       "      <th>nHeavyAtom</th>\n",
       "      <th>nSpiro</th>\n",
       "      <th>nBridgehead</th>\n",
       "      <th>nHetero</th>\n",
       "      <th>...</th>\n",
       "      <th>nN</th>\n",
       "      <th>nO</th>\n",
       "      <th>nS</th>\n",
       "      <th>nP</th>\n",
       "      <th>nF</th>\n",
       "      <th>nCl</th>\n",
       "      <th>nBr</th>\n",
       "      <th>nI</th>\n",
       "      <th>nX</th>\n",
       "      <th>BalabanJ</th>\n",
       "    </tr>\n",
       "  </thead>\n",
       "  <tbody>\n",
       "    <tr>\n",
       "      <th>0</th>\n",
       "      <td>Cc1cc(C)n(-c2cc(NC(=O)CCN(C)C)nc(-c3ccc(C)o3)n...</td>\n",
       "      <td>0</td>\n",
       "      <td>0</td>\n",
       "      <td>0</td>\n",
       "      <td>1</td>\n",
       "      <td>51</td>\n",
       "      <td>27</td>\n",
       "      <td>0</td>\n",
       "      <td>0</td>\n",
       "      <td>8</td>\n",
       "      <td>...</td>\n",
       "      <td>6</td>\n",
       "      <td>2</td>\n",
       "      <td>0</td>\n",
       "      <td>0</td>\n",
       "      <td>0</td>\n",
       "      <td>0</td>\n",
       "      <td>0</td>\n",
       "      <td>0</td>\n",
       "      <td>0</td>\n",
       "      <td>1.631</td>\n",
       "    </tr>\n",
       "    <tr>\n",
       "      <th>1</th>\n",
       "      <td>Nc1c(C(=O)Nc2ccc([N+](=O)[O-])cc2)sc2nc3c(cc12...</td>\n",
       "      <td>0</td>\n",
       "      <td>0</td>\n",
       "      <td>0</td>\n",
       "      <td>0</td>\n",
       "      <td>42</td>\n",
       "      <td>26</td>\n",
       "      <td>0</td>\n",
       "      <td>0</td>\n",
       "      <td>8</td>\n",
       "      <td>...</td>\n",
       "      <td>4</td>\n",
       "      <td>3</td>\n",
       "      <td>1</td>\n",
       "      <td>0</td>\n",
       "      <td>0</td>\n",
       "      <td>0</td>\n",
       "      <td>0</td>\n",
       "      <td>0</td>\n",
       "      <td>0</td>\n",
       "      <td>1.307</td>\n",
       "    </tr>\n",
       "    <tr>\n",
       "      <th>2</th>\n",
       "      <td>O=C(Nc1nc2ncccc2n2c(=O)n(-c3ccccc3)nc12)c1ccccc1</td>\n",
       "      <td>0</td>\n",
       "      <td>0</td>\n",
       "      <td>0</td>\n",
       "      <td>0</td>\n",
       "      <td>43</td>\n",
       "      <td>29</td>\n",
       "      <td>0</td>\n",
       "      <td>0</td>\n",
       "      <td>8</td>\n",
       "      <td>...</td>\n",
       "      <td>6</td>\n",
       "      <td>2</td>\n",
       "      <td>0</td>\n",
       "      <td>0</td>\n",
       "      <td>0</td>\n",
       "      <td>0</td>\n",
       "      <td>0</td>\n",
       "      <td>0</td>\n",
       "      <td>0</td>\n",
       "      <td>1.328</td>\n",
       "    </tr>\n",
       "    <tr>\n",
       "      <th>3</th>\n",
       "      <td>CCNC(=O)C1OC(n2cnc3c(Nc4ccc(OCC(=O)Nc5ccc(Cl)c...</td>\n",
       "      <td>0</td>\n",
       "      <td>0</td>\n",
       "      <td>0</td>\n",
       "      <td>0</td>\n",
       "      <td>66</td>\n",
       "      <td>40</td>\n",
       "      <td>0</td>\n",
       "      <td>0</td>\n",
       "      <td>14</td>\n",
       "      <td>...</td>\n",
       "      <td>7</td>\n",
       "      <td>6</td>\n",
       "      <td>0</td>\n",
       "      <td>0</td>\n",
       "      <td>0</td>\n",
       "      <td>1</td>\n",
       "      <td>0</td>\n",
       "      <td>0</td>\n",
       "      <td>1</td>\n",
       "      <td>1.043</td>\n",
       "    </tr>\n",
       "    <tr>\n",
       "      <th>4</th>\n",
       "      <td>N=C(N=c1[nH]c2ccccc2s1)NC(=O)Cn1c(O)c2c(c1O)CCCC2</td>\n",
       "      <td>0</td>\n",
       "      <td>0</td>\n",
       "      <td>0</td>\n",
       "      <td>3</td>\n",
       "      <td>46</td>\n",
       "      <td>27</td>\n",
       "      <td>0</td>\n",
       "      <td>0</td>\n",
       "      <td>9</td>\n",
       "      <td>...</td>\n",
       "      <td>5</td>\n",
       "      <td>3</td>\n",
       "      <td>1</td>\n",
       "      <td>0</td>\n",
       "      <td>0</td>\n",
       "      <td>0</td>\n",
       "      <td>0</td>\n",
       "      <td>0</td>\n",
       "      <td>0</td>\n",
       "      <td>1.234</td>\n",
       "    </tr>\n",
       "    <tr>\n",
       "      <th>...</th>\n",
       "      <td>...</td>\n",
       "      <td>...</td>\n",
       "      <td>...</td>\n",
       "      <td>...</td>\n",
       "      <td>...</td>\n",
       "      <td>...</td>\n",
       "      <td>...</td>\n",
       "      <td>...</td>\n",
       "      <td>...</td>\n",
       "      <td>...</td>\n",
       "      <td>...</td>\n",
       "      <td>...</td>\n",
       "      <td>...</td>\n",
       "      <td>...</td>\n",
       "      <td>...</td>\n",
       "      <td>...</td>\n",
       "      <td>...</td>\n",
       "      <td>...</td>\n",
       "      <td>...</td>\n",
       "      <td>...</td>\n",
       "      <td>...</td>\n",
       "    </tr>\n",
       "    <tr>\n",
       "      <th>7084</th>\n",
       "      <td>Nc1nc(CSc2nnc(N)s2)nc(Nc2ccc(F)cc2)n1</td>\n",
       "      <td>0</td>\n",
       "      <td>0</td>\n",
       "      <td>0</td>\n",
       "      <td>0</td>\n",
       "      <td>34</td>\n",
       "      <td>23</td>\n",
       "      <td>0</td>\n",
       "      <td>0</td>\n",
       "      <td>11</td>\n",
       "      <td>...</td>\n",
       "      <td>8</td>\n",
       "      <td>0</td>\n",
       "      <td>2</td>\n",
       "      <td>0</td>\n",
       "      <td>1</td>\n",
       "      <td>0</td>\n",
       "      <td>0</td>\n",
       "      <td>0</td>\n",
       "      <td>1</td>\n",
       "      <td>1.408</td>\n",
       "    </tr>\n",
       "    <tr>\n",
       "      <th>7085</th>\n",
       "      <td>CCCn1c(=O)c2[nH]c(-c3cc(OCC4CC(=O)N(c5ccc(F)cc...</td>\n",
       "      <td>0</td>\n",
       "      <td>0</td>\n",
       "      <td>0</td>\n",
       "      <td>0</td>\n",
       "      <td>64</td>\n",
       "      <td>37</td>\n",
       "      <td>0</td>\n",
       "      <td>0</td>\n",
       "      <td>12</td>\n",
       "      <td>...</td>\n",
       "      <td>6</td>\n",
       "      <td>5</td>\n",
       "      <td>0</td>\n",
       "      <td>0</td>\n",
       "      <td>1</td>\n",
       "      <td>0</td>\n",
       "      <td>0</td>\n",
       "      <td>0</td>\n",
       "      <td>1</td>\n",
       "      <td>1.103</td>\n",
       "    </tr>\n",
       "    <tr>\n",
       "      <th>7086</th>\n",
       "      <td>CNC(=O)C12CC1C(n1cnc3c(NC(C)C)nc(C#Cc4ccc(Cl)s...</td>\n",
       "      <td>0</td>\n",
       "      <td>0</td>\n",
       "      <td>0</td>\n",
       "      <td>0</td>\n",
       "      <td>56</td>\n",
       "      <td>33</td>\n",
       "      <td>0</td>\n",
       "      <td>0</td>\n",
       "      <td>11</td>\n",
       "      <td>...</td>\n",
       "      <td>6</td>\n",
       "      <td>3</td>\n",
       "      <td>1</td>\n",
       "      <td>0</td>\n",
       "      <td>0</td>\n",
       "      <td>1</td>\n",
       "      <td>0</td>\n",
       "      <td>0</td>\n",
       "      <td>1</td>\n",
       "      <td>1.303</td>\n",
       "    </tr>\n",
       "    <tr>\n",
       "      <th>7087</th>\n",
       "      <td>CCCOc1ccc(C=Cc2cc3c(c(=O)n(C)c(=O)n3C)n2C)cc1</td>\n",
       "      <td>0</td>\n",
       "      <td>0</td>\n",
       "      <td>0</td>\n",
       "      <td>0</td>\n",
       "      <td>49</td>\n",
       "      <td>26</td>\n",
       "      <td>0</td>\n",
       "      <td>0</td>\n",
       "      <td>6</td>\n",
       "      <td>...</td>\n",
       "      <td>3</td>\n",
       "      <td>3</td>\n",
       "      <td>0</td>\n",
       "      <td>0</td>\n",
       "      <td>0</td>\n",
       "      <td>0</td>\n",
       "      <td>0</td>\n",
       "      <td>0</td>\n",
       "      <td>0</td>\n",
       "      <td>1.479</td>\n",
       "    </tr>\n",
       "    <tr>\n",
       "      <th>7088</th>\n",
       "      <td>CCOC(=O)c1cnc(NCC(C)C)n2nc(-c3ccco3)nc12</td>\n",
       "      <td>0</td>\n",
       "      <td>0</td>\n",
       "      <td>0</td>\n",
       "      <td>0</td>\n",
       "      <td>43</td>\n",
       "      <td>24</td>\n",
       "      <td>0</td>\n",
       "      <td>0</td>\n",
       "      <td>8</td>\n",
       "      <td>...</td>\n",
       "      <td>5</td>\n",
       "      <td>3</td>\n",
       "      <td>0</td>\n",
       "      <td>0</td>\n",
       "      <td>0</td>\n",
       "      <td>0</td>\n",
       "      <td>0</td>\n",
       "      <td>0</td>\n",
       "      <td>0</td>\n",
       "      <td>1.68</td>\n",
       "    </tr>\n",
       "  </tbody>\n",
       "</table>\n",
       "<p>7089 rows × 23 columns</p>\n",
       "</div>"
      ],
      "text/plain": [
       "                                                 SMILES  ABC  ABCGG  nAcid  \\\n",
       "0     Cc1cc(C)n(-c2cc(NC(=O)CCN(C)C)nc(-c3ccc(C)o3)n...    0      0      0   \n",
       "1     Nc1c(C(=O)Nc2ccc([N+](=O)[O-])cc2)sc2nc3c(cc12...    0      0      0   \n",
       "2      O=C(Nc1nc2ncccc2n2c(=O)n(-c3ccccc3)nc12)c1ccccc1    0      0      0   \n",
       "3     CCNC(=O)C1OC(n2cnc3c(Nc4ccc(OCC(=O)Nc5ccc(Cl)c...    0      0      0   \n",
       "4     N=C(N=c1[nH]c2ccccc2s1)NC(=O)Cn1c(O)c2c(c1O)CCCC2    0      0      0   \n",
       "...                                                 ...  ...    ...    ...   \n",
       "7084              Nc1nc(CSc2nnc(N)s2)nc(Nc2ccc(F)cc2)n1    0      0      0   \n",
       "7085  CCCn1c(=O)c2[nH]c(-c3cc(OCC4CC(=O)N(c5ccc(F)cc...    0      0      0   \n",
       "7086  CNC(=O)C12CC1C(n1cnc3c(NC(C)C)nc(C#Cc4ccc(Cl)s...    0      0      0   \n",
       "7087      CCCOc1ccc(C=Cc2cc3c(c(=O)n(C)c(=O)n3C)n2C)cc1    0      0      0   \n",
       "7088           CCOC(=O)c1cnc(NCC(C)C)n2nc(-c3ccco3)nc12    0      0      0   \n",
       "\n",
       "      nBase  nAtom  nHeavyAtom  nSpiro  nBridgehead  nHetero  ...  nN  nO  nS  \\\n",
       "0         1     51          27       0            0        8  ...   6   2   0   \n",
       "1         0     42          26       0            0        8  ...   4   3   1   \n",
       "2         0     43          29       0            0        8  ...   6   2   0   \n",
       "3         0     66          40       0            0       14  ...   7   6   0   \n",
       "4         3     46          27       0            0        9  ...   5   3   1   \n",
       "...     ...    ...         ...     ...          ...      ...  ...  ..  ..  ..   \n",
       "7084      0     34          23       0            0       11  ...   8   0   2   \n",
       "7085      0     64          37       0            0       12  ...   6   5   0   \n",
       "7086      0     56          33       0            0       11  ...   6   3   1   \n",
       "7087      0     49          26       0            0        6  ...   3   3   0   \n",
       "7088      0     43          24       0            0        8  ...   5   3   0   \n",
       "\n",
       "      nP  nF  nCl  nBr  nI  nX  BalabanJ  \n",
       "0      0   0    0    0   0   0     1.631  \n",
       "1      0   0    0    0   0   0     1.307  \n",
       "2      0   0    0    0   0   0     1.328  \n",
       "3      0   0    1    0   0   1     1.043  \n",
       "4      0   0    0    0   0   0     1.234  \n",
       "...   ..  ..  ...  ...  ..  ..       ...  \n",
       "7084   0   1    0    0   0   1     1.408  \n",
       "7085   0   1    0    0   0   1     1.103  \n",
       "7086   0   0    1    0   0   1     1.303  \n",
       "7087   0   0    0    0   0   0     1.479  \n",
       "7088   0   0    0    0   0   0      1.68  \n",
       "\n",
       "[7089 rows x 23 columns]"
      ]
     },
     "execution_count": 23,
     "metadata": {},
     "output_type": "execute_result"
    }
   ],
   "source": [
    "molecular_features = calculate_molecular_descriptors(ar_dataset, ['ABCIndex', 'AcidBase', 'AtomCount', 'BalabanJ'])\n",
    "molecular_features"
   ]
  },
  {
   "cell_type": "markdown",
   "metadata": {
    "pycharm": {
     "name": "#%% md\n"
    }
   },
   "source": [
    "### Proteochemometrics modelling"
   ]
  },
  {
   "cell_type": "markdown",
   "metadata": {
    "pycharm": {
     "name": "#%% md\n"
    }
   },
   "source": [
    "When our dataset is complete with all the descriptors for proteins and compounds, we can start with the modelling part. Here, we will use a Random Forest (RF) ML regression model to predict the bioactivity of our compound-target pairs.\n",
    "\n",
    "We will try two methods to split our dataset between training and test set:\n",
    "* Random split\n",
    "* Leave one target out (LOTO) split\n",
    "\n",
    "Additionally, we will compare our PCM model to four independent models trained only on compound data (QSAR), and finally we will comment on the results.\n",
    "\n",
    "Ultimately, we want a model that can predict compound activity data towards a target of interest for compound-target pairs that it has never seen before. By combining several targets in one model, we expect the model to be able to learn the similarities and differences between targets and use the additional data to make better predictions.\n",
    "\n",
    "We start by defining a few functions that will help us split the data (<code>split_train_test</code>) and train and validate a PCM regression model (<code>train_validate_pcm_model</code>). The validation will be done on the test set and the performance will be assessed using regression metrics such as Person's $r$, $R^{2}$ and $MAE$. This function will also plot the correlation between true and predicted values, making a distinction between the different targets in the test set to assess whether the PCM model has a different performance per protein. Finally, we will define a function (<code>train_validate_qsar_model</code>) to train a QSAR model for a single target based on a random split. The output of this function will be comparable to that of the PCM model for comparison purposes."
   ]
  },
  {
   "cell_type": "markdown",
   "metadata": {
    "pycharm": {
     "name": "#%% md\n"
    }
   },
   "source": [
    "#### Helper functions"
   ]
  },
  {
   "cell_type": "markdown",
   "metadata": {
    "pycharm": {
     "name": "#%% md\n"
    }
   },
   "source": [
    "Function to split the data using one of these two methods described in theory: random split or leave one target out (LOTO) split."
   ]
  },
  {
   "cell_type": "code",
   "execution_count": 24,
   "metadata": {
    "pycharm": {
     "name": "#%%\n"
    }
   },
   "outputs": [],
   "source": [
    "def split_train_test(pcm_dataset, test_size, split_method, loto_target=None, loto_accession='None'):\n",
    "    \"\"\"\n",
    "    Split a dataset for PCM modelling in train and test set based on the split method of choice\n",
    "\n",
    "    Parameters\n",
    "    ----------\n",
    "    pcm_dataset : pandas.Dataframe\n",
    "        Pandas dataframe with bioactivity dataset for PCM including compound and protein descriptors\n",
    "    test_size : float\n",
    "        Ratio of the data to include in the test set\n",
    "    split_method : str\n",
    "        'random' for random split\n",
    "        'loto' for leave one target out split\n",
    "    loto_target : str\n",
    "        Target label to leave out for testing in 'loto' split method\n",
    "    loto_accession : str\n",
    "        Target Uniprot accession to leave out for testing in 'loto' split method\n",
    "\n",
    "    Returns\n",
    "    -------\n",
    "    train: pandas.DataFrame\n",
    "        Training dataset\n",
    "    test : pandas.DataFrame\n",
    "        Testing dataset\n",
    "    \"\"\"\n",
    "    # Random split\n",
    "    if split_method == 'random':\n",
    "        train, test = train_test_split(pcm_dataset, test_size=test_size, random_state=1234)\n",
    "\n",
    "    # Leave one target out\n",
    "    elif split_method == 'loto':\n",
    "        if loto_accession != None:\n",
    "            # Leave out defined accession\n",
    "            test_target = loto_accession\n",
    "            print(f'Target left out for testing is {loto_target}')\n",
    "        else:\n",
    "            raise ValueError(\"loto_accession needs to be defined\")\n",
    "\n",
    "        # Move data associated to target to test set and rest to training set\n",
    "        train = pcm_dataset[pcm_dataset['accession'] != test_target]\n",
    "        test = pcm_dataset[pcm_dataset['accession'] == test_target]\n",
    "\n",
    "    # Print statistics of training and test sets\n",
    "    print(f'Training set has {train.shape[0]} datapoints')\n",
    "    print(f'Test set has {test.shape[0]} datapoints ({round(100*test.shape[0]/pcm_dataset.shape[0], 3)} %)')\n",
    "\n",
    "    return train,test"
   ]
  },
  {
   "cell_type": "markdown",
   "metadata": {
    "pycharm": {
     "name": "#%% md\n"
    }
   },
   "source": [
    "Function to train a PCM RF model on a training set and validate it on a test set. Performance metrics are calculated for the whole test set, and also separately"
   ]
  },
  {
   "cell_type": "code",
   "execution_count": 25,
   "metadata": {
    "pycharm": {
     "name": "#%%\n"
    }
   },
   "outputs": [],
   "source": [
    "def train_validate_pcm_model(targets_dict, train, test):\n",
    "    \"\"\"\n",
    "    Train PCM RF regression model and validate on test set, calculating performance metrics\n",
    "\n",
    "    Parameters\n",
    "    ----------\n",
    "    targets_dict: dict\n",
    "        Dictionary of target labels and accession codes in the PCM set\n",
    "    train: pandas.DataFrame\n",
    "        Training dataset\n",
    "    test : pandas.DataFrame\n",
    "        Testing dataset\n",
    "\n",
    "    Returns\n",
    "    -------\n",
    "    dict:\n",
    "        Pearson's r, R2 score and MAE on test set\n",
    "    fig:\n",
    "        Figure with true vs. predicted values colored by target, with r2_score calculated per target\n",
    "    \"\"\"\n",
    "    # Store keys of training and test sets\n",
    "    train_keys = train[['SMILES', 'accession']]\n",
    "    test_keys = test[['SMILES', 'accession', 'pchembl_value_Mean']].reset_index(drop=True)\n",
    "\n",
    "    # Remove identifiers\n",
    "    train = train.drop(columns=['SMILES', 'accession'])\n",
    "    test = test.drop(columns=['SMILES', 'accession'])\n",
    "\n",
    "    # Set model parameter for random forest\n",
    "    param = {\n",
    "        \"n_estimators\": 100,  # number of trees to grows\n",
    "        \"criterion\": \"squared_error\",  # cost function to be optimized for a split\n",
    "    }\n",
    "    model_RF = RandomForestRegressor(**param)\n",
    "\n",
    "    # Fit model\n",
    "    model_RF.fit(train.iloc[:, 1:], train.iloc[:, 0])\n",
    "\n",
    "    # Make predictions on test set\n",
    "    predictions = model_RF.predict(test.iloc[:, 1:])\n",
    "\n",
    "    # Calculate model performance with regression metrics\n",
    "    model_performance = {}\n",
    "    model_performance['Pearson r'] = pearsonr(test.iloc[:, 0], predictions)[0]\n",
    "    model_performance['R2 score'] = r2_score(test.iloc[:, 0], predictions)\n",
    "    model_performance['MAE'] = mean_absolute_error(test.iloc[:, 0], predictions)\n",
    "    print('=== PCM model performance ===')\n",
    "    print(json.dumps(model_performance, indent=4))\n",
    "\n",
    "    # Add column named 'Target' for easier data visualization\n",
    "    test_keys['Target'] = test_keys['accession'].apply(lambda x: [i for i in targets_dict.keys() if targets_dict[i]==x][0])\n",
    "\n",
    "    # Calculate model performance per target\n",
    "    test_keys['prediction'] = pd.Series(predictions)\n",
    "\n",
    "    for target,accession in targets_dict.items():\n",
    "        # Define true values and predictions per target\n",
    "        true_target = test_keys[test_keys['accession'] == accession]['pchembl_value_Mean']\n",
    "        prediction_target = test_keys[test_keys['accession'] == accession]['prediction']\n",
    "\n",
    "        try:\n",
    "            # Calculate r2 score\n",
    "            r2_target = r2_score(true_target, prediction_target)\n",
    "\n",
    "            # Plot correlation between true and predicted values\n",
    "            ax = sns.scatterplot(y=true_target, x=prediction_target, label=(f'{target} R2 = {r2_target:.2f}'))\n",
    "            _ = sns.lineplot(x=(0, 14), y=(0, 14))\n",
    "            _ = ax.set_xlim((0,14))\n",
    "            _ = ax.set_ylim((0,14))\n",
    "            _ = ax.set_xlabel('Predicted')\n",
    "            _ = ax.set_ylabel('Observed')\n",
    "        except ValueError:\n",
    "            # Performance can only be plotted for the left out target in LOTO split\n",
    "            pass\n"
   ]
  },
  {
   "cell_type": "markdown",
   "metadata": {
    "pycharm": {
     "name": "#%% md\n"
    }
   },
   "source": [
    "Function to split a QSAR dataset randomly and train and validate a RF QSAR model for a target of interest."
   ]
  },
  {
   "cell_type": "code",
   "execution_count": 26,
   "metadata": {
    "pycharm": {
     "name": "#%%\n"
    }
   },
   "outputs": [],
   "source": [
    "def train_validate_qsar_model(qsar_dataset, target, accession, test_size):\n",
    "    \"\"\"\n",
    "    Train PCM RF regression model and validate on test set, calculating performance metrics\n",
    "\n",
    "    Parameters\n",
    "    ----------\n",
    "    qsar_dataset : pandas.Dataframe\n",
    "        Pandas dataframe with bioactivity dataset for QSAR including compound descriptors\n",
    "    target : str\n",
    "        Target label for QSAR model\n",
    "    accession: str\n",
    "        Target Uniprot accession for QSAR model\n",
    "    test_size: float\n",
    "         Ratio of the data to include in the test set upon random split\n",
    "\n",
    "    Returns\n",
    "    -------\n",
    "    dict:\n",
    "        Pearson's r, R2 score and MAE on test set\n",
    "    fig:\n",
    "        Figure with true vs. predicted values, with r2_score calculated\n",
    "    \"\"\"\n",
    "    # Extract target-specific dataset\n",
    "    target_dataset = qsar_dataset[qsar_dataset['accession'] == accession]\n",
    "\n",
    "    # Remove identifiers\n",
    "    target_dataset = target_dataset.drop(columns=['SMILES', 'accession'])\n",
    "\n",
    "    # Random-split in training and test set\n",
    "    train, test = train_test_split(target_dataset, test_size=test_size, random_state=1234)\n",
    "\n",
    "    # Set model parameter for random forest\n",
    "    param = {\n",
    "        \"n_estimators\": 100,  # number of trees to grows\n",
    "        \"criterion\": \"squared_error\",  # cost function to be optimized for a split\n",
    "    }\n",
    "    model_RF = RandomForestRegressor(**param)\n",
    "\n",
    "    # Fit model\n",
    "    model_RF.fit(train.iloc[:, 1:], train.iloc[:, 0])\n",
    "\n",
    "    # Make predictions on test set\n",
    "    predictions = model_RF.predict(test.iloc[:, 1:])\n",
    "\n",
    "    # Calculate model performance with regression metrics\n",
    "    model_performance = {}\n",
    "    model_performance['Pearson r'] = pearsonr(test.iloc[:, 0], predictions)[0]\n",
    "    model_performance['R2 score'] = r2_score(test.iloc[:, 0], predictions)\n",
    "    model_performance['MAE'] = mean_absolute_error(test.iloc[:, 0], predictions)\n",
    "    print(f'=== QSAR model performance {target} ===')\n",
    "    print(json.dumps(model_performance, indent=4))\n",
    "\n",
    "    # Plot correlation between true and predicted values\n",
    "    ax = sns.scatterplot(y=test.iloc[:, 0], x=predictions, label=(f'{target} R2 = {model_performance[\"R2 score\"]:.2f}'))\n",
    "    _ = sns.lineplot(x=(0, 14), y=(0, 14))\n",
    "    _ = ax.set_xlim((0,14))\n",
    "    _ = ax.set_ylim((0,14))\n",
    "    _ = ax.set_xlabel('Predicted')\n",
    "    _ = ax.set_ylabel('Observed')"
   ]
  },
  {
   "cell_type": "markdown",
   "metadata": {
    "pycharm": {
     "name": "#%% md\n"
    }
   },
   "source": [
    "##### Preprocessing"
   ]
  },
  {
   "cell_type": "markdown",
   "metadata": {
    "pycharm": {
     "name": "#%% md\n"
    }
   },
   "source": [
    "For each compound-target pair in our bioactivity dataset, we need to add the protein and molecular features previously calculated. We join the protein features based on Uniprot accession and the molecular features based on SMILES."
   ]
  },
  {
   "cell_type": "code",
   "execution_count": 27,
   "metadata": {
    "pycharm": {
     "name": "#%%\n"
    }
   },
   "outputs": [
    {
     "data": {
      "text/html": [
       "<div>\n",
       "<style scoped>\n",
       "    .dataframe tbody tr th:only-of-type {\n",
       "        vertical-align: middle;\n",
       "    }\n",
       "\n",
       "    .dataframe tbody tr th {\n",
       "        vertical-align: top;\n",
       "    }\n",
       "\n",
       "    .dataframe thead th {\n",
       "        text-align: right;\n",
       "    }\n",
       "</style>\n",
       "<table border=\"1\" class=\"dataframe\">\n",
       "  <thead>\n",
       "    <tr style=\"text-align: right;\">\n",
       "      <th></th>\n",
       "      <th>SMILES</th>\n",
       "      <th>accession</th>\n",
       "      <th>pchembl_value_Mean</th>\n",
       "      <th>Zscale_1</th>\n",
       "      <th>Zscale_2</th>\n",
       "      <th>Zscale_3</th>\n",
       "      <th>Zscale_4</th>\n",
       "      <th>Zscale_5</th>\n",
       "      <th>Zscale_6</th>\n",
       "      <th>Zscale_7</th>\n",
       "      <th>...</th>\n",
       "      <th>nN</th>\n",
       "      <th>nO</th>\n",
       "      <th>nS</th>\n",
       "      <th>nP</th>\n",
       "      <th>nF</th>\n",
       "      <th>nCl</th>\n",
       "      <th>nBr</th>\n",
       "      <th>nI</th>\n",
       "      <th>nX</th>\n",
       "      <th>BalabanJ</th>\n",
       "    </tr>\n",
       "  </thead>\n",
       "  <tbody>\n",
       "    <tr>\n",
       "      <th>0</th>\n",
       "      <td>Cc1cc(C)n(-c2cc(NC(=O)CCN(C)C)nc(-c3ccc(C)o3)n...</td>\n",
       "      <td>P29274</td>\n",
       "      <td>8.68</td>\n",
       "      <td>0.00</td>\n",
       "      <td>0.00</td>\n",
       "      <td>0.00</td>\n",
       "      <td>0.00</td>\n",
       "      <td>0.00</td>\n",
       "      <td>0.00</td>\n",
       "      <td>0.00</td>\n",
       "      <td>...</td>\n",
       "      <td>6</td>\n",
       "      <td>2</td>\n",
       "      <td>0</td>\n",
       "      <td>0</td>\n",
       "      <td>0</td>\n",
       "      <td>0</td>\n",
       "      <td>0</td>\n",
       "      <td>0</td>\n",
       "      <td>0</td>\n",
       "      <td>1.631</td>\n",
       "    </tr>\n",
       "    <tr>\n",
       "      <th>1</th>\n",
       "      <td>Cc1cc(C)n(-c2cc(NC(=O)CCN(C)C)nc(-c3ccc(C)o3)n...</td>\n",
       "      <td>P30542</td>\n",
       "      <td>6.68</td>\n",
       "      <td>0.00</td>\n",
       "      <td>0.00</td>\n",
       "      <td>0.00</td>\n",
       "      <td>0.00</td>\n",
       "      <td>0.00</td>\n",
       "      <td>0.00</td>\n",
       "      <td>0.00</td>\n",
       "      <td>...</td>\n",
       "      <td>6</td>\n",
       "      <td>2</td>\n",
       "      <td>0</td>\n",
       "      <td>0</td>\n",
       "      <td>0</td>\n",
       "      <td>0</td>\n",
       "      <td>0</td>\n",
       "      <td>0</td>\n",
       "      <td>0</td>\n",
       "      <td>1.631</td>\n",
       "    </tr>\n",
       "    <tr>\n",
       "      <th>2</th>\n",
       "      <td>Nc1c(C(=O)Nc2ccc([N+](=O)[O-])cc2)sc2nc3c(cc12...</td>\n",
       "      <td>P29274</td>\n",
       "      <td>4.82</td>\n",
       "      <td>0.00</td>\n",
       "      <td>0.00</td>\n",
       "      <td>0.00</td>\n",
       "      <td>0.00</td>\n",
       "      <td>0.00</td>\n",
       "      <td>0.00</td>\n",
       "      <td>0.00</td>\n",
       "      <td>...</td>\n",
       "      <td>4</td>\n",
       "      <td>3</td>\n",
       "      <td>1</td>\n",
       "      <td>0</td>\n",
       "      <td>0</td>\n",
       "      <td>0</td>\n",
       "      <td>0</td>\n",
       "      <td>0</td>\n",
       "      <td>0</td>\n",
       "      <td>1.307</td>\n",
       "    </tr>\n",
       "    <tr>\n",
       "      <th>3</th>\n",
       "      <td>O=C(Nc1nc2ncccc2n2c(=O)n(-c3ccccc3)nc12)c1ccccc1</td>\n",
       "      <td>P0DMS8</td>\n",
       "      <td>7.15</td>\n",
       "      <td>-2.49</td>\n",
       "      <td>-0.27</td>\n",
       "      <td>-0.41</td>\n",
       "      <td>-1.22</td>\n",
       "      <td>0.88</td>\n",
       "      <td>2.23</td>\n",
       "      <td>3.22</td>\n",
       "      <td>...</td>\n",
       "      <td>6</td>\n",
       "      <td>2</td>\n",
       "      <td>0</td>\n",
       "      <td>0</td>\n",
       "      <td>0</td>\n",
       "      <td>0</td>\n",
       "      <td>0</td>\n",
       "      <td>0</td>\n",
       "      <td>0</td>\n",
       "      <td>1.328</td>\n",
       "    </tr>\n",
       "    <tr>\n",
       "      <th>4</th>\n",
       "      <td>O=C(Nc1nc2ncccc2n2c(=O)n(-c3ccccc3)nc12)c1ccccc1</td>\n",
       "      <td>P29274</td>\n",
       "      <td>5.65</td>\n",
       "      <td>0.00</td>\n",
       "      <td>0.00</td>\n",
       "      <td>0.00</td>\n",
       "      <td>0.00</td>\n",
       "      <td>0.00</td>\n",
       "      <td>0.00</td>\n",
       "      <td>0.00</td>\n",
       "      <td>...</td>\n",
       "      <td>6</td>\n",
       "      <td>2</td>\n",
       "      <td>0</td>\n",
       "      <td>0</td>\n",
       "      <td>0</td>\n",
       "      <td>0</td>\n",
       "      <td>0</td>\n",
       "      <td>0</td>\n",
       "      <td>0</td>\n",
       "      <td>1.328</td>\n",
       "    </tr>\n",
       "    <tr>\n",
       "      <th>...</th>\n",
       "      <td>...</td>\n",
       "      <td>...</td>\n",
       "      <td>...</td>\n",
       "      <td>...</td>\n",
       "      <td>...</td>\n",
       "      <td>...</td>\n",
       "      <td>...</td>\n",
       "      <td>...</td>\n",
       "      <td>...</td>\n",
       "      <td>...</td>\n",
       "      <td>...</td>\n",
       "      <td>...</td>\n",
       "      <td>...</td>\n",
       "      <td>...</td>\n",
       "      <td>...</td>\n",
       "      <td>...</td>\n",
       "      <td>...</td>\n",
       "      <td>...</td>\n",
       "      <td>...</td>\n",
       "      <td>...</td>\n",
       "      <td>...</td>\n",
       "    </tr>\n",
       "    <tr>\n",
       "      <th>13545</th>\n",
       "      <td>CCCOc1ccc(C=Cc2cc3c(c(=O)n(C)c(=O)n3C)n2C)cc1</td>\n",
       "      <td>P29274</td>\n",
       "      <td>6.51</td>\n",
       "      <td>0.00</td>\n",
       "      <td>0.00</td>\n",
       "      <td>0.00</td>\n",
       "      <td>0.00</td>\n",
       "      <td>0.00</td>\n",
       "      <td>0.00</td>\n",
       "      <td>0.00</td>\n",
       "      <td>...</td>\n",
       "      <td>3</td>\n",
       "      <td>3</td>\n",
       "      <td>0</td>\n",
       "      <td>0</td>\n",
       "      <td>0</td>\n",
       "      <td>0</td>\n",
       "      <td>0</td>\n",
       "      <td>0</td>\n",
       "      <td>0</td>\n",
       "      <td>1.479</td>\n",
       "    </tr>\n",
       "    <tr>\n",
       "      <th>13546</th>\n",
       "      <td>CCOC(=O)c1cnc(NCC(C)C)n2nc(-c3ccco3)nc12</td>\n",
       "      <td>P0DMS8</td>\n",
       "      <td>7.61</td>\n",
       "      <td>-2.49</td>\n",
       "      <td>-0.27</td>\n",
       "      <td>-0.41</td>\n",
       "      <td>-1.22</td>\n",
       "      <td>0.88</td>\n",
       "      <td>2.23</td>\n",
       "      <td>3.22</td>\n",
       "      <td>...</td>\n",
       "      <td>5</td>\n",
       "      <td>3</td>\n",
       "      <td>0</td>\n",
       "      <td>0</td>\n",
       "      <td>0</td>\n",
       "      <td>0</td>\n",
       "      <td>0</td>\n",
       "      <td>0</td>\n",
       "      <td>0</td>\n",
       "      <td>1.68</td>\n",
       "    </tr>\n",
       "    <tr>\n",
       "      <th>13547</th>\n",
       "      <td>CCOC(=O)c1cnc(NCC(C)C)n2nc(-c3ccco3)nc12</td>\n",
       "      <td>P29274</td>\n",
       "      <td>7.35</td>\n",
       "      <td>0.00</td>\n",
       "      <td>0.00</td>\n",
       "      <td>0.00</td>\n",
       "      <td>0.00</td>\n",
       "      <td>0.00</td>\n",
       "      <td>0.00</td>\n",
       "      <td>0.00</td>\n",
       "      <td>...</td>\n",
       "      <td>5</td>\n",
       "      <td>3</td>\n",
       "      <td>0</td>\n",
       "      <td>0</td>\n",
       "      <td>0</td>\n",
       "      <td>0</td>\n",
       "      <td>0</td>\n",
       "      <td>0</td>\n",
       "      <td>0</td>\n",
       "      <td>1.68</td>\n",
       "    </tr>\n",
       "    <tr>\n",
       "      <th>13548</th>\n",
       "      <td>CCOC(=O)c1cnc(NCC(C)C)n2nc(-c3ccco3)nc12</td>\n",
       "      <td>P29275</td>\n",
       "      <td>5.15</td>\n",
       "      <td>0.00</td>\n",
       "      <td>0.00</td>\n",
       "      <td>0.00</td>\n",
       "      <td>0.00</td>\n",
       "      <td>0.00</td>\n",
       "      <td>0.00</td>\n",
       "      <td>0.00</td>\n",
       "      <td>...</td>\n",
       "      <td>5</td>\n",
       "      <td>3</td>\n",
       "      <td>0</td>\n",
       "      <td>0</td>\n",
       "      <td>0</td>\n",
       "      <td>0</td>\n",
       "      <td>0</td>\n",
       "      <td>0</td>\n",
       "      <td>0</td>\n",
       "      <td>1.68</td>\n",
       "    </tr>\n",
       "    <tr>\n",
       "      <th>13549</th>\n",
       "      <td>CCOC(=O)c1cnc(NCC(C)C)n2nc(-c3ccco3)nc12</td>\n",
       "      <td>P30542</td>\n",
       "      <td>7.34</td>\n",
       "      <td>0.00</td>\n",
       "      <td>0.00</td>\n",
       "      <td>0.00</td>\n",
       "      <td>0.00</td>\n",
       "      <td>0.00</td>\n",
       "      <td>0.00</td>\n",
       "      <td>0.00</td>\n",
       "      <td>...</td>\n",
       "      <td>5</td>\n",
       "      <td>3</td>\n",
       "      <td>0</td>\n",
       "      <td>0</td>\n",
       "      <td>0</td>\n",
       "      <td>0</td>\n",
       "      <td>0</td>\n",
       "      <td>0</td>\n",
       "      <td>0</td>\n",
       "      <td>1.68</td>\n",
       "    </tr>\n",
       "  </tbody>\n",
       "</table>\n",
       "<p>13550 rows × 1303 columns</p>\n",
       "</div>"
      ],
      "text/plain": [
       "                                                  SMILES accession  \\\n",
       "0      Cc1cc(C)n(-c2cc(NC(=O)CCN(C)C)nc(-c3ccc(C)o3)n...    P29274   \n",
       "1      Cc1cc(C)n(-c2cc(NC(=O)CCN(C)C)nc(-c3ccc(C)o3)n...    P30542   \n",
       "2      Nc1c(C(=O)Nc2ccc([N+](=O)[O-])cc2)sc2nc3c(cc12...    P29274   \n",
       "3       O=C(Nc1nc2ncccc2n2c(=O)n(-c3ccccc3)nc12)c1ccccc1    P0DMS8   \n",
       "4       O=C(Nc1nc2ncccc2n2c(=O)n(-c3ccccc3)nc12)c1ccccc1    P29274   \n",
       "...                                                  ...       ...   \n",
       "13545      CCCOc1ccc(C=Cc2cc3c(c(=O)n(C)c(=O)n3C)n2C)cc1    P29274   \n",
       "13546           CCOC(=O)c1cnc(NCC(C)C)n2nc(-c3ccco3)nc12    P0DMS8   \n",
       "13547           CCOC(=O)c1cnc(NCC(C)C)n2nc(-c3ccco3)nc12    P29274   \n",
       "13548           CCOC(=O)c1cnc(NCC(C)C)n2nc(-c3ccco3)nc12    P29275   \n",
       "13549           CCOC(=O)c1cnc(NCC(C)C)n2nc(-c3ccco3)nc12    P30542   \n",
       "\n",
       "       pchembl_value_Mean  Zscale_1  Zscale_2  Zscale_3  Zscale_4  Zscale_5  \\\n",
       "0                    8.68      0.00      0.00      0.00      0.00      0.00   \n",
       "1                    6.68      0.00      0.00      0.00      0.00      0.00   \n",
       "2                    4.82      0.00      0.00      0.00      0.00      0.00   \n",
       "3                    7.15     -2.49     -0.27     -0.41     -1.22      0.88   \n",
       "4                    5.65      0.00      0.00      0.00      0.00      0.00   \n",
       "...                   ...       ...       ...       ...       ...       ...   \n",
       "13545                6.51      0.00      0.00      0.00      0.00      0.00   \n",
       "13546                7.61     -2.49     -0.27     -0.41     -1.22      0.88   \n",
       "13547                7.35      0.00      0.00      0.00      0.00      0.00   \n",
       "13548                5.15      0.00      0.00      0.00      0.00      0.00   \n",
       "13549                7.34      0.00      0.00      0.00      0.00      0.00   \n",
       "\n",
       "       Zscale_6  Zscale_7  ...  nN  nO  nS  nP  nF  nCl  nBr  nI  nX  BalabanJ  \n",
       "0          0.00      0.00  ...   6   2   0   0   0    0    0   0   0     1.631  \n",
       "1          0.00      0.00  ...   6   2   0   0   0    0    0   0   0     1.631  \n",
       "2          0.00      0.00  ...   4   3   1   0   0    0    0   0   0     1.307  \n",
       "3          2.23      3.22  ...   6   2   0   0   0    0    0   0   0     1.328  \n",
       "4          0.00      0.00  ...   6   2   0   0   0    0    0   0   0     1.328  \n",
       "...         ...       ...  ...  ..  ..  ..  ..  ..  ...  ...  ..  ..       ...  \n",
       "13545      0.00      0.00  ...   3   3   0   0   0    0    0   0   0     1.479  \n",
       "13546      2.23      3.22  ...   5   3   0   0   0    0    0   0   0      1.68  \n",
       "13547      0.00      0.00  ...   5   3   0   0   0    0    0   0   0      1.68  \n",
       "13548      0.00      0.00  ...   5   3   0   0   0    0    0   0   0      1.68  \n",
       "13549      0.00      0.00  ...   5   3   0   0   0    0    0   0   0      1.68  \n",
       "\n",
       "[13550 rows x 1303 columns]"
      ]
     },
     "execution_count": 27,
     "metadata": {},
     "output_type": "execute_result"
    }
   ],
   "source": [
    "# Add protein and molecular features to bioactivity dataset to generate PCM dataset\n",
    "ar_pcm_dataset = ar_dataset.merge(protein_features, on='accession')\n",
    "ar_pcm_dataset = ar_pcm_dataset.merge(molecular_features, on='SMILES')\n",
    "\n",
    "ar_pcm_dataset"
   ]
  },
  {
   "cell_type": "markdown",
   "metadata": {
    "pycharm": {
     "name": "#%% md\n"
    }
   },
   "source": [
    "For QSAR modelling, we do the same but we do not include the protein descriptors. This results on a dataset for modelling with a significantly reduced number of features."
   ]
  },
  {
   "cell_type": "code",
   "execution_count": 28,
   "metadata": {
    "pycharm": {
     "name": "#%%\n"
    }
   },
   "outputs": [
    {
     "data": {
      "text/html": [
       "<div>\n",
       "<style scoped>\n",
       "    .dataframe tbody tr th:only-of-type {\n",
       "        vertical-align: middle;\n",
       "    }\n",
       "\n",
       "    .dataframe tbody tr th {\n",
       "        vertical-align: top;\n",
       "    }\n",
       "\n",
       "    .dataframe thead th {\n",
       "        text-align: right;\n",
       "    }\n",
       "</style>\n",
       "<table border=\"1\" class=\"dataframe\">\n",
       "  <thead>\n",
       "    <tr style=\"text-align: right;\">\n",
       "      <th></th>\n",
       "      <th>SMILES</th>\n",
       "      <th>accession</th>\n",
       "      <th>pchembl_value_Mean</th>\n",
       "      <th>ABC</th>\n",
       "      <th>ABCGG</th>\n",
       "      <th>nAcid</th>\n",
       "      <th>nBase</th>\n",
       "      <th>nAtom</th>\n",
       "      <th>nHeavyAtom</th>\n",
       "      <th>nSpiro</th>\n",
       "      <th>...</th>\n",
       "      <th>nN</th>\n",
       "      <th>nO</th>\n",
       "      <th>nS</th>\n",
       "      <th>nP</th>\n",
       "      <th>nF</th>\n",
       "      <th>nCl</th>\n",
       "      <th>nBr</th>\n",
       "      <th>nI</th>\n",
       "      <th>nX</th>\n",
       "      <th>BalabanJ</th>\n",
       "    </tr>\n",
       "  </thead>\n",
       "  <tbody>\n",
       "    <tr>\n",
       "      <th>0</th>\n",
       "      <td>Cc1cc(C)n(-c2cc(NC(=O)CCN(C)C)nc(-c3ccc(C)o3)n...</td>\n",
       "      <td>P29274</td>\n",
       "      <td>8.68</td>\n",
       "      <td>0</td>\n",
       "      <td>0</td>\n",
       "      <td>0</td>\n",
       "      <td>1</td>\n",
       "      <td>51</td>\n",
       "      <td>27</td>\n",
       "      <td>0</td>\n",
       "      <td>...</td>\n",
       "      <td>6</td>\n",
       "      <td>2</td>\n",
       "      <td>0</td>\n",
       "      <td>0</td>\n",
       "      <td>0</td>\n",
       "      <td>0</td>\n",
       "      <td>0</td>\n",
       "      <td>0</td>\n",
       "      <td>0</td>\n",
       "      <td>1.631</td>\n",
       "    </tr>\n",
       "    <tr>\n",
       "      <th>1</th>\n",
       "      <td>Cc1cc(C)n(-c2cc(NC(=O)CCN(C)C)nc(-c3ccc(C)o3)n...</td>\n",
       "      <td>P30542</td>\n",
       "      <td>6.68</td>\n",
       "      <td>0</td>\n",
       "      <td>0</td>\n",
       "      <td>0</td>\n",
       "      <td>1</td>\n",
       "      <td>51</td>\n",
       "      <td>27</td>\n",
       "      <td>0</td>\n",
       "      <td>...</td>\n",
       "      <td>6</td>\n",
       "      <td>2</td>\n",
       "      <td>0</td>\n",
       "      <td>0</td>\n",
       "      <td>0</td>\n",
       "      <td>0</td>\n",
       "      <td>0</td>\n",
       "      <td>0</td>\n",
       "      <td>0</td>\n",
       "      <td>1.631</td>\n",
       "    </tr>\n",
       "    <tr>\n",
       "      <th>2</th>\n",
       "      <td>Nc1c(C(=O)Nc2ccc([N+](=O)[O-])cc2)sc2nc3c(cc12...</td>\n",
       "      <td>P29274</td>\n",
       "      <td>4.82</td>\n",
       "      <td>0</td>\n",
       "      <td>0</td>\n",
       "      <td>0</td>\n",
       "      <td>0</td>\n",
       "      <td>42</td>\n",
       "      <td>26</td>\n",
       "      <td>0</td>\n",
       "      <td>...</td>\n",
       "      <td>4</td>\n",
       "      <td>3</td>\n",
       "      <td>1</td>\n",
       "      <td>0</td>\n",
       "      <td>0</td>\n",
       "      <td>0</td>\n",
       "      <td>0</td>\n",
       "      <td>0</td>\n",
       "      <td>0</td>\n",
       "      <td>1.307</td>\n",
       "    </tr>\n",
       "    <tr>\n",
       "      <th>3</th>\n",
       "      <td>O=C(Nc1nc2ncccc2n2c(=O)n(-c3ccccc3)nc12)c1ccccc1</td>\n",
       "      <td>P0DMS8</td>\n",
       "      <td>7.15</td>\n",
       "      <td>0</td>\n",
       "      <td>0</td>\n",
       "      <td>0</td>\n",
       "      <td>0</td>\n",
       "      <td>43</td>\n",
       "      <td>29</td>\n",
       "      <td>0</td>\n",
       "      <td>...</td>\n",
       "      <td>6</td>\n",
       "      <td>2</td>\n",
       "      <td>0</td>\n",
       "      <td>0</td>\n",
       "      <td>0</td>\n",
       "      <td>0</td>\n",
       "      <td>0</td>\n",
       "      <td>0</td>\n",
       "      <td>0</td>\n",
       "      <td>1.328</td>\n",
       "    </tr>\n",
       "    <tr>\n",
       "      <th>4</th>\n",
       "      <td>O=C(Nc1nc2ncccc2n2c(=O)n(-c3ccccc3)nc12)c1ccccc1</td>\n",
       "      <td>P29274</td>\n",
       "      <td>5.65</td>\n",
       "      <td>0</td>\n",
       "      <td>0</td>\n",
       "      <td>0</td>\n",
       "      <td>0</td>\n",
       "      <td>43</td>\n",
       "      <td>29</td>\n",
       "      <td>0</td>\n",
       "      <td>...</td>\n",
       "      <td>6</td>\n",
       "      <td>2</td>\n",
       "      <td>0</td>\n",
       "      <td>0</td>\n",
       "      <td>0</td>\n",
       "      <td>0</td>\n",
       "      <td>0</td>\n",
       "      <td>0</td>\n",
       "      <td>0</td>\n",
       "      <td>1.328</td>\n",
       "    </tr>\n",
       "    <tr>\n",
       "      <th>...</th>\n",
       "      <td>...</td>\n",
       "      <td>...</td>\n",
       "      <td>...</td>\n",
       "      <td>...</td>\n",
       "      <td>...</td>\n",
       "      <td>...</td>\n",
       "      <td>...</td>\n",
       "      <td>...</td>\n",
       "      <td>...</td>\n",
       "      <td>...</td>\n",
       "      <td>...</td>\n",
       "      <td>...</td>\n",
       "      <td>...</td>\n",
       "      <td>...</td>\n",
       "      <td>...</td>\n",
       "      <td>...</td>\n",
       "      <td>...</td>\n",
       "      <td>...</td>\n",
       "      <td>...</td>\n",
       "      <td>...</td>\n",
       "      <td>...</td>\n",
       "    </tr>\n",
       "    <tr>\n",
       "      <th>13545</th>\n",
       "      <td>CCCOc1ccc(C=Cc2cc3c(c(=O)n(C)c(=O)n3C)n2C)cc1</td>\n",
       "      <td>P29274</td>\n",
       "      <td>6.51</td>\n",
       "      <td>0</td>\n",
       "      <td>0</td>\n",
       "      <td>0</td>\n",
       "      <td>0</td>\n",
       "      <td>49</td>\n",
       "      <td>26</td>\n",
       "      <td>0</td>\n",
       "      <td>...</td>\n",
       "      <td>3</td>\n",
       "      <td>3</td>\n",
       "      <td>0</td>\n",
       "      <td>0</td>\n",
       "      <td>0</td>\n",
       "      <td>0</td>\n",
       "      <td>0</td>\n",
       "      <td>0</td>\n",
       "      <td>0</td>\n",
       "      <td>1.479</td>\n",
       "    </tr>\n",
       "    <tr>\n",
       "      <th>13546</th>\n",
       "      <td>CCOC(=O)c1cnc(NCC(C)C)n2nc(-c3ccco3)nc12</td>\n",
       "      <td>P0DMS8</td>\n",
       "      <td>7.61</td>\n",
       "      <td>0</td>\n",
       "      <td>0</td>\n",
       "      <td>0</td>\n",
       "      <td>0</td>\n",
       "      <td>43</td>\n",
       "      <td>24</td>\n",
       "      <td>0</td>\n",
       "      <td>...</td>\n",
       "      <td>5</td>\n",
       "      <td>3</td>\n",
       "      <td>0</td>\n",
       "      <td>0</td>\n",
       "      <td>0</td>\n",
       "      <td>0</td>\n",
       "      <td>0</td>\n",
       "      <td>0</td>\n",
       "      <td>0</td>\n",
       "      <td>1.68</td>\n",
       "    </tr>\n",
       "    <tr>\n",
       "      <th>13547</th>\n",
       "      <td>CCOC(=O)c1cnc(NCC(C)C)n2nc(-c3ccco3)nc12</td>\n",
       "      <td>P29274</td>\n",
       "      <td>7.35</td>\n",
       "      <td>0</td>\n",
       "      <td>0</td>\n",
       "      <td>0</td>\n",
       "      <td>0</td>\n",
       "      <td>43</td>\n",
       "      <td>24</td>\n",
       "      <td>0</td>\n",
       "      <td>...</td>\n",
       "      <td>5</td>\n",
       "      <td>3</td>\n",
       "      <td>0</td>\n",
       "      <td>0</td>\n",
       "      <td>0</td>\n",
       "      <td>0</td>\n",
       "      <td>0</td>\n",
       "      <td>0</td>\n",
       "      <td>0</td>\n",
       "      <td>1.68</td>\n",
       "    </tr>\n",
       "    <tr>\n",
       "      <th>13548</th>\n",
       "      <td>CCOC(=O)c1cnc(NCC(C)C)n2nc(-c3ccco3)nc12</td>\n",
       "      <td>P29275</td>\n",
       "      <td>5.15</td>\n",
       "      <td>0</td>\n",
       "      <td>0</td>\n",
       "      <td>0</td>\n",
       "      <td>0</td>\n",
       "      <td>43</td>\n",
       "      <td>24</td>\n",
       "      <td>0</td>\n",
       "      <td>...</td>\n",
       "      <td>5</td>\n",
       "      <td>3</td>\n",
       "      <td>0</td>\n",
       "      <td>0</td>\n",
       "      <td>0</td>\n",
       "      <td>0</td>\n",
       "      <td>0</td>\n",
       "      <td>0</td>\n",
       "      <td>0</td>\n",
       "      <td>1.68</td>\n",
       "    </tr>\n",
       "    <tr>\n",
       "      <th>13549</th>\n",
       "      <td>CCOC(=O)c1cnc(NCC(C)C)n2nc(-c3ccco3)nc12</td>\n",
       "      <td>P30542</td>\n",
       "      <td>7.34</td>\n",
       "      <td>0</td>\n",
       "      <td>0</td>\n",
       "      <td>0</td>\n",
       "      <td>0</td>\n",
       "      <td>43</td>\n",
       "      <td>24</td>\n",
       "      <td>0</td>\n",
       "      <td>...</td>\n",
       "      <td>5</td>\n",
       "      <td>3</td>\n",
       "      <td>0</td>\n",
       "      <td>0</td>\n",
       "      <td>0</td>\n",
       "      <td>0</td>\n",
       "      <td>0</td>\n",
       "      <td>0</td>\n",
       "      <td>0</td>\n",
       "      <td>1.68</td>\n",
       "    </tr>\n",
       "  </tbody>\n",
       "</table>\n",
       "<p>13550 rows × 25 columns</p>\n",
       "</div>"
      ],
      "text/plain": [
       "                                                  SMILES accession  \\\n",
       "0      Cc1cc(C)n(-c2cc(NC(=O)CCN(C)C)nc(-c3ccc(C)o3)n...    P29274   \n",
       "1      Cc1cc(C)n(-c2cc(NC(=O)CCN(C)C)nc(-c3ccc(C)o3)n...    P30542   \n",
       "2      Nc1c(C(=O)Nc2ccc([N+](=O)[O-])cc2)sc2nc3c(cc12...    P29274   \n",
       "3       O=C(Nc1nc2ncccc2n2c(=O)n(-c3ccccc3)nc12)c1ccccc1    P0DMS8   \n",
       "4       O=C(Nc1nc2ncccc2n2c(=O)n(-c3ccccc3)nc12)c1ccccc1    P29274   \n",
       "...                                                  ...       ...   \n",
       "13545      CCCOc1ccc(C=Cc2cc3c(c(=O)n(C)c(=O)n3C)n2C)cc1    P29274   \n",
       "13546           CCOC(=O)c1cnc(NCC(C)C)n2nc(-c3ccco3)nc12    P0DMS8   \n",
       "13547           CCOC(=O)c1cnc(NCC(C)C)n2nc(-c3ccco3)nc12    P29274   \n",
       "13548           CCOC(=O)c1cnc(NCC(C)C)n2nc(-c3ccco3)nc12    P29275   \n",
       "13549           CCOC(=O)c1cnc(NCC(C)C)n2nc(-c3ccco3)nc12    P30542   \n",
       "\n",
       "       pchembl_value_Mean  ABC  ABCGG  nAcid  nBase  nAtom  nHeavyAtom  \\\n",
       "0                    8.68    0      0      0      1     51          27   \n",
       "1                    6.68    0      0      0      1     51          27   \n",
       "2                    4.82    0      0      0      0     42          26   \n",
       "3                    7.15    0      0      0      0     43          29   \n",
       "4                    5.65    0      0      0      0     43          29   \n",
       "...                   ...  ...    ...    ...    ...    ...         ...   \n",
       "13545                6.51    0      0      0      0     49          26   \n",
       "13546                7.61    0      0      0      0     43          24   \n",
       "13547                7.35    0      0      0      0     43          24   \n",
       "13548                5.15    0      0      0      0     43          24   \n",
       "13549                7.34    0      0      0      0     43          24   \n",
       "\n",
       "       nSpiro  ...  nN  nO  nS  nP  nF  nCl  nBr  nI  nX  BalabanJ  \n",
       "0           0  ...   6   2   0   0   0    0    0   0   0     1.631  \n",
       "1           0  ...   6   2   0   0   0    0    0   0   0     1.631  \n",
       "2           0  ...   4   3   1   0   0    0    0   0   0     1.307  \n",
       "3           0  ...   6   2   0   0   0    0    0   0   0     1.328  \n",
       "4           0  ...   6   2   0   0   0    0    0   0   0     1.328  \n",
       "...       ...  ...  ..  ..  ..  ..  ..  ...  ...  ..  ..       ...  \n",
       "13545       0  ...   3   3   0   0   0    0    0   0   0     1.479  \n",
       "13546       0  ...   5   3   0   0   0    0    0   0   0      1.68  \n",
       "13547       0  ...   5   3   0   0   0    0    0   0   0      1.68  \n",
       "13548       0  ...   5   3   0   0   0    0    0   0   0      1.68  \n",
       "13549       0  ...   5   3   0   0   0    0    0   0   0      1.68  \n",
       "\n",
       "[13550 rows x 25 columns]"
      ]
     },
     "execution_count": 28,
     "metadata": {},
     "output_type": "execute_result"
    }
   ],
   "source": [
    "# Add molecular features to bioactivity dataset to generate QSAR dataset\n",
    "ar_qsar_dataset = ar_dataset.merge(molecular_features, on='SMILES')\n",
    "\n",
    "ar_qsar_dataset"
   ]
  },
  {
   "cell_type": "markdown",
   "metadata": {
    "pycharm": {
     "name": "#%% md\n"
    }
   },
   "source": [
    "#### Model training and validation"
   ]
  },
  {
   "cell_type": "markdown",
   "metadata": {
    "pycharm": {
     "name": "#%% md\n"
    }
   },
   "source": [
    "##### Random split PCM model"
   ]
  },
  {
   "cell_type": "markdown",
   "metadata": {
    "pycharm": {
     "name": "#%% md\n"
    }
   },
   "source": [
    "The first PCM model that we train for the four adenosine receptors is based on a random split, where 20 % of the data (2,544 datapoints) is part of the test set for validation."
   ]
  },
  {
   "cell_type": "code",
   "execution_count": 29,
   "metadata": {
    "pycharm": {
     "name": "#%%\n"
    }
   },
   "outputs": [
    {
     "name": "stdout",
     "output_type": "stream",
     "text": [
      "== Random split ==\n",
      "Training set has 10840 datapoints\n",
      "Test set has 2710 datapoints (20.0 %)\n"
     ]
    }
   ],
   "source": [
    "# Split dataset in training and test set (random split)\n",
    "print('== Random split ==')\n",
    "train_random,test_random = split_train_test(ar_pcm_dataset, 0.20, 'random')"
   ]
  },
  {
   "cell_type": "code",
   "execution_count": 30,
   "metadata": {},
   "outputs": [
    {
     "name": "stdout",
     "output_type": "stream",
     "text": [
      "=== PCM model performance ===\n",
      "{\n",
      "    \"Pearson r\": 0.6514592927087539,\n",
      "    \"R2 score\": 0.4231281179445554,\n",
      "    \"MAE\": 0.6603891072773675\n",
      "}\n"
     ]
    },
    {
     "data": {
      "image/png": "[encoded data removed]",
      "text/plain": [
       "<Figure size 640x480 with 1 Axes>"
      ]
     },
     "metadata": {},
     "output_type": "display_data"
    }
   ],
   "source": [
    "# Train and validate PCM model\n",
    "train_validate_pcm_model(adenosine_receptors,train_random,test_random)"
   ]
  },
  {
   "cell_type": "markdown",
   "metadata": {
    "pycharm": {
     "name": "#%% md\n"
    }
   },
   "source": [
    "Based on the performance metrics of the PCM model, Pearson's $r$ tells us that the true and predicted values are highly correlated .Moreover, the $R^{2}$ tells us that almost 50 % of the variance of the target variable is explained by the model features and that the model is predictive. The $MAE$ tells us that the predictions are on average 0.64 p-value units off, which is an acceptable prediction error.\n",
    "An interesting observation is that the $R^{2}$ score is quite similar if we calculate it independently for the test set datapoint corresponding to each target."
   ]
  },
  {
   "cell_type": "markdown",
   "metadata": {},
   "source": [
    "##### Random split QSAR models"
   ]
  },
  {
   "cell_type": "markdown",
   "metadata": {
    "pycharm": {
     "name": "#%% md\n"
    }
   },
   "source": [
    "Now, we want to compare the use of a single PCM model for four targets vs. four independent QSAR models trained for each target solely on chemical compound features."
   ]
  },
  {
   "cell_type": "code",
   "execution_count": 31,
   "metadata": {
    "pycharm": {
     "name": "#%%\n"
    }
   },
   "outputs": [
    {
     "name": "stdout",
     "output_type": "stream",
     "text": [
      "=== QSAR model performance A1 ===\n",
      "{\n",
      "    \"Pearson r\": 0.6062966934003698,\n",
      "    \"R2 score\": 0.36682604211937575,\n",
      "    \"MAE\": 0.598300149482492\n",
      "}\n",
      "=== QSAR model performance A2A ===\n",
      "{\n",
      "    \"Pearson r\": 0.6075261156952572,\n",
      "    \"R2 score\": 0.36693906157006495,\n",
      "    \"MAE\": 0.7090086765518332\n",
      "}\n",
      "=== QSAR model performance A2B ===\n",
      "{\n",
      "    \"Pearson r\": 0.7420007771071306,\n",
      "    \"R2 score\": 0.5491957727590016,\n",
      "    \"MAE\": 0.5558541203150733\n",
      "}\n",
      "=== QSAR model performance A3 ===\n",
      "{\n",
      "    \"Pearson r\": 0.6383436263749808,\n",
      "    \"R2 score\": 0.4068768808412875,\n",
      "    \"MAE\": 0.6903305189118583\n",
      "}\n"
     ]
    },
    {
     "data": {
      "image/png": "[encoded data removed]",
      "text/plain": [
       "<Figure size 640x480 with 1 Axes>"
      ]
     },
     "metadata": {},
     "output_type": "display_data"
    }
   ],
   "source": [
    "# Iterate over targets (adenosine receptors)\n",
    "for target,accession in adenosine_receptors.items():\n",
    "    # Train and validate QSAR models\n",
    "    train_validate_qsar_model(ar_qsar_dataset,target,accession,0.20)"
   ]
  },
  {
   "cell_type": "markdown",
   "metadata": {
    "pycharm": {
     "name": "#%% md\n"
    }
   },
   "source": [
    "The four QSAR models trained have quite good performance, with high correlation between the observed and predicted values. Compared to the PCM model, the $R^{2}$ score is less homogeneous between targets and, in general, lower. These results seem to indicate that the PCM model is able to extrapolate certain properties between targets."
   ]
  },
  {
   "cell_type": "markdown",
   "metadata": {},
   "source": [
    "##### Leave one target out split PCM model"
   ]
  },
  {
   "cell_type": "markdown",
   "metadata": {},
   "source": [
    "The random split PCM model works pretty well. However, a model trained and validated on a random split might overestimate the performance compared to a real life drug discovery scenario.\n",
    "Finally, to test whether our PCM model could be used to predict bioactivity data on a target for which we have no previously known bioactivity data, we can train and validate PCM models following the \"leave one target out\" (LOTO) split method. We can do this process for each of the adenosine receptors."
   ]
  },
  {
   "cell_type": "code",
   "execution_count": null,
   "metadata": {
    "pycharm": {
     "name": "#%%\n"
    }
   },
   "outputs": [
    {
     "name": "stdout",
     "output_type": "stream",
     "text": [
      "== Leave one target out split ==\n",
      "Target left out for testing is A1\n",
      "Training set has 9731 datapoints\n",
      "Test set has 3819 datapoints (28.185 %)\n"
     ]
    }
   ],
   "source": [
    "# Iterate over targets (adenosine receptors)\n",
    "for target,accession in adenosine_receptors.items():\n",
    "    # Split dataset in training and test set (leave one target out split)\n",
    "    print('== Leave one target out split ==')\n",
    "    train_loto, test_loto = split_train_test(ar_pcm_dataset, 0.20, 'loto', target, accession)\n",
    "    # Train and validate PCM model, every time leaving a different target out for validation\n",
    "    train_validate_pcm_model(adenosine_receptors,train_loto,test_loto)"
   ]
  },
  {
   "cell_type": "markdown",
   "metadata": {},
   "source": [
    "Immediately we see that the LOTO split method is way more difficult to model than the random split. The PCM metrics show that even though the true and predicted values are somewhat correlated (Pearson's $r$), the PCM model features are not able to explain the variance in the target variable ($R^{2}$). We can also see this in the shape of the predicted vs. observed graph, where the datapoints are not aggregated around the unit line that would define a perfect fit. Rather, the predictions are aggregated around the mean bioactivity values in the training set."
   ]
  },
  {
   "cell_type": "markdown",
   "metadata": {},
   "source": [
    "## Discussion\n",
    "\n",
    "In this talktorial we created a PCM model for the four adenosine receptors based on a random split of the data. This model performed pretty well on our test set. Compared to independent QSAR models trained for each of the adenosine receptors, the performance of the PCM model is slightly better, which indicates that the PCM model is able to extrapolate between targets. However, there are several elements that could have an effect of the observed results:\n",
    "* The four adenosine receptors had enough data on their own to be able to train individual models. The true advantage of a PCM model could be more relevant in a target set where some targets have very little data.\n",
    "* The QSAR models are only trained on 22 features compared to 1,300 for the PCM model. QSAR models trained on molecular fingerprints would probably have better chances of achieving better performance.\n",
    "* For better comparison, it would be good to train several models of the same type and calculate aggregated metrics, so that statistically significant results could be derived.\n",
    "\n",
    "Moreover, we trained four PCM models on three adenosine receptors and validated them on the remaining receptor, following a leave one target out (LOTO) split method. We did this to evaluate whether these PCM models could be used to predict bioactivity for a target for which the model has never seen any data in training. We immediately derive some observations:\n",
    "* The LOTO split is harder in validation than the random split, since the random split allows data leakage between targets.\n",
    "* While the descriptors used in the PCM model trained on random split allowed for a good performance, in order to get a good performance in the LOTO split, we would need to search more carefully to find the optimal descriptors. Similarly, we could opt for a selection of the binding pocket prior to protein descriptor generation. Additionally, we could optimize the model parameters.\n"
   ]
  },
  {
   "cell_type": "markdown",
   "metadata": {
    "pycharm": {
     "name": "#%% md\n"
    }
   },
   "source": [
    "## Quiz\n",
    "\n",
    "1. What types of features are needed for PCM?\n",
    "2. How many types of training/test set splitting methods commonly used in PCM modelling do you know?\n",
    "3. Which applications do you know of PCM in drug discovery?"
   ]
  }
 ],
 "metadata": {
  "kernelspec": {
   "display_name": "Python 3 (ipykernel)",
   "language": "python",
   "name": "python3"
  },
  "language_info": {
   "codemirror_mode": {
    "name": "ipython",
    "version": 3
   },
   "file_extension": ".py",
   "mimetype": "text/x-python",
   "name": "python",
   "nbconvert_exporter": "python",
   "pygments_lexer": "ipython3",
   "version": "3.12.11"
  },
  "widgets": {
   "application/vnd.jupyter.widget-state+json": {
    "state": {},
    "version_major": 2,
    "version_minor": 0
   }
  }
 },
 "nbformat": 4,
 "nbformat_minor": 4
}
