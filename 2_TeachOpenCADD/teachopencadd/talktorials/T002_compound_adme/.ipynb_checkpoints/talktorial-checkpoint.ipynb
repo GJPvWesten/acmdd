{
 "cells": [
  {
   "cell_type": "markdown",
   "metadata": {},
   "source": [
    "# T002 · Molecular filtering: ADME and lead-likeness criteria\n",
    "\n",
    "**Note:** This talktorial is a part of TeachOpenCADD, a platform that aims to teach domain-specific skills and to provide pipeline templates as starting points for research projects.\n",
    "\n",
    "Authors:\n",
    "\n",
    "- Michele Wichmann, CADD seminars 2017, Charité/FU Berlin\n",
    "- Mathias Wajnberg, CADD seminars 2018, Charité/FU Berlin\n",
    "- Dominique Sydow, 2018-2020, [Volkamer lab](https://volkamerlab.org), Charité\n",
    "- Andrea Volkamer, 2018-2020, [Volkamer lab](https://volkamerlab.org), Charité"
   ]
  },
  {
   "cell_type": "markdown",
   "metadata": {},
   "source": [
    "__Talktorial T002__: This talktorial is part of the TeachOpenCADD pipeline described in the [first TeachOpenCADD paper](https://jcheminf.biomedcentral.com/articles/10.1186/s13321-019-0351-x), comprising of talktorials T001-T010."
   ]
  },
  {
   "cell_type": "markdown",
   "metadata": {},
   "source": [
    "## Aim of this talktorial\n",
    "\n",
    "In the context of drug design, it is important to filter candidate molecules by e.g. their physicochemical properties. In this talktorial, the compounds acquired from ChEMBL (__Talktorial T001__) will be filtered by Lipinsik's rule of five to keep only orally bioavailable compounds."
   ]
  },
  {
   "cell_type": "markdown",
   "metadata": {},
   "source": [
    "### Contents in _Theory_\n",
    "\n",
    "* ADME - absorption, distribution, metabolism, and excretion\n",
    "* Lead-likeness and Lipinski's rule of five (Ro5)\n",
    "* Radar charts in the context of lead-likeness"
   ]
  },
  {
   "cell_type": "markdown",
   "metadata": {},
   "source": [
    "### Contents in _Practical_\n",
    "\n",
    "* Define and visualize example molecules\n",
    "* Calculate and plot molecular properties for Ro5\n",
    "* Investigate compliance with Ro5\n",
    "* Apply Ro5 to the EGFR dataset\n",
    "* Visualize Ro5 properties (radar plot)"
   ]
  },
  {
   "cell_type": "markdown",
   "metadata": {},
   "source": [
    "### References\n",
    "\n",
    "* ADME criteria ([Wikipedia](https://en.wikipedia.org/wiki/ADME) and [<i>Mol Pharm.</i> (2010), <b>7(5)</b>, 1388-1405](https://www.ncbi.nlm.nih.gov/pmc/articles/PMC3025274/))\n",
    "* [SwissADME](https://www.nature.com/articles/srep42717) webserver\n",
    "* What are lead compounds? ([Wikipedia](https://en.wikipedia.org/wiki/Lead_compound))\n",
    "* What is the LogP value? ([Wikipedia](https://en.wikipedia.org/wiki/Partition_coefficient))\n",
    "* Lipinski et al. \"Experimental and computational approaches to estimate solubility and permeability in drug discovery and development settings.\" ([<i>Adv. Drug Deliv. Rev.</i> (1997), <b>23</b>, 3-25](https://www.sciencedirect.com/science/article/pii/S0169409X96004231))\n",
    "* Ritchie et al. \"Graphical representation of ADME-related molecule properties for medicinal chemists\" ([<i>Drug. Discov. Today</i> (2011), <b>16</b>, 65-72](https://www.ncbi.nlm.nih.gov/pubmed/21074634))"
   ]
  },
  {
   "cell_type": "markdown",
   "metadata": {},
   "source": [
    "## Theory\n",
    "\n",
    "In a virtual screening, we aim to predict whether a compound might bind to and interact with a specific target. However, if we want to identify a new drug, it is also important that this compound reaches the target and is eventually removed from the body in a favorable way. Therefore, we should also consider whether a compound is actually taken up into the body and whether it is able to cross certain barriers in order to reach its target. Is it metabolically stable and how will it be excreted once it is not acting at the target anymore? These processes are investigated in the field of pharmacokinetics. In contrast to pharmacodynamics (_\"What does the drug do to our body?\"_), pharmacokinetics deals with the question _\"What happens to the drug in our body?\"_. "
   ]
  },
  {
   "cell_type": "markdown",
   "metadata": {},
   "source": [
    "### ADME - absorption, distribution, metabolism, and excretion\n",
    "\n",
    "Pharmacokinetics are mainly divided into four steps: \n",
    "<strong>A</strong>bsorption, \n",
    "<strong>D</strong>istribution, \n",
    "<strong>M</strong>etabolism, and \n",
    "<strong>E</strong>xcretion. \n",
    "These are summarized as <strong>ADME</strong>. \n",
    "Often, ADME also includes <strong>T</strong>oxicology and is thus referred to as ADMET or ADMETox. \n",
    "Below, the ADME steps are discussed in more detail ([Wikipedia](https://en.wikipedia.org/wiki/ADME) and [<i>Mol Pharm.</i> (2010), <b>7(5)</b>, 1388-1405](https://www.ncbi.nlm.nih.gov/pmc/articles/PMC3025274/))."
   ]
  },
  {
   "cell_type": "markdown",
   "metadata": {},
   "source": [
    "__Absorption__: The amount and the time of drug-uptake into the body depends on multiple factors which can vary between individuals and their conditions as well as on the properties of the substance. Factors such as (poor) compound solubility, gastric emptying time, intestinal transit time, chemical (in-)stability in the stomach, and (in-)ability to permeate the intestinal wall can all influence the extent to which a drug is absorbed after e.g. oral administration, inhalation, or contact to skin."
   ]
  },
  {
   "cell_type": "markdown",
   "metadata": {},
   "source": [
    "__Distribution__: The distribution of an absorbed substance, i.e. within the body, between blood and different tissues, and crossing the blood-brain barrier are affected by regional blood flow rates, molecular size and polarity of the compound, and binding to serum proteins and transporter enzymes. Critical effects in toxicology can be the accumulation of highly apolar substances in fatty tissue, or crossing of the blood-brain barrier."
   ]
  },
  {
   "cell_type": "markdown",
   "metadata": {},
   "source": [
    "__Metabolism__: After entering the body, the compound will be metabolized. This means that only part of this compound will actually reach its target. Mainly liver and kidney enzymes are responsible for the break-down of xenobiotics (substances that are extrinsic to the body)."
   ]
  },
  {
   "cell_type": "markdown",
   "metadata": {},
   "source": [
    "__Excretion__: Compounds and their metabolites need to be removed from the body via excretion, usually through the kidneys (urine) or in the feces. Incomplete excretion can result in accumulation of foreign substances or adverse interference with normal metabolism."
   ]
  },
  {
   "cell_type": "markdown",
   "metadata": {},
   "source": [
    "![ADME processes in the human body](images/adme.png)\n",
    "\n",
    "_Figure 1_: ADME processes in the human body (figure taken from [Openclipart](https://openclipart.org/) and adapted)."
   ]
  },
  {
   "cell_type": "markdown",
   "metadata": {},
   "source": [
    "###  Lead-likeness and Lipinski's rule of five (Ro5)\n",
    "\n",
    "[<strong>Lead</strong> compounds](https://en.wikipedia.org/wiki/Lead_compound) are developmental drug candidates with promising properties. They are used as starting structures and modified with the aim to develop effective drugs. Besides bioactivity (_compound binds to the target of interest_), also favorable ADME properties are important criteria for the design of efficient drugs. \n",
    "\n",
    "The bioavailability of a compound is an important ADME property. Lipinski's rule of five (Ro5, [<i>Adv. Drug Deliv. Rev.</i> (1997), <b>23</b>, 3-25](https://www.sciencedirect.com/science/article/pii/S0169409X96004231)) was introduced to estimate the bioavailability of a compound solely based on its chemical structure.\n",
    "The Ro5 states that poor absorption or permeation of a compound is more probable if the chemical structure violates more than one of the following rules:\n",
    "\n",
    "- Molecular weight (MWT) <= 500 Da\n",
    "- Number of hydrogen bond acceptors (HBAs) <= 10\n",
    "- Number of hydrogen bond donors (HBD) <= 5 \n",
    "- Calculated LogP (octanol-water coefficient) <= 5\n",
    "\n",
    "Note: All numbers in the Ro5 are multiples of five; this is the origin of the rule's name.\n",
    "\n",
    "Additional remarks:\n",
    "\n",
    "- [LogP](https://en.wikipedia.org/wiki/Partition_coefficient) is also called partition coefficient or octanol-water coefficient. It measures the distribution of a compound, usually between a hydrophobic (e.g. 1-octanol) and a hydrophilic (e.g. water) phase. \n",
    "- Hydrophobic molecules might have a reduced solubility in water, while more hydrophilic molecules (e.g. high number of hydrogen bond acceptors and donors) or large molecules (high molecular weight) might have more difficulties in passing phospholipid membranes."
   ]
  },
  {
   "cell_type": "markdown",
   "metadata": {},
   "source": [
    "### Radar charts in the context of lead-likeness\n",
    "\n",
    "Molecular properties, such as the Ro5 properties, can be visualized in multiple ways  (e.g. craig plots, flower plots, or golden triangle) to support the interpretation by medicinal chemists ([<i>Drug. Discov. Today</i> (2011), <b>16(1-2)</b>, 65-72](https://www.ncbi.nlm.nih.gov/pubmed/21074634)).\n",
    "\n",
    "Due to their appearance, [radar charts](https://en.wikipedia.org/wiki/Radar_chart) are sometimes also called \"spider\" or \"cobweb\" plots. \n",
    "They are arranged circularly in 360 degrees and have one axis, starting in the center, for each condition. The values for each parameter are plotted on the axis and connected with a line. \n",
    "A shaded area can indicate the region where the parameters meet the conditions.\n",
    "\n",
    "![Radar plot for physicochemical properties](images/radarplot.png)\n",
    "\n",
    "_Figure 2_: Radar plot displaying physico-chemical properties of a compound dataset\n"
   ]
  },
  {
   "cell_type": "markdown",
   "metadata": {},
   "source": [
    "## Practical"
   ]
  },
  {
   "cell_type": "code",
   "execution_count": 1,
   "metadata": {},
   "outputs": [],
   "source": [
    "from pathlib import Path\n",
    "import math\n",
    "\n",
    "import numpy as np\n",
    "import pandas as pd\n",
    "import matplotlib.pyplot as plt\n",
    "from matplotlib.lines import Line2D\n",
    "import matplotlib.patches as mpatches\n",
    "from rdkit import Chem\n",
    "from rdkit.Chem import Descriptors, Draw, PandasTools"
   ]
  },
  {
   "cell_type": "code",
   "execution_count": 2,
   "metadata": {},
   "outputs": [],
   "source": [
    "# Set path to this notebook\n",
    "HERE = Path(_dh[-1])\n",
    "DATA = HERE / \"data\""
   ]
  },
  {
   "cell_type": "markdown",
   "metadata": {},
   "source": [
    "### Define and visualize example molecules\n",
    "\n",
    "Before working with the whole dataset retrieved from ChEMBL, we pick four example compounds to investigate their chemical properties.\n",
    "We draw four example molecules from their SMILES."
   ]
  },
  {
   "cell_type": "code",
   "execution_count": 3,
   "metadata": {},
   "outputs": [],
   "source": [
    "smiles = [\n",
    "    \"CCC1C(=O)N(CC(=O)N(C(C(=O)NC(C(=O)N(C(C(=O)NC(C(=O)NC(C(=O)N(C(C(=O)N(C(C(=O)N(C(C(=O)N(C(C(=O)N1)C(C(C)CC=CC)O)C)C(C)C)C)CC(C)C)C)CC(C)C)C)C)C)CC(C)C)C)C(C)C)CC(C)C)C)C\",\n",
    "    \"CN1CCN(CC1)C2=C3C=CC=CC3=NC4=C(N2)C=C(C=C4)C\",\n",
    "    \"CC1=C(C(CCC1)(C)C)C=CC(=CC=CC(=CC=CC=C(C)C=CC=C(C)C=CC2=C(CCCC2(C)C)C)C)C\",\n",
    "    \"CCCCCC1=CC(=C(C(=C1)O)C2C=C(CCC2C(=C)C)C)O\",\n",
    "]\n",
    "names = [\"cyclosporine\", \"clozapine\", \"beta-carotene\", \"cannabidiol\"]"
   ]
  },
  {
   "cell_type": "markdown",
   "metadata": {},
   "source": [
    "First, we combine the names and SMILES of the molecules, together with their structure, in a DataFrame."
   ]
  },
  {
   "cell_type": "code",
   "execution_count": 4,
   "metadata": {},
   "outputs": [
    {
     "data": {
      "text/html": [
       "<div>\n",
       "<style scoped>\n",
       "    .dataframe tbody tr th:only-of-type {\n",
       "        vertical-align: middle;\n",
       "    }\n",
       "\n",
       "    .dataframe tbody tr th {\n",
       "        vertical-align: top;\n",
       "    }\n",
       "\n",
       "    .dataframe thead th {\n",
       "        text-align: right;\n",
       "    }\n",
       "</style>\n",
       "<table border=\"1\" class=\"dataframe\">\n",
       "  <thead>\n",
       "    <tr style=\"text-align: right;\">\n",
       "      <th></th>\n",
       "      <th>name</th>\n",
       "      <th>smiles</th>\n",
       "      <th>ROMol</th>\n",
       "    </tr>\n",
       "  </thead>\n",
       "  <tbody>\n",
       "    <tr>\n",
       "      <th>0</th>\n",
       "      <td>cyclosporine</td>\n",
       "      <td>CCC1C(=O)N(CC(=O)N(C(C(=O)NC(C(=O)N(C(C(=O)NC(...</td>\n",
       "      <td style=\"text-align: center;\"><div style=\"width: 200px; height: 200px\" data-content=\"rdkit/molecule\"><img src=\"data:image/png;base64,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\" alt=\"Mol\"/></div></td>\n",
       "    </tr>\n",
       "    <tr>\n",
       "      <th>1</th>\n",
       "      <td>clozapine</td>\n",
       "      <td>CN1CCN(CC1)C2=C3C=CC=CC3=NC4=C(N2)C=C(C=C4)C</td>\n",
       "      <td style=\"text-align: center;\"><div style=\"width: 200px; height: 200px\" data-content=\"rdkit/molecule\"><img src=\"data:image/png;base64,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\" alt=\"Mol\"/></div></td>\n",
       "    </tr>\n",
       "    <tr>\n",
       "      <th>2</th>\n",
       "      <td>beta-carotene</td>\n",
       "      <td>CC1=C(C(CCC1)(C)C)C=CC(=CC=CC(=CC=CC=C(C)C=CC=...</td>\n",
       "      <td style=\"text-align: center;\"><div style=\"width: 200px; height: 200px\" data-content=\"rdkit/molecule\"><img src=\"data:image/png;base64,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\" alt=\"Mol\"/></div></td>\n",
       "    </tr>\n",
       "    <tr>\n",
       "      <th>3</th>\n",
       "      <td>cannabidiol</td>\n",
       "      <td>CCCCCC1=CC(=C(C(=C1)O)C2C=C(CCC2C(=C)C)C)O</td>\n",
       "      <td style=\"text-align: center;\"><div style=\"width: 200px; height: 200px\" data-content=\"rdkit/molecule\"><img src=\"data:image/png;base64,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\" alt=\"Mol\"/></div></td>\n",
       "    </tr>\n",
       "  </tbody>\n",
       "</table>\n",
       "</div>"
      ],
      "text/plain": [
       "            name                                             smiles  \\\n",
       "0   cyclosporine  CCC1C(=O)N(CC(=O)N(C(C(=O)NC(C(=O)N(C(C(=O)NC(...   \n",
       "1      clozapine       CN1CCN(CC1)C2=C3C=CC=CC3=NC4=C(N2)C=C(C=C4)C   \n",
       "2  beta-carotene  CC1=C(C(CCC1)(C)C)C=CC(=CC=CC(=CC=CC=C(C)C=CC=...   \n",
       "3    cannabidiol         CCCCCC1=CC(=C(C(=C1)O)C2C=C(CCC2C(=C)C)C)O   \n",
       "\n",
       "                                              ROMol  \n",
       "0  <rdkit.Chem.rdchem.Mol object at 0x7f7525231770>  \n",
       "1  <rdkit.Chem.rdchem.Mol object at 0x7f7525231690>  \n",
       "2  <rdkit.Chem.rdchem.Mol object at 0x7f75252318c0>  \n",
       "3  <rdkit.Chem.rdchem.Mol object at 0x7f7525231850>  "
      ]
     },
     "execution_count": 4,
     "metadata": {},
     "output_type": "execute_result"
    }
   ],
   "source": [
    "molecules = pd.DataFrame({\"name\": names, \"smiles\": smiles})\n",
    "PandasTools.AddMoleculeColumnToFrame(molecules, \"smiles\")\n",
    "molecules"
   ]
  },
  {
   "cell_type": "markdown",
   "metadata": {},
   "source": [
    "### Calculate and plot molecular properties for Ro5\n",
    "\n",
    "1. Calculate molecular weight, number of hydrogen bond acceptors and donors, and logP using some of the [descriptors](http://www.rdkit.org/docs/GettingStartedInPython.html#descriptor-calculation) available in `rdkit`."
   ]
  },
  {
   "cell_type": "code",
   "execution_count": 5,
   "metadata": {},
   "outputs": [
    {
     "data": {
      "text/html": [
       "<div>\n",
       "<style scoped>\n",
       "    .dataframe tbody tr th:only-of-type {\n",
       "        vertical-align: middle;\n",
       "    }\n",
       "\n",
       "    .dataframe tbody tr th {\n",
       "        vertical-align: top;\n",
       "    }\n",
       "\n",
       "    .dataframe thead th {\n",
       "        text-align: right;\n",
       "    }\n",
       "</style>\n",
       "<table border=\"1\" class=\"dataframe\">\n",
       "  <thead>\n",
       "    <tr style=\"text-align: right;\">\n",
       "      <th></th>\n",
       "      <th>molecular_weight</th>\n",
       "      <th>n_hba</th>\n",
       "      <th>n_hbd</th>\n",
       "      <th>logp</th>\n",
       "    </tr>\n",
       "  </thead>\n",
       "  <tbody>\n",
       "    <tr>\n",
       "      <th>0</th>\n",
       "      <td>1201.841368</td>\n",
       "      <td>12</td>\n",
       "      <td>5</td>\n",
       "      <td>3.26900</td>\n",
       "    </tr>\n",
       "    <tr>\n",
       "      <th>1</th>\n",
       "      <td>306.184447</td>\n",
       "      <td>4</td>\n",
       "      <td>1</td>\n",
       "      <td>1.68492</td>\n",
       "    </tr>\n",
       "    <tr>\n",
       "      <th>2</th>\n",
       "      <td>536.438202</td>\n",
       "      <td>0</td>\n",
       "      <td>0</td>\n",
       "      <td>12.60580</td>\n",
       "    </tr>\n",
       "    <tr>\n",
       "      <th>3</th>\n",
       "      <td>314.224580</td>\n",
       "      <td>2</td>\n",
       "      <td>2</td>\n",
       "      <td>5.84650</td>\n",
       "    </tr>\n",
       "  </tbody>\n",
       "</table>\n",
       "</div>"
      ],
      "text/plain": [
       "   molecular_weight  n_hba  n_hbd      logp\n",
       "0       1201.841368     12      5   3.26900\n",
       "1        306.184447      4      1   1.68492\n",
       "2        536.438202      0      0  12.60580\n",
       "3        314.224580      2      2   5.84650"
      ]
     },
     "execution_count": 5,
     "metadata": {},
     "output_type": "execute_result"
    }
   ],
   "source": [
    "molecules[\"molecular_weight\"] = molecules[\"ROMol\"].apply(Descriptors.ExactMolWt)\n",
    "molecules[\"n_hba\"] = molecules[\"ROMol\"].apply(Descriptors.NumHAcceptors)\n",
    "molecules[\"n_hbd\"] = molecules[\"ROMol\"].apply(Descriptors.NumHDonors)\n",
    "molecules[\"logp\"] = molecules[\"ROMol\"].apply(Descriptors.MolLogP)\n",
    "# Colors are used for plotting the molecules later\n",
    "molecules[\"color\"] = [\"red\", \"green\", \"blue\", \"cyan\"]\n",
    "# NBVAL_CHECK_OUTPUT\n",
    "molecules[[\"molecular_weight\", \"n_hba\", \"n_hbd\", \"logp\"]]"
   ]
  },
  {
   "cell_type": "code",
   "execution_count": 6,
   "metadata": {},
   "outputs": [
    {
     "data": {
      "text/html": [
       "<div>\n",
       "<style scoped>\n",
       "    .dataframe tbody tr th:only-of-type {\n",
       "        vertical-align: middle;\n",
       "    }\n",
       "\n",
       "    .dataframe tbody tr th {\n",
       "        vertical-align: top;\n",
       "    }\n",
       "\n",
       "    .dataframe thead th {\n",
       "        text-align: right;\n",
       "    }\n",
       "</style>\n",
       "<table border=\"1\" class=\"dataframe\">\n",
       "  <thead>\n",
       "    <tr style=\"text-align: right;\">\n",
       "      <th></th>\n",
       "      <th>name</th>\n",
       "      <th>smiles</th>\n",
       "      <th>ROMol</th>\n",
       "      <th>molecular_weight</th>\n",
       "      <th>n_hba</th>\n",
       "      <th>n_hbd</th>\n",
       "      <th>logp</th>\n",
       "      <th>color</th>\n",
       "    </tr>\n",
       "  </thead>\n",
       "  <tbody>\n",
       "    <tr>\n",
       "      <th>0</th>\n",
       "      <td>cyclosporine</td>\n",
       "      <td>CCC1C(=O)N(CC(=O)N(C(C(=O)NC(C(=O)N(C(C(=O)NC(...</td>\n",
       "      <td style=\"text-align: center;\"><div style=\"width: 200px; height: 200px\" data-content=\"rdkit/molecule\"><img src=\"data:image/png;base64,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\" alt=\"Mol\"/></div></td>\n",
       "      <td>1201.841368</td>\n",
       "      <td>12</td>\n",
       "      <td>5</td>\n",
       "      <td>3.26900</td>\n",
       "      <td>red</td>\n",
       "    </tr>\n",
       "    <tr>\n",
       "      <th>1</th>\n",
       "      <td>clozapine</td>\n",
       "      <td>CN1CCN(CC1)C2=C3C=CC=CC3=NC4=C(N2)C=C(C=C4)C</td>\n",
       "      <td style=\"text-align: center;\"><div style=\"width: 200px; height: 200px\" data-content=\"rdkit/molecule\"><img src=\"data:image/png;base64,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\" alt=\"Mol\"/></div></td>\n",
       "      <td>306.184447</td>\n",
       "      <td>4</td>\n",
       "      <td>1</td>\n",
       "      <td>1.68492</td>\n",
       "      <td>green</td>\n",
       "    </tr>\n",
       "    <tr>\n",
       "      <th>2</th>\n",
       "      <td>beta-carotene</td>\n",
       "      <td>CC1=C(C(CCC1)(C)C)C=CC(=CC=CC(=CC=CC=C(C)C=CC=...</td>\n",
       "      <td style=\"text-align: center;\"><div style=\"width: 200px; height: 200px\" data-content=\"rdkit/molecule\"><img src=\"data:image/png;base64,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\" alt=\"Mol\"/></div></td>\n",
       "      <td>536.438202</td>\n",
       "      <td>0</td>\n",
       "      <td>0</td>\n",
       "      <td>12.60580</td>\n",
       "      <td>blue</td>\n",
       "    </tr>\n",
       "    <tr>\n",
       "      <th>3</th>\n",
       "      <td>cannabidiol</td>\n",
       "      <td>CCCCCC1=CC(=C(C(=C1)O)C2C=C(CCC2C(=C)C)C)O</td>\n",
       "      <td style=\"text-align: center;\"><div style=\"width: 200px; height: 200px\" data-content=\"rdkit/molecule\"><img src=\"data:image/png;base64,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\" alt=\"Mol\"/></div></td>\n",
       "      <td>314.224580</td>\n",
       "      <td>2</td>\n",
       "      <td>2</td>\n",
       "      <td>5.84650</td>\n",
       "      <td>cyan</td>\n",
       "    </tr>\n",
       "  </tbody>\n",
       "</table>\n",
       "</div>"
      ],
      "text/plain": [
       "            name                                             smiles  \\\n",
       "0   cyclosporine  CCC1C(=O)N(CC(=O)N(C(C(=O)NC(C(=O)N(C(C(=O)NC(...   \n",
       "1      clozapine       CN1CCN(CC1)C2=C3C=CC=CC3=NC4=C(N2)C=C(C=C4)C   \n",
       "2  beta-carotene  CC1=C(C(CCC1)(C)C)C=CC(=CC=CC(=CC=CC=C(C)C=CC=...   \n",
       "3    cannabidiol         CCCCCC1=CC(=C(C(=C1)O)C2C=C(CCC2C(=C)C)C)O   \n",
       "\n",
       "                                              ROMol  molecular_weight  n_hba  \\\n",
       "0  <rdkit.Chem.rdchem.Mol object at 0x7f7525231770>       1201.841368     12   \n",
       "1  <rdkit.Chem.rdchem.Mol object at 0x7f7525231690>        306.184447      4   \n",
       "2  <rdkit.Chem.rdchem.Mol object at 0x7f75252318c0>        536.438202      0   \n",
       "3  <rdkit.Chem.rdchem.Mol object at 0x7f7525231850>        314.224580      2   \n",
       "\n",
       "   n_hbd      logp  color  \n",
       "0      5   3.26900    red  \n",
       "1      1   1.68492  green  \n",
       "2      0  12.60580   blue  \n",
       "3      2   5.84650   cyan  "
      ]
     },
     "execution_count": 6,
     "metadata": {},
     "output_type": "execute_result"
    }
   ],
   "source": [
    "# Full preview\n",
    "molecules"
   ]
  },
  {
   "cell_type": "markdown",
   "metadata": {},
   "source": [
    "2. Plot the molecule properties as bar plots."
   ]
  },
  {
   "cell_type": "code",
   "execution_count": 7,
   "metadata": {},
   "outputs": [],
   "source": [
    "ro5_properties = {\n",
    "    \"molecular_weight\": (500, \"molecular weight (Da)\"),\n",
    "    \"n_hba\": (10, \"# HBA\"),\n",
    "    \"n_hbd\": (5, \"# HBD\"),\n",
    "    \"logp\": (5, \"logP\"),\n",
    "}"
   ]
  },
  {
   "cell_type": "code",
   "execution_count": 8,
   "metadata": {},
   "outputs": [
    {
     "data": {
      "image/png": "[encoded data removed]",
      "text/plain": [
       "<Figure size 1000x250 with 4 Axes>"
      ]
     },
     "metadata": {},
     "output_type": "display_data"
    }
   ],
   "source": [
    "# Start 1x4 plot frame\n",
    "fig, axes = plt.subplots(figsize=(10, 2.5), nrows=1, ncols=4)\n",
    "x = np.arange(1, len(molecules) + 1)\n",
    "colors = [\"red\", \"green\", \"blue\", \"cyan\"]\n",
    "\n",
    "# Create subplots\n",
    "for index, (key, (threshold, title)) in enumerate(ro5_properties.items()):\n",
    "    axes[index].bar([1, 2, 3, 4], molecules[key], color=colors)\n",
    "    axes[index].axhline(y=threshold, color=\"black\", linestyle=\"dashed\")\n",
    "    axes[index].set_title(title)\n",
    "    axes[index].set_xticks([])\n",
    "\n",
    "# Add legend\n",
    "legend_elements = [\n",
    "    mpatches.Patch(color=row[\"color\"], label=row[\"name\"]) for index, row in molecules.iterrows()\n",
    "]\n",
    "legend_elements.append(Line2D([0], [0], color=\"black\", ls=\"dashed\", label=\"Threshold\"))\n",
    "fig.legend(handles=legend_elements, bbox_to_anchor=(1.2, 0.8))\n",
    "\n",
    "# Fit subplots and legend into figure\n",
    "plt.tight_layout()\n",
    "plt.show()"
   ]
  },
  {
   "cell_type": "markdown",
   "metadata": {},
   "source": [
    "In the bar chart, we compared the Ro5 properties for four example molecules with different properties. In the next steps, we will investigate for each compound whether it violates the Ro5."
   ]
  },
  {
   "cell_type": "markdown",
   "metadata": {},
   "source": [
    "### Investigate compliance with Ro5"
   ]
  },
  {
   "cell_type": "code",
   "execution_count": 9,
   "metadata": {},
   "outputs": [],
   "source": [
    "def calculate_ro5_properties(smiles):\n",
    "    \"\"\"\n",
    "    Test if input molecule (SMILES) fulfills Lipinski's rule of five.\n",
    "\n",
    "    Parameters\n",
    "    ----------\n",
    "    smiles : str\n",
    "        SMILES for a molecule.\n",
    "\n",
    "    Returns\n",
    "    -------\n",
    "    pandas.Series\n",
    "        Molecular weight, number of hydrogen bond acceptors/donor and logP value\n",
    "        and Lipinski's rule of five compliance for input molecule.\n",
    "    \"\"\"\n",
    "    # RDKit molecule from SMILES\n",
    "    molecule = Chem.MolFromSmiles(smiles)\n",
    "    # Calculate Ro5-relevant chemical properties\n",
    "    molecular_weight = Descriptors.ExactMolWt(molecule)\n",
    "    n_hba = Descriptors.NumHAcceptors(molecule)\n",
    "    n_hbd = Descriptors.NumHDonors(molecule)\n",
    "    logp = Descriptors.MolLogP(molecule)\n",
    "    # Check if Ro5 conditions fulfilled\n",
    "    conditions = [molecular_weight <= 500, n_hba <= 10, n_hbd <= 5, logp <= 5]\n",
    "    ro5_fulfilled = sum(conditions) >= 3\n",
    "    # Return True if no more than one out of four conditions is violated\n",
    "    return pd.Series(\n",
    "        [molecular_weight, n_hba, n_hbd, logp, ro5_fulfilled],\n",
    "        index=[\"molecular_weight\", \"n_hba\", \"n_hbd\", \"logp\", \"ro5_fulfilled\"],\n",
    "    )"
   ]
  },
  {
   "cell_type": "code",
   "execution_count": 10,
   "metadata": {},
   "outputs": [
    {
     "name": "stdout",
     "output_type": "stream",
     "text": [
      "Ro5 fulfilled for cyclosporine: False\n",
      "Ro5 fulfilled for clozapine: True\n",
      "Ro5 fulfilled for beta-carotene: False\n",
      "Ro5 fulfilled for cannabidiol: True\n"
     ]
    }
   ],
   "source": [
    "# NBVAL_CHECK_OUTPUT\n",
    "for name, smiles in zip(molecules[\"name\"], molecules[\"smiles\"]):\n",
    "    print(f\"Ro5 fulfilled for {name}: {calculate_ro5_properties(smiles)['ro5_fulfilled']}\")"
   ]
  },
  {
   "cell_type": "markdown",
   "metadata": {},
   "source": [
    "According to the Ro5, cyclosporin and betacarotene are estimated to have poor bioavailability. However, since all of them are approved drugs, they are good examples of how the Ro5 can be used as an alert but should not necessarily be used as a filter."
   ]
  },
  {
   "cell_type": "markdown",
   "metadata": {},
   "source": [
    "### Apply Ro5 to the EGFR dataset\n",
    "\n",
    "The `calculate_ro5_properties` function can be applied to the EGFR dataset for Ro5-compliant compounds."
   ]
  },
  {
   "cell_type": "code",
   "execution_count": 11,
   "metadata": {
    "scrolled": true
   },
   "outputs": [
    {
     "name": "stdout",
     "output_type": "stream",
     "text": [
      "(5568, 5)\n"
     ]
    },
    {
     "data": {
      "text/html": [
       "<div>\n",
       "<style scoped>\n",
       "    .dataframe tbody tr th:only-of-type {\n",
       "        vertical-align: middle;\n",
       "    }\n",
       "\n",
       "    .dataframe tbody tr th {\n",
       "        vertical-align: top;\n",
       "    }\n",
       "\n",
       "    .dataframe thead th {\n",
       "        text-align: right;\n",
       "    }\n",
       "</style>\n",
       "<table border=\"1\" class=\"dataframe\">\n",
       "  <thead>\n",
       "    <tr style=\"text-align: right;\">\n",
       "      <th></th>\n",
       "      <th>molecule_chembl_id</th>\n",
       "      <th>IC50</th>\n",
       "      <th>units</th>\n",
       "      <th>smiles</th>\n",
       "      <th>pIC50</th>\n",
       "    </tr>\n",
       "  </thead>\n",
       "  <tbody>\n",
       "    <tr>\n",
       "      <th>0</th>\n",
       "      <td>CHEMBL63786</td>\n",
       "      <td>0.003</td>\n",
       "      <td>nM</td>\n",
       "      <td>Brc1cccc(Nc2ncnc3cc4ccccc4cc23)c1</td>\n",
       "      <td>11.522879</td>\n",
       "    </tr>\n",
       "    <tr>\n",
       "      <th>1</th>\n",
       "      <td>CHEMBL35820</td>\n",
       "      <td>0.006</td>\n",
       "      <td>nM</td>\n",
       "      <td>CCOc1cc2ncnc(Nc3cccc(Br)c3)c2cc1OCC</td>\n",
       "      <td>11.221849</td>\n",
       "    </tr>\n",
       "    <tr>\n",
       "      <th>2</th>\n",
       "      <td>CHEMBL53711</td>\n",
       "      <td>0.006</td>\n",
       "      <td>nM</td>\n",
       "      <td>CN(C)c1cc2c(Nc3cccc(Br)c3)ncnc2cn1</td>\n",
       "      <td>11.221849</td>\n",
       "    </tr>\n",
       "    <tr>\n",
       "      <th>3</th>\n",
       "      <td>CHEMBL66031</td>\n",
       "      <td>0.008</td>\n",
       "      <td>nM</td>\n",
       "      <td>Brc1cccc(Nc2ncnc3cc4[nH]cnc4cc23)c1</td>\n",
       "      <td>11.096910</td>\n",
       "    </tr>\n",
       "    <tr>\n",
       "      <th>4</th>\n",
       "      <td>CHEMBL53753</td>\n",
       "      <td>0.008</td>\n",
       "      <td>nM</td>\n",
       "      <td>CNc1cc2c(Nc3cccc(Br)c3)ncnc2cn1</td>\n",
       "      <td>11.096910</td>\n",
       "    </tr>\n",
       "  </tbody>\n",
       "</table>\n",
       "</div>"
      ],
      "text/plain": [
       "  molecule_chembl_id   IC50 units                               smiles  \\\n",
       "0        CHEMBL63786  0.003    nM    Brc1cccc(Nc2ncnc3cc4ccccc4cc23)c1   \n",
       "1        CHEMBL35820  0.006    nM  CCOc1cc2ncnc(Nc3cccc(Br)c3)c2cc1OCC   \n",
       "2        CHEMBL53711  0.006    nM   CN(C)c1cc2c(Nc3cccc(Br)c3)ncnc2cn1   \n",
       "3        CHEMBL66031  0.008    nM  Brc1cccc(Nc2ncnc3cc4[nH]cnc4cc23)c1   \n",
       "4        CHEMBL53753  0.008    nM      CNc1cc2c(Nc3cccc(Br)c3)ncnc2cn1   \n",
       "\n",
       "       pIC50  \n",
       "0  11.522879  \n",
       "1  11.221849  \n",
       "2  11.221849  \n",
       "3  11.096910  \n",
       "4  11.096910  "
      ]
     },
     "execution_count": 11,
     "metadata": {},
     "output_type": "execute_result"
    }
   ],
   "source": [
    "molecules = pd.read_csv(HERE / \"../T001_query_chembl/data/EGFR_compounds.csv\", index_col=0)\n",
    "print(molecules.shape)\n",
    "molecules.head()"
   ]
  },
  {
   "cell_type": "markdown",
   "metadata": {},
   "source": [
    "Apply the Ro5 to all molecules."
   ]
  },
  {
   "cell_type": "code",
   "execution_count": 12,
   "metadata": {},
   "outputs": [
    {
     "data": {
      "text/html": [
       "<div>\n",
       "<style scoped>\n",
       "    .dataframe tbody tr th:only-of-type {\n",
       "        vertical-align: middle;\n",
       "    }\n",
       "\n",
       "    .dataframe tbody tr th {\n",
       "        vertical-align: top;\n",
       "    }\n",
       "\n",
       "    .dataframe thead th {\n",
       "        text-align: right;\n",
       "    }\n",
       "</style>\n",
       "<table border=\"1\" class=\"dataframe\">\n",
       "  <thead>\n",
       "    <tr style=\"text-align: right;\">\n",
       "      <th></th>\n",
       "      <th>molecular_weight</th>\n",
       "      <th>n_hba</th>\n",
       "      <th>n_hbd</th>\n",
       "      <th>logp</th>\n",
       "      <th>ro5_fulfilled</th>\n",
       "    </tr>\n",
       "  </thead>\n",
       "  <tbody>\n",
       "    <tr>\n",
       "      <th>0</th>\n",
       "      <td>349.021459</td>\n",
       "      <td>3</td>\n",
       "      <td>1</td>\n",
       "      <td>5.2891</td>\n",
       "      <td>True</td>\n",
       "    </tr>\n",
       "    <tr>\n",
       "      <th>1</th>\n",
       "      <td>387.058239</td>\n",
       "      <td>5</td>\n",
       "      <td>1</td>\n",
       "      <td>4.9333</td>\n",
       "      <td>True</td>\n",
       "    </tr>\n",
       "    <tr>\n",
       "      <th>2</th>\n",
       "      <td>343.043258</td>\n",
       "      <td>5</td>\n",
       "      <td>1</td>\n",
       "      <td>3.5969</td>\n",
       "      <td>True</td>\n",
       "    </tr>\n",
       "    <tr>\n",
       "      <th>3</th>\n",
       "      <td>339.011957</td>\n",
       "      <td>4</td>\n",
       "      <td>2</td>\n",
       "      <td>4.0122</td>\n",
       "      <td>True</td>\n",
       "    </tr>\n",
       "    <tr>\n",
       "      <th>4</th>\n",
       "      <td>329.027607</td>\n",
       "      <td>5</td>\n",
       "      <td>2</td>\n",
       "      <td>3.5726</td>\n",
       "      <td>True</td>\n",
       "    </tr>\n",
       "  </tbody>\n",
       "</table>\n",
       "</div>"
      ],
      "text/plain": [
       "   molecular_weight  n_hba  n_hbd    logp  ro5_fulfilled\n",
       "0        349.021459      3      1  5.2891           True\n",
       "1        387.058239      5      1  4.9333           True\n",
       "2        343.043258      5      1  3.5969           True\n",
       "3        339.011957      4      2  4.0122           True\n",
       "4        329.027607      5      2  3.5726           True"
      ]
     },
     "execution_count": 12,
     "metadata": {},
     "output_type": "execute_result"
    }
   ],
   "source": [
    "# This takes a couple of seconds\n",
    "ro5_properties = molecules[\"smiles\"].apply(calculate_ro5_properties)\n",
    "ro5_properties.head()"
   ]
  },
  {
   "cell_type": "markdown",
   "metadata": {},
   "source": [
    "Concatenate molecules with Ro5 data."
   ]
  },
  {
   "cell_type": "code",
   "execution_count": 13,
   "metadata": {},
   "outputs": [
    {
     "data": {
      "text/html": [
       "<div>\n",
       "<style scoped>\n",
       "    .dataframe tbody tr th:only-of-type {\n",
       "        vertical-align: middle;\n",
       "    }\n",
       "\n",
       "    .dataframe tbody tr th {\n",
       "        vertical-align: top;\n",
       "    }\n",
       "\n",
       "    .dataframe thead th {\n",
       "        text-align: right;\n",
       "    }\n",
       "</style>\n",
       "<table border=\"1\" class=\"dataframe\">\n",
       "  <thead>\n",
       "    <tr style=\"text-align: right;\">\n",
       "      <th></th>\n",
       "      <th>molecule_chembl_id</th>\n",
       "      <th>IC50</th>\n",
       "      <th>units</th>\n",
       "      <th>smiles</th>\n",
       "      <th>pIC50</th>\n",
       "      <th>molecular_weight</th>\n",
       "      <th>n_hba</th>\n",
       "      <th>n_hbd</th>\n",
       "      <th>logp</th>\n",
       "      <th>ro5_fulfilled</th>\n",
       "    </tr>\n",
       "  </thead>\n",
       "  <tbody>\n",
       "    <tr>\n",
       "      <th>0</th>\n",
       "      <td>CHEMBL63786</td>\n",
       "      <td>0.003</td>\n",
       "      <td>nM</td>\n",
       "      <td>Brc1cccc(Nc2ncnc3cc4ccccc4cc23)c1</td>\n",
       "      <td>11.522879</td>\n",
       "      <td>349.021459</td>\n",
       "      <td>3</td>\n",
       "      <td>1</td>\n",
       "      <td>5.2891</td>\n",
       "      <td>True</td>\n",
       "    </tr>\n",
       "    <tr>\n",
       "      <th>1</th>\n",
       "      <td>CHEMBL35820</td>\n",
       "      <td>0.006</td>\n",
       "      <td>nM</td>\n",
       "      <td>CCOc1cc2ncnc(Nc3cccc(Br)c3)c2cc1OCC</td>\n",
       "      <td>11.221849</td>\n",
       "      <td>387.058239</td>\n",
       "      <td>5</td>\n",
       "      <td>1</td>\n",
       "      <td>4.9333</td>\n",
       "      <td>True</td>\n",
       "    </tr>\n",
       "    <tr>\n",
       "      <th>2</th>\n",
       "      <td>CHEMBL53711</td>\n",
       "      <td>0.006</td>\n",
       "      <td>nM</td>\n",
       "      <td>CN(C)c1cc2c(Nc3cccc(Br)c3)ncnc2cn1</td>\n",
       "      <td>11.221849</td>\n",
       "      <td>343.043258</td>\n",
       "      <td>5</td>\n",
       "      <td>1</td>\n",
       "      <td>3.5969</td>\n",
       "      <td>True</td>\n",
       "    </tr>\n",
       "    <tr>\n",
       "      <th>3</th>\n",
       "      <td>CHEMBL66031</td>\n",
       "      <td>0.008</td>\n",
       "      <td>nM</td>\n",
       "      <td>Brc1cccc(Nc2ncnc3cc4[nH]cnc4cc23)c1</td>\n",
       "      <td>11.096910</td>\n",
       "      <td>339.011957</td>\n",
       "      <td>4</td>\n",
       "      <td>2</td>\n",
       "      <td>4.0122</td>\n",
       "      <td>True</td>\n",
       "    </tr>\n",
       "    <tr>\n",
       "      <th>4</th>\n",
       "      <td>CHEMBL53753</td>\n",
       "      <td>0.008</td>\n",
       "      <td>nM</td>\n",
       "      <td>CNc1cc2c(Nc3cccc(Br)c3)ncnc2cn1</td>\n",
       "      <td>11.096910</td>\n",
       "      <td>329.027607</td>\n",
       "      <td>5</td>\n",
       "      <td>2</td>\n",
       "      <td>3.5726</td>\n",
       "      <td>True</td>\n",
       "    </tr>\n",
       "  </tbody>\n",
       "</table>\n",
       "</div>"
      ],
      "text/plain": [
       "  molecule_chembl_id   IC50 units                               smiles  \\\n",
       "0        CHEMBL63786  0.003    nM    Brc1cccc(Nc2ncnc3cc4ccccc4cc23)c1   \n",
       "1        CHEMBL35820  0.006    nM  CCOc1cc2ncnc(Nc3cccc(Br)c3)c2cc1OCC   \n",
       "2        CHEMBL53711  0.006    nM   CN(C)c1cc2c(Nc3cccc(Br)c3)ncnc2cn1   \n",
       "3        CHEMBL66031  0.008    nM  Brc1cccc(Nc2ncnc3cc4[nH]cnc4cc23)c1   \n",
       "4        CHEMBL53753  0.008    nM      CNc1cc2c(Nc3cccc(Br)c3)ncnc2cn1   \n",
       "\n",
       "       pIC50  molecular_weight  n_hba  n_hbd    logp  ro5_fulfilled  \n",
       "0  11.522879        349.021459      3      1  5.2891           True  \n",
       "1  11.221849        387.058239      5      1  4.9333           True  \n",
       "2  11.221849        343.043258      5      1  3.5969           True  \n",
       "3  11.096910        339.011957      4      2  4.0122           True  \n",
       "4  11.096910        329.027607      5      2  3.5726           True  "
      ]
     },
     "execution_count": 13,
     "metadata": {},
     "output_type": "execute_result"
    }
   ],
   "source": [
    "molecules = pd.concat([molecules, ro5_properties], axis=1)\n",
    "molecules.head()"
   ]
  },
  {
   "cell_type": "code",
   "execution_count": 14,
   "metadata": {},
   "outputs": [
    {
     "name": "stdout",
     "output_type": "stream",
     "text": [
      "# compounds in unfiltered data set: 5568\n",
      "# compounds in filtered data set: 4635\n",
      "# compounds not compliant with the Ro5: 933\n"
     ]
    }
   ],
   "source": [
    "# Note that the column \"ro5_fulfilled\" contains boolean values.\n",
    "# Thus, we can use the column values directly to subset data.\n",
    "# Note that ~ negates boolean values.\n",
    "molecules_ro5_fulfilled = molecules[molecules[\"ro5_fulfilled\"]]\n",
    "molecules_ro5_violated = molecules[~molecules[\"ro5_fulfilled\"]]\n",
    "\n",
    "print(f\"# compounds in unfiltered data set: {molecules.shape[0]}\")\n",
    "print(f\"# compounds in filtered data set: {molecules_ro5_fulfilled.shape[0]}\")\n",
    "print(f\"# compounds not compliant with the Ro5: {molecules_ro5_violated.shape[0]}\")\n",
    "# NBVAL_CHECK_OUTPUT"
   ]
  },
  {
   "cell_type": "code",
   "execution_count": 15,
   "metadata": {},
   "outputs": [
    {
     "data": {
      "text/html": [
       "<div>\n",
       "<style scoped>\n",
       "    .dataframe tbody tr th:only-of-type {\n",
       "        vertical-align: middle;\n",
       "    }\n",
       "\n",
       "    .dataframe tbody tr th {\n",
       "        vertical-align: top;\n",
       "    }\n",
       "\n",
       "    .dataframe thead th {\n",
       "        text-align: right;\n",
       "    }\n",
       "</style>\n",
       "<table border=\"1\" class=\"dataframe\">\n",
       "  <thead>\n",
       "    <tr style=\"text-align: right;\">\n",
       "      <th></th>\n",
       "      <th>molecule_chembl_id</th>\n",
       "      <th>IC50</th>\n",
       "      <th>units</th>\n",
       "      <th>smiles</th>\n",
       "      <th>pIC50</th>\n",
       "      <th>molecular_weight</th>\n",
       "      <th>n_hba</th>\n",
       "      <th>n_hbd</th>\n",
       "      <th>logp</th>\n",
       "      <th>ro5_fulfilled</th>\n",
       "    </tr>\n",
       "  </thead>\n",
       "  <tbody>\n",
       "    <tr>\n",
       "      <th>0</th>\n",
       "      <td>CHEMBL63786</td>\n",
       "      <td>0.003</td>\n",
       "      <td>nM</td>\n",
       "      <td>Brc1cccc(Nc2ncnc3cc4ccccc4cc23)c1</td>\n",
       "      <td>11.522879</td>\n",
       "      <td>349.021459</td>\n",
       "      <td>3</td>\n",
       "      <td>1</td>\n",
       "      <td>5.2891</td>\n",
       "      <td>True</td>\n",
       "    </tr>\n",
       "    <tr>\n",
       "      <th>1</th>\n",
       "      <td>CHEMBL35820</td>\n",
       "      <td>0.006</td>\n",
       "      <td>nM</td>\n",
       "      <td>CCOc1cc2ncnc(Nc3cccc(Br)c3)c2cc1OCC</td>\n",
       "      <td>11.221849</td>\n",
       "      <td>387.058239</td>\n",
       "      <td>5</td>\n",
       "      <td>1</td>\n",
       "      <td>4.9333</td>\n",
       "      <td>True</td>\n",
       "    </tr>\n",
       "    <tr>\n",
       "      <th>2</th>\n",
       "      <td>CHEMBL53711</td>\n",
       "      <td>0.006</td>\n",
       "      <td>nM</td>\n",
       "      <td>CN(C)c1cc2c(Nc3cccc(Br)c3)ncnc2cn1</td>\n",
       "      <td>11.221849</td>\n",
       "      <td>343.043258</td>\n",
       "      <td>5</td>\n",
       "      <td>1</td>\n",
       "      <td>3.5969</td>\n",
       "      <td>True</td>\n",
       "    </tr>\n",
       "    <tr>\n",
       "      <th>3</th>\n",
       "      <td>CHEMBL66031</td>\n",
       "      <td>0.008</td>\n",
       "      <td>nM</td>\n",
       "      <td>Brc1cccc(Nc2ncnc3cc4[nH]cnc4cc23)c1</td>\n",
       "      <td>11.096910</td>\n",
       "      <td>339.011957</td>\n",
       "      <td>4</td>\n",
       "      <td>2</td>\n",
       "      <td>4.0122</td>\n",
       "      <td>True</td>\n",
       "    </tr>\n",
       "    <tr>\n",
       "      <th>4</th>\n",
       "      <td>CHEMBL53753</td>\n",
       "      <td>0.008</td>\n",
       "      <td>nM</td>\n",
       "      <td>CNc1cc2c(Nc3cccc(Br)c3)ncnc2cn1</td>\n",
       "      <td>11.096910</td>\n",
       "      <td>329.027607</td>\n",
       "      <td>5</td>\n",
       "      <td>2</td>\n",
       "      <td>3.5726</td>\n",
       "      <td>True</td>\n",
       "    </tr>\n",
       "  </tbody>\n",
       "</table>\n",
       "</div>"
      ],
      "text/plain": [
       "  molecule_chembl_id   IC50 units                               smiles  \\\n",
       "0        CHEMBL63786  0.003    nM    Brc1cccc(Nc2ncnc3cc4ccccc4cc23)c1   \n",
       "1        CHEMBL35820  0.006    nM  CCOc1cc2ncnc(Nc3cccc(Br)c3)c2cc1OCC   \n",
       "2        CHEMBL53711  0.006    nM   CN(C)c1cc2c(Nc3cccc(Br)c3)ncnc2cn1   \n",
       "3        CHEMBL66031  0.008    nM  Brc1cccc(Nc2ncnc3cc4[nH]cnc4cc23)c1   \n",
       "4        CHEMBL53753  0.008    nM      CNc1cc2c(Nc3cccc(Br)c3)ncnc2cn1   \n",
       "\n",
       "       pIC50  molecular_weight  n_hba  n_hbd    logp  ro5_fulfilled  \n",
       "0  11.522879        349.021459      3      1  5.2891           True  \n",
       "1  11.221849        387.058239      5      1  4.9333           True  \n",
       "2  11.221849        343.043258      5      1  3.5969           True  \n",
       "3  11.096910        339.011957      4      2  4.0122           True  \n",
       "4  11.096910        329.027607      5      2  3.5726           True  "
      ]
     },
     "execution_count": 15,
     "metadata": {},
     "output_type": "execute_result"
    }
   ],
   "source": [
    "# Save filtered data\n",
    "molecules_ro5_fulfilled.to_csv(DATA / \"EGFR_compounds_lipinski.csv\")\n",
    "molecules_ro5_fulfilled.head()"
   ]
  },
  {
   "cell_type": "markdown",
   "metadata": {},
   "source": [
    "### Visualize Ro5 properties (radar plot)"
   ]
  },
  {
   "cell_type": "markdown",
   "metadata": {},
   "source": [
    "#### Calculate statistics on Ro5 properties "
   ]
  },
  {
   "cell_type": "markdown",
   "metadata": {},
   "source": [
    "Define a helper function to calculate the mean and standard deviation for an input DataFrame."
   ]
  },
  {
   "cell_type": "code",
   "execution_count": 16,
   "metadata": {},
   "outputs": [],
   "source": [
    "def calculate_mean_std(dataframe):\n",
    "    \"\"\"\n",
    "    Calculate the mean and standard deviation of a dataset.\n",
    "\n",
    "    Parameters\n",
    "    ----------\n",
    "    dataframe : pd.DataFrame\n",
    "        Properties (columns) for a set of items (rows).\n",
    "\n",
    "    Returns\n",
    "    -------\n",
    "    pd.DataFrame\n",
    "        Mean and standard deviation (columns) for different properties (rows).\n",
    "    \"\"\"\n",
    "    # Generate descriptive statistics for property columns\n",
    "    stats = dataframe.describe()\n",
    "    # Transpose DataFrame (statistical measures = columns)\n",
    "    stats = stats.T\n",
    "    # Select mean and standard deviation\n",
    "    stats = stats[[\"mean\", \"std\"]]\n",
    "    return stats"
   ]
  },
  {
   "cell_type": "markdown",
   "metadata": {},
   "source": [
    "We calculate the statistic for the dataset of compounds that are __fulfilling the Ro5__."
   ]
  },
  {
   "cell_type": "code",
   "execution_count": 17,
   "metadata": {},
   "outputs": [
    {
     "data": {
      "text/html": [
       "<div>\n",
       "<style scoped>\n",
       "    .dataframe tbody tr th:only-of-type {\n",
       "        vertical-align: middle;\n",
       "    }\n",
       "\n",
       "    .dataframe tbody tr th {\n",
       "        vertical-align: top;\n",
       "    }\n",
       "\n",
       "    .dataframe thead th {\n",
       "        text-align: right;\n",
       "    }\n",
       "</style>\n",
       "<table border=\"1\" class=\"dataframe\">\n",
       "  <thead>\n",
       "    <tr style=\"text-align: right;\">\n",
       "      <th></th>\n",
       "      <th>mean</th>\n",
       "      <th>std</th>\n",
       "    </tr>\n",
       "  </thead>\n",
       "  <tbody>\n",
       "    <tr>\n",
       "      <th>molecular_weight</th>\n",
       "      <td>414.439011</td>\n",
       "      <td>87.985100</td>\n",
       "    </tr>\n",
       "    <tr>\n",
       "      <th>n_hba</th>\n",
       "      <td>5.996548</td>\n",
       "      <td>1.875491</td>\n",
       "    </tr>\n",
       "    <tr>\n",
       "      <th>n_hbd</th>\n",
       "      <td>1.889968</td>\n",
       "      <td>1.008368</td>\n",
       "    </tr>\n",
       "    <tr>\n",
       "      <th>logp</th>\n",
       "      <td>4.070568</td>\n",
       "      <td>1.193034</td>\n",
       "    </tr>\n",
       "  </tbody>\n",
       "</table>\n",
       "</div>"
      ],
      "text/plain": [
       "                        mean        std\n",
       "molecular_weight  414.439011  87.985100\n",
       "n_hba               5.996548   1.875491\n",
       "n_hbd               1.889968   1.008368\n",
       "logp                4.070568   1.193034"
      ]
     },
     "execution_count": 17,
     "metadata": {},
     "output_type": "execute_result"
    }
   ],
   "source": [
    "molecules_ro5_fulfilled_stats = calculate_mean_std(\n",
    "    molecules_ro5_fulfilled[[\"molecular_weight\", \"n_hba\", \"n_hbd\", \"logp\"]]\n",
    ")\n",
    "molecules_ro5_fulfilled_stats\n",
    "# NBVAL_CHECK_OUTPUT"
   ]
  },
  {
   "cell_type": "markdown",
   "metadata": {},
   "source": [
    "We calculate the statistic for the dataset of compounds that are __violating the Ro5__."
   ]
  },
  {
   "cell_type": "code",
   "execution_count": 18,
   "metadata": {},
   "outputs": [
    {
     "data": {
      "text/html": [
       "<div>\n",
       "<style scoped>\n",
       "    .dataframe tbody tr th:only-of-type {\n",
       "        vertical-align: middle;\n",
       "    }\n",
       "\n",
       "    .dataframe tbody tr th {\n",
       "        vertical-align: top;\n",
       "    }\n",
       "\n",
       "    .dataframe thead th {\n",
       "        text-align: right;\n",
       "    }\n",
       "</style>\n",
       "<table border=\"1\" class=\"dataframe\">\n",
       "  <thead>\n",
       "    <tr style=\"text-align: right;\">\n",
       "      <th></th>\n",
       "      <th>mean</th>\n",
       "      <th>std</th>\n",
       "    </tr>\n",
       "  </thead>\n",
       "  <tbody>\n",
       "    <tr>\n",
       "      <th>molecular_weight</th>\n",
       "      <td>587.961963</td>\n",
       "      <td>101.999229</td>\n",
       "    </tr>\n",
       "    <tr>\n",
       "      <th>n_hba</th>\n",
       "      <td>7.963558</td>\n",
       "      <td>2.373576</td>\n",
       "    </tr>\n",
       "    <tr>\n",
       "      <th>n_hbd</th>\n",
       "      <td>2.301179</td>\n",
       "      <td>1.719732</td>\n",
       "    </tr>\n",
       "    <tr>\n",
       "      <th>logp</th>\n",
       "      <td>5.973461</td>\n",
       "      <td>1.430636</td>\n",
       "    </tr>\n",
       "  </tbody>\n",
       "</table>\n",
       "</div>"
      ],
      "text/plain": [
       "                        mean         std\n",
       "molecular_weight  587.961963  101.999229\n",
       "n_hba               7.963558    2.373576\n",
       "n_hbd               2.301179    1.719732\n",
       "logp                5.973461    1.430636"
      ]
     },
     "execution_count": 18,
     "metadata": {},
     "output_type": "execute_result"
    }
   ],
   "source": [
    "molecules_ro5_violated_stats = calculate_mean_std(\n",
    "    molecules_ro5_violated[[\"molecular_weight\", \"n_hba\", \"n_hbd\", \"logp\"]]\n",
    ")\n",
    "molecules_ro5_violated_stats"
   ]
  },
  {
   "cell_type": "markdown",
   "metadata": {},
   "source": [
    "#### Define helper functions to prepare data for radar plotting"
   ]
  },
  {
   "cell_type": "markdown",
   "metadata": {},
   "source": [
    "In the following, we will define a few helper functions that are only used for radar plotting."
   ]
  },
  {
   "cell_type": "markdown",
   "metadata": {},
   "source": [
    "__Prepare y values__: \n",
    "The properties used for the Ro5 criteria are of different magnitudes. \n",
    "The MWT has a __threshold of 500__, whereas the number of HBAs and HBDs and the LogP have __thresholds of only 10, 5, and 5__, respectively. In order to visualize these different scales most simplistically, we will scale all property values to a __scaled threshold of 5__:\n",
    "\n",
    "`scaled property value` = `property value` / `property threshold` * `scaled property threshold`\n",
    "\n",
    "- scaled MWT = MWT / 500 * 5 = MWT / 100\n",
    "- scaled HBA = HBA / 10 * 5 = HBA / 2\n",
    "- scaled HBD = HBD / 5 * 5 = HBD\n",
    "- scaled LogP = LogP / 5 * 5 = LogP\n",
    "\n",
    "This results in a downscaling of the MWT by 100, HBA by 2, while HBD and LogP stay unchanged.\n",
    "\n",
    "The following helper function performs such a scaling and will be used later during radar plotting."
   ]
  },
  {
   "cell_type": "code",
   "execution_count": 19,
   "metadata": {},
   "outputs": [],
   "source": [
    "def _scale_by_thresholds(stats, thresholds, scaled_threshold):\n",
    "    \"\"\"\n",
    "    Scale values for different properties that have each an individually defined threshold.\n",
    "\n",
    "    Parameters\n",
    "    ----------\n",
    "    stats : pd.DataFrame\n",
    "        Dataframe with \"mean\" and \"std\" (columns) for each physicochemical property (rows).\n",
    "    thresholds : dict of str: int\n",
    "        Thresholds defined for each property.\n",
    "    scaled_threshold : int or float\n",
    "        Scaled thresholds across all properties.\n",
    "\n",
    "    Returns\n",
    "    -------\n",
    "    pd.DataFrame\n",
    "        DataFrame with scaled means and standard deviations for each physiochemical property.\n",
    "    \"\"\"\n",
    "    # Raise error if scaling keys and data_stats indicies are not matching\n",
    "    for property_name in stats.index:\n",
    "        if property_name not in thresholds.keys():\n",
    "            raise KeyError(f\"Add property '{property_name}' to scaling variable.\")\n",
    "    # Scale property data\n",
    "    stats_scaled = stats.apply(lambda x: x / thresholds[x.name] * scaled_threshold, axis=1)\n",
    "    return stats_scaled"
   ]
  },
  {
   "cell_type": "markdown",
   "metadata": {},
   "source": [
    "__Prepare x values:__\n",
    "The following helper function returns the __angles of the physicochemical property axes for the radar chart__. For example, if we want to generate a radar plot for 4 properties, we want to set the axes at 0°, 90°, 180°, and 270°. The helper function returns such angles as radians."
   ]
  },
  {
   "cell_type": "code",
   "execution_count": 20,
   "metadata": {},
   "outputs": [],
   "source": [
    "def _define_radial_axes_angles(n_axes):\n",
    "    \"\"\"Define angles (radians) for radial (x-)axes depending on the number of axes.\"\"\"\n",
    "    x_angles = [i / float(n_axes) * 2 * math.pi for i in range(n_axes)]\n",
    "    x_angles += x_angles[:1]\n",
    "    return x_angles"
   ]
  },
  {
   "cell_type": "markdown",
   "metadata": {},
   "source": [
    "Both functions will be used as helper functions in the radar plotting function, which is defined next."
   ]
  },
  {
   "cell_type": "markdown",
   "metadata": {},
   "source": [
    "#### Generate radar plots, finally!"
   ]
  },
  {
   "cell_type": "markdown",
   "metadata": {},
   "source": [
    "Now, we define a function that visualizes the compounds' chemical properties in the form of a radar chart. \n",
    "We followed [these instructions on stackoverflow](https://stackoverflow.com/questions/42227409/tutorial-for-python-radar-chart-plot)."
   ]
  },
  {
   "cell_type": "code",
   "execution_count": 24,
   "metadata": {},
   "outputs": [],
   "source": [
    "def plot_radar(\n",
    "    y,\n",
    "    thresholds,\n",
    "    scaled_threshold,\n",
    "    properties_labels,\n",
    "    y_max=None,\n",
    "    output_path=None,\n",
    "):\n",
    "    \"\"\"\n",
    "    Plot a radar chart based on the mean and standard deviation of a data set's properties.\n",
    "\n",
    "    Parameters\n",
    "    ----------\n",
    "    y : pd.DataFrame\n",
    "        Dataframe with \"mean\" and \"std\" (columns) for each physicochemical property (rows).\n",
    "    thresholds : dict of str: int\n",
    "        Thresholds defined for each property.\n",
    "    scaled_threshold : int or float\n",
    "        Scaled thresholds across all properties.\n",
    "    properties_labels : list of str\n",
    "        List of property names to be used as labels in the plot.\n",
    "    y_max : None or int or float\n",
    "        Set maximum y value. If None, let matplotlib decide.\n",
    "    output_path : None or pathlib.Path\n",
    "        If not None, save plot to file.\n",
    "    \"\"\"\n",
    "\n",
    "    # Define radial x-axes angles -- uses our helper function!\n",
    "    x = _define_radial_axes_angles(len(y))\n",
    "    # Scale y-axis values with respect to a defined threshold -- uses our helper function!\n",
    "    y = _scale_by_thresholds(y, thresholds, scaled_threshold)\n",
    "    # Since our chart will be circular we append the first value of each property to the end\n",
    "    # y = y.append(y.iloc[0])\n",
    "    y = pd.concat([y, y.iloc[[0]]], ignore_index=True)\n",
    "\n",
    "    # Set figure and subplot axis\n",
    "    plt.figure(figsize=(6, 6))\n",
    "    ax = plt.subplot(111, polar=True)\n",
    "\n",
    "    # Plot data\n",
    "    ax.fill(x, [scaled_threshold] * 5, \"cornflowerblue\", alpha=0.2)\n",
    "    ax.plot(x, y[\"mean\"], \"b\", lw=3, ls=\"-\")\n",
    "    ax.plot(x, y[\"mean\"] + y[\"std\"], \"orange\", lw=2, ls=\"--\")\n",
    "    ax.plot(x, y[\"mean\"] - y[\"std\"], \"orange\", lw=2, ls=\"-.\")\n",
    "\n",
    "    # From here on, we only do plot cosmetics\n",
    "    # Set 0° to 12 o'clock\n",
    "    ax.set_theta_offset(math.pi / 2)\n",
    "    # Set clockwise rotation\n",
    "    ax.set_theta_direction(-1)\n",
    "\n",
    "    # Set y-labels next to 180° radius axis\n",
    "    ax.set_rlabel_position(180)\n",
    "    # Set number of radial axes' ticks and remove labels\n",
    "    plt.xticks(x, [])\n",
    "    # Get maximal y-ticks value\n",
    "    if not y_max:\n",
    "        y_max = int(ax.get_yticks()[-1])\n",
    "    # Set axes limits\n",
    "    plt.ylim(0, y_max)\n",
    "    # Set number and labels of y axis ticks\n",
    "    plt.yticks(\n",
    "        range(1, y_max),\n",
    "        [\"5\" if i == scaled_threshold else \"\" for i in range(1, y_max)],\n",
    "        fontsize=16,\n",
    "    )\n",
    "\n",
    "    # Draw ytick labels to make sure they fit properly\n",
    "    # Note that we use [:1] to exclude the last element which equals the first element (not needed here)\n",
    "    for i, (angle, label) in enumerate(zip(x[:-1], properties_labels)):\n",
    "        if angle == 0:\n",
    "            ha = \"center\"\n",
    "        elif 0 < angle < math.pi:\n",
    "            ha = \"left\"\n",
    "        elif angle == math.pi:\n",
    "            ha = \"center\"\n",
    "        else:\n",
    "            ha = \"right\"\n",
    "        ax.text(\n",
    "            x=angle,\n",
    "            y=y_max + 1,\n",
    "            s=label,\n",
    "            size=16,\n",
    "            horizontalalignment=ha,\n",
    "            verticalalignment=\"center\",\n",
    "        )\n",
    "\n",
    "    # Add legend relative to top-left plot\n",
    "    labels = (\"mean\", \"mean + std\", \"mean - std\", \"rule of five area\")\n",
    "    ax.legend(labels, loc=(1.1, 0.7), labelspacing=0.3, fontsize=16)\n",
    "\n",
    "    # Save plot - use bbox_inches to include text boxes\n",
    "    if output_path:\n",
    "        plt.savefig(output_path, dpi=300, bbox_inches=\"tight\", transparent=True)\n",
    "\n",
    "    plt.show()"
   ]
  },
  {
   "cell_type": "markdown",
   "metadata": {},
   "source": [
    "In the following, we want to plot the radar chart for our two datasets:\n",
    "1. Compounds that fulfill the Ro5\n",
    "2. Compounds that violate the Ro5\n",
    "\n",
    "Define input parameters that should stay the same for both radar charts:"
   ]
  },
  {
   "cell_type": "code",
   "execution_count": 25,
   "metadata": {},
   "outputs": [],
   "source": [
    "thresholds = {\"molecular_weight\": 500, \"n_hba\": 10, \"n_hbd\": 5, \"logp\": 5}\n",
    "scaled_threshold = 5\n",
    "properties_labels = [\n",
    "    \"Molecular weight (Da) / 100\",\n",
    "    \"# HBA / 2\",\n",
    "    \"# HBD\",\n",
    "    \"LogP\",\n",
    "]\n",
    "y_max = 8"
   ]
  },
  {
   "cell_type": "markdown",
   "metadata": {},
   "source": [
    "1. We plot the radarplot for the dataset of compounds that __fulfill the Ro5__."
   ]
  },
  {
   "cell_type": "code",
   "execution_count": 26,
   "metadata": {},
   "outputs": [
    {
     "data": {
      "image/png": "[encoded data removed]",
      "text/plain": [
       "<Figure size 600x600 with 1 Axes>"
      ]
     },
     "metadata": {},
     "output_type": "display_data"
    }
   ],
   "source": [
    "plot_radar(\n",
    "    molecules_ro5_fulfilled_stats,\n",
    "    thresholds,\n",
    "    scaled_threshold,\n",
    "    properties_labels,\n",
    "    y_max,\n",
    ")"
   ]
  },
  {
   "cell_type": "markdown",
   "metadata": {},
   "source": [
    "The blue square shows the area where a molecule's physicochemical properties are compliant with the Ro5. \n",
    "The blue line highlights the mean values, while the orange dashed lines show the standard deviations. \n",
    "We can see that the mean values never violate any of Lipinski's rules. \n",
    "However, according to the standard deviation, some properties have larger values then the Ro5 thresholds. \n",
    "This is acceptable because, according to the Ro5, one of the four rules can be violated."
   ]
  },
  {
   "cell_type": "markdown",
   "metadata": {},
   "source": [
    "2. We plot the radarplot for the dataset of compounds that __violate the Ro5__."
   ]
  },
  {
   "cell_type": "code",
   "execution_count": null,
   "metadata": {
    "tags": [
     "nbsphinx-thumbnail"
    ]
   },
   "outputs": [],
   "source": [
    "plot_radar(\n",
    "    molecules_ro5_violated_stats,\n",
    "    thresholds,\n",
    "    scaled_threshold,\n",
    "    properties_labels,\n",
    "    y_max,\n",
    ")"
   ]
  },
  {
   "cell_type": "markdown",
   "metadata": {},
   "source": [
    "We see that compounds mostly violate the Ro5 because of their logP values and their molecular weight."
   ]
  },
  {
   "cell_type": "markdown",
   "metadata": {},
   "source": [
    "## Discussion\n",
    "\n",
    "In this talktorial, we have learned about Lipinski's Ro5 as a measure to estimate a compound's oral bioavailability and we have applied the rule on a dataset using `rdkit`.\n",
    "Note that drugs can also be administered via alternative routes, i.e. inhalation, skin penetration and injection. \n",
    "\n",
    "In this talktorial, we have looked at only one of many more ADME properties. Webservers such as [SwissADME](https://www.nature.com/articles/srep42717) give a more comprehensive view on compound properties."
   ]
  },
  {
   "cell_type": "markdown",
   "metadata": {},
   "source": [
    "## Quiz\n",
    "* In what way can the chemical properties described by the Ro5 affect ADME?\n",
    "* Find or design a molecule which violates three or four rules. \n",
    "* How can you plot information for an additional molecule in the radar charts that we have created in this talktorial?"
   ]
  }
 ],
 "metadata": {
  "kernelspec": {
   "display_name": "Python 3 (ipykernel)",
   "language": "python",
   "name": "python3"
  },
  "language_info": {
   "codemirror_mode": {
    "name": "ipython",
    "version": 3
   },
   "file_extension": ".py",
   "mimetype": "text/x-python",
   "name": "python",
   "nbconvert_exporter": "python",
   "pygments_lexer": "ipython3",
   "version": "3.12.11"
  },
  "widgets": {
   "application/vnd.jupyter.widget-state+json": {
    "state": {},
    "version_major": 2,
    "version_minor": 0
   }
  }
 },
 "nbformat": 4,
 "nbformat_minor": 4
}
